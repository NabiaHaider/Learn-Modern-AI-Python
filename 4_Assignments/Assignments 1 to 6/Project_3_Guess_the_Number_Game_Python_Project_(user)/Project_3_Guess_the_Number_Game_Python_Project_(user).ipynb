{
  "nbformat": 4,
  "nbformat_minor": 0,
  "metadata": {
    "colab": {
      "provenance": []
    },
    "kernelspec": {
      "name": "python3",
      "display_name": "Python 3"
    },
    "language_info": {
      "name": "python"
    }
  },
  "cells": [
    {
      "cell_type": "code",
      "execution_count": 1,
      "metadata": {
        "colab": {
          "base_uri": "https://localhost:8080/"
        },
        "id": "0lLmysdaWq0T",
        "outputId": "5e0340a3-fb36-431f-c960-53b089938195"
      },
      "outputs": [
        {
          "output_type": "stream",
          "name": "stdout",
          "text": [
            "Think of a number between 1 and 100, and I'll try to guess it!\n",
            "Is your number 17? (Enter 'h' if it's higher, 'l' if it's lower, 'c' if it's correct): h\n",
            "Is your number 80? (Enter 'h' if it's higher, 'l' if it's lower, 'c' if it's correct): c\n",
            "Yay! I guessed your number 80 in 2 attempts! 🎉\n"
          ]
        }
      ],
      "source": [
        "import random\n",
        "\n",
        "def computer_guess():\n",
        "    print(\"Think of a number between 1 and 100, and I'll try to guess it!\")\n",
        "\n",
        "    lower_bound = 1  # Minimum value\n",
        "    upper_bound = 100  # Maximum value\n",
        "    attempts = 0  # Counter for attempts\n",
        "\n",
        "    while True:\n",
        "        guess = random.randint(lower_bound, upper_bound)  # Computer makes a guess\n",
        "        attempts += 1  # Count the attempt\n",
        "\n",
        "        # Ask the user for feedback\n",
        "        feedback = input(f\"Is your number {guess}? (Enter 'h' if it's higher, 'l' if it's lower, 'c' if it's correct): \").lower()\n",
        "\n",
        "        if feedback == 'c':  # Correct guess\n",
        "            print(f\"Yay! I guessed your number {guess} in {attempts} attempts! 🎉\")\n",
        "            break\n",
        "        elif feedback == 'h':  # The number is higher\n",
        "            lower_bound = guess + 1\n",
        "        elif feedback == 'l':  # The number is lower\n",
        "            upper_bound = guess - 1\n",
        "        else:\n",
        "            print(\"Invalid input! Please enter 'h' for higher, 'l' for lower, or 'c' for correct.\")\n",
        "\n",
        "computer_guess()\n"
      ]
    }
  ]
}