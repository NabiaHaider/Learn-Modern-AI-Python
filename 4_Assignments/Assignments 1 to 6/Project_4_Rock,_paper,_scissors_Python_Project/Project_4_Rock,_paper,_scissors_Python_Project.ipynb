{
  "nbformat": 4,
  "nbformat_minor": 0,
  "metadata": {
    "colab": {
      "provenance": []
    },
    "kernelspec": {
      "name": "python3",
      "display_name": "Python 3"
    },
    "language_info": {
      "name": "python"
    }
  },
  "cells": [
    {
      "cell_type": "code",
      "source": [
        "import random\n",
        "\n",
        "def get_computer_choice():\n",
        "    \"\"\"Returns the computer's choice of rock, paper, or scissors.\"\"\"\n",
        "    choices = [\"rock\", \"paper\", \"scissors\"]\n",
        "    return random.choice(choices)\n",
        "\n",
        "def get_user_choice():\n",
        "    \"\"\"Prompts the user to input their choice.\"\"\"\n",
        "    while True:\n",
        "        user_choice = input(\"Enter your choice (rock, paper, or scissors): \").lower()\n",
        "        if user_choice in [\"rock\", \"paper\", \"scissors\"]:\n",
        "            return user_choice\n",
        "        else:\n",
        "            print(\"Invalid choice. Please choose 'rock', 'paper', or 'scissors'.\")\n",
        "\n",
        "def determine_winner(user_choice, computer_choice):\n",
        "    \"\"\"Determines the winner based on the rules of Rock, Paper, Scissors.\"\"\"\n",
        "    if user_choice == computer_choice:\n",
        "        return \"It's a tie!\"\n",
        "    elif (user_choice == \"rock\" and computer_choice == \"scissors\") or \\\n",
        "         (user_choice == \"paper\" and computer_choice == \"rock\") or \\\n",
        "         (user_choice == \"scissors\" and computer_choice == \"paper\"):\n",
        "        return \"You win!\"\n",
        "    else:\n",
        "        return \"You lose!\"\n",
        "\n",
        "def play_game():\n",
        "    \"\"\"Plays one round of Rock, Paper, Scissors.\"\"\"\n",
        "    user_choice = get_user_choice()\n",
        "    computer_choice = get_computer_choice()\n",
        "\n",
        "    print(f\"\\nYou chose {user_choice}\")\n",
        "    print(f\"The computer chose {computer_choice}\")\n",
        "\n",
        "    result = determine_winner(user_choice, computer_choice)\n",
        "    print(result)\n",
        "\n",
        "def main():\n",
        "    print(\"Welcome to Rock, Paper, Scissors!\")\n",
        "\n",
        "    while True:\n",
        "        play_game()\n",
        "\n",
        "        # Ask if the player wants to play again\n",
        "        play_again = input(\"\\nDo you want to play again? (yes/no): \").lower()\n",
        "        if play_again != \"yes\":\n",
        "            print(\"Thanks for playing!\")\n",
        "            break\n",
        "\n",
        "if __name__ == \"__main__\":\n",
        "    main()\n"
      ],
      "metadata": {
        "colab": {
          "base_uri": "https://localhost:8080/"
        },
        "id": "QkHe9lEd2Ri8",
        "outputId": "7b05c729-e1a7-4eec-a9c9-b3c399cc09f8"
      },
      "execution_count": 8,
      "outputs": [
        {
          "output_type": "stream",
          "name": "stdout",
          "text": [
            "Welcome to Rock, Paper, Scissors!\n",
            "Enter your choice (rock, paper, or scissors): paper\n",
            "\n",
            "You chose paper\n",
            "The computer chose scissors\n",
            "You lose!\n",
            "\n",
            "Do you want to play again? (yes/no): yes\n",
            "Enter your choice (rock, paper, or scissors): rock\n",
            "\n",
            "You chose rock\n",
            "The computer chose paper\n",
            "You lose!\n",
            "\n",
            "Do you want to play again? (yes/no): yes\n",
            "Enter your choice (rock, paper, or scissors): paper\n",
            "\n",
            "You chose paper\n",
            "The computer chose rock\n",
            "You win!\n",
            "\n",
            "Do you want to play again? (yes/no): no\n",
            "Thanks for playing!\n"
          ]
        }
      ]
    }
  ]
}