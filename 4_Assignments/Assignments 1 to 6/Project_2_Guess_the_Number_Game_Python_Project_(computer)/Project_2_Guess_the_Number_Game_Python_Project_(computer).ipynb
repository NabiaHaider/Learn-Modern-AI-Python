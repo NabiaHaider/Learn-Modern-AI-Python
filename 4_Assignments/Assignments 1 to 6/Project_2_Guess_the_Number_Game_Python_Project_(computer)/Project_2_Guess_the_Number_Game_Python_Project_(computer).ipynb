{
  "nbformat": 4,
  "nbformat_minor": 0,
  "metadata": {
    "colab": {
      "provenance": []
    },
    "kernelspec": {
      "name": "python3",
      "display_name": "Python 3"
    },
    "language_info": {
      "name": "python"
    }
  },
  "cells": [
    {
      "cell_type": "code",
      "source": [
        "import random  # Import the random module to generate a random number\n",
        "\n",
        "def guess_the_number():\n",
        "    print(\"Welcome to Guess the Number!\")  # Welcome message for the player\n",
        "\n",
        "    # Define the range for the random number\n",
        "    lower_bound = 1   # Lower limit of the number range\n",
        "    upper_bound = 100 # Upper limit of the number range\n",
        "\n",
        "    # Generate a random number between the lower and upper bounds\n",
        "    secret_number = random.randint(lower_bound, upper_bound)\n",
        "\n",
        "    attempts = 0  # Variable to count the number of attempts\n",
        "\n",
        "    # Start the game loop\n",
        "    while True:\n",
        "        try:\n",
        "            # Ask the user to guess a number\n",
        "            guess = int(input(f\"Guess a number between {lower_bound} and {upper_bound}: \"))\n",
        "            attempts += 1  # Increase the attempt count\n",
        "\n",
        "            # Check if the guess is outside the valid range\n",
        "            if guess < lower_bound or guess > upper_bound:\n",
        "                print(\"Out of range! Try again.\")  # Warn the user if the guess is out of range\n",
        "                continue  # Skip to the next iteration\n",
        "\n",
        "            # Check if the guess is too low\n",
        "            if guess < secret_number:\n",
        "                print(\"Too low! Try again.\")\n",
        "\n",
        "            # Check if the guess is too high\n",
        "            elif guess > secret_number:\n",
        "                print(\"Too high! Try again.\")\n",
        "\n",
        "            # If the guess is correct, the game ends\n",
        "            else:\n",
        "                print(f\"Congratulations! You guessed the number {secret_number} in {attempts} attempts.\")\n",
        "                break  # Exit the loop\n",
        "\n",
        "        # Handle invalid inputs (e.g., entering text instead of a number)\n",
        "        except ValueError:\n",
        "            print(\"Invalid input! Please enter a number.\")\n",
        "\n",
        "# Start the game\n",
        "guess_the_number()\n"
      ],
      "metadata": {
        "colab": {
          "base_uri": "https://localhost:8080/"
        },
        "id": "6sIL6GrUVJkG",
        "outputId": "bbc0537d-24e3-415e-84dc-19d583aa9912"
      },
      "execution_count": null,
      "outputs": [
        {
          "output_type": "stream",
          "name": "stdout",
          "text": [
            "Welcome to Guess the Number!\n",
            "Guess a number between 1 and 100: 55\n",
            "Too low! Try again.\n",
            "Guess a number between 1 and 100: 34\n",
            "Too low! Try again.\n",
            "Guess a number between 1 and 100: 97\n",
            "Too high! Try again.\n",
            "Guess a number between 1 and 100: 26\n",
            "Too low! Try again.\n",
            "Guess a number between 1 and 100: 77\n",
            "Too low! Try again.\n",
            "Guess a number between 1 and 100: 12\n",
            "Too low! Try again.\n",
            "Guess a number between 1 and 100: 91\n",
            "Too high! Try again.\n",
            "Guess a number between 1 and 100: 100\n",
            "Too high! Try again.\n"
          ]
        }
      ]
    }
  ]
}