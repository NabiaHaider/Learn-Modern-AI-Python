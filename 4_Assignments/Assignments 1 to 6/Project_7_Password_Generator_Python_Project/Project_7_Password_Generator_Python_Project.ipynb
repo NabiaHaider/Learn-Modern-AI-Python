{
  "nbformat": 4,
  "nbformat_minor": 0,
  "metadata": {
    "colab": {
      "provenance": []
    },
    "kernelspec": {
      "name": "python3",
      "display_name": "Python 3"
    },
    "language_info": {
      "name": "python"
    }
  },
  "cells": [
    {
      "cell_type": "code",
      "source": [
        "import random  # To generate random choices\n",
        "import string  # To use pre-defined character sets\n",
        "\n",
        "# Function to generate password\n",
        "def generate_password(length=12, use_uppercase=True, use_numbers=True, use_special_chars=True):\n",
        "    # Define the characters for the password\n",
        "    lowercase_chars = string.ascii_lowercase  # Small letters (a-z)\n",
        "    uppercase_chars = string.ascii_uppercase if use_uppercase else ''  # Uppercase letters (A-Z)\n",
        "    number_chars = string.digits if use_numbers else ''  # Numbers (0-9)\n",
        "    special_chars = string.punctuation if use_special_chars else ''  # Special characters like @, #, etc.\n",
        "\n",
        "    # Combine all chosen characters into one list\n",
        "    all_chars = lowercase_chars + uppercase_chars + number_chars + special_chars\n",
        "\n",
        "    # If no characters are selected, return an error\n",
        "    if not all_chars:\n",
        "        return \"Error: No character set selected!\"\n",
        "\n",
        "    # Create the password by randomly choosing characters\n",
        "    password = ''.join(random.choice(all_chars) for _ in range(length))\n",
        "\n",
        "    return password\n",
        "\n",
        "# Get user input for password settings\n",
        "length = int(input(\"Enter password length: \"))  # Ask user how long the password should be\n",
        "use_uppercase = input(\"Include uppercase letters? (y/n): \").strip().lower() == 'y'  # Ask if uppercase is needed\n",
        "use_numbers = input(\"Include numbers? (y/n): \").strip().lower() == 'y'  # Ask if numbers are needed\n",
        "use_special_chars = input(\"Include special characters? (y/n): \").strip().lower() == 'y'  # Ask if special characters are needed\n",
        "\n",
        "# Call the function to generate the password and print it\n",
        "password = generate_password(length, use_uppercase, use_numbers, use_special_chars)\n",
        "print(\"Generated Password:\", password)"
      ],
      "metadata": {
        "colab": {
          "base_uri": "https://localhost:8080/"
        },
        "id": "lG0zKbPn5hE6",
        "outputId": "5e2e6140-48bb-440c-a6fd-7d74727daf60"
      },
      "execution_count": 3,
      "outputs": [
        {
          "output_type": "stream",
          "name": "stdout",
          "text": [
            "Enter password length: 9\n",
            "Include uppercase letters? (y/n): y\n",
            "Include numbers? (y/n): y\n",
            "Include special characters? (y/n): n\n",
            "Generated Password: cxwgusU8q\n"
          ]
        }
      ]
    },
    {
      "cell_type": "code",
      "source": [],
      "metadata": {
        "id": "2Is1qJqh5mRp"
      },
      "execution_count": null,
      "outputs": []
    },
    {
      "cell_type": "code",
      "source": [
        "import random  # Random cheezen choose karne ke liye\n",
        "import string  # Characters ka set use karne ke liye\n",
        "\n",
        "# Password generate karne ka function\n",
        "def generate_password(length=12, use_uppercase=True, use_numbers=True, use_special_chars=True):\n",
        "    # Password ke liye characters define karna\n",
        "    lowercase_chars = string.ascii_lowercase  # Chhoti a-z letters\n",
        "    uppercase_chars = string.ascii_uppercase if use_uppercase else ''  # Badi A-Z letters\n",
        "    number_chars = string.digits if use_numbers else ''  # Numbers 0-9\n",
        "    special_chars = string.punctuation if use_special_chars else ''  # Special characters jaise @, #, etc.\n",
        "\n",
        "    # Sab characters ko ek saath jodna\n",
        "    all_chars = lowercase_chars + uppercase_chars + number_chars + special_chars\n",
        "\n",
        "    # Agar koi character nahi choose kiya gaya, to error dikhana\n",
        "    if not all_chars:\n",
        "        return \"Error: No character set selected!\"\n",
        "\n",
        "    # Password ko random choose kar ke banana\n",
        "    password = ''.join(random.choice(all_chars) for _ in range(length))\n",
        "\n",
        "    return password\n",
        "\n",
        "# User se input lena\n",
        "length = int(input(\"Enter password length: \"))  # Password ki lambaai kitni chahiye\n",
        "use_uppercase = input(\"Include uppercase letters? (y/n): \").strip().lower() == 'y'  # Uppercase chahiye ya nahi\n",
        "use_numbers = input(\"Include numbers? (y/n): \").strip().lower() == 'y'  # Numbers chahiye ya nahi\n",
        "use_special_chars = input(\"Include special characters? (y/n): \").strip().lower() == 'y'  # Special characters chahiye ya nahi\n",
        "\n",
        "# Password generate karna aur print karna\n",
        "password = generate_password(length, use_uppercase, use_numbers, use_special_chars)\n",
        "print(\"Generated Password:\", password)\n"
      ],
      "metadata": {
        "colab": {
          "base_uri": "https://localhost:8080/"
        },
        "id": "JrcgCEdV5qZh",
        "outputId": "ff031151-cb17-40b0-eaf1-9187022660ac"
      },
      "execution_count": 5,
      "outputs": [
        {
          "output_type": "stream",
          "name": "stdout",
          "text": [
            "Enter password length: 5\n",
            "Include uppercase letters? (y/n): y\n",
            "Include numbers? (y/n): n\n",
            "Include special characters? (y/n): n\n",
            "Generated Password: zxoTl\n"
          ]
        }
      ]
    }
  ]
}