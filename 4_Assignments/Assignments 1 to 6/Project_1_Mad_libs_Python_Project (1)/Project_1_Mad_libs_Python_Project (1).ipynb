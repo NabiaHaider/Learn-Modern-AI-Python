{
  "nbformat": 4,
  "nbformat_minor": 0,
  "metadata": {
    "colab": {
      "provenance": []
    },
    "kernelspec": {
      "name": "python3",
      "display_name": "Python 3"
    },
    "language_info": {
      "name": "python"
    }
  },
  "cells": [
    {
      "cell_type": "code",
      "source": [
        "def Madlib():\n",
        "    # Taking user inputs for name, age, hobby, favorite food, place, and emotion\n",
        "    name = input(\"Enter Your Name: \")\n",
        "    age = input(\"Enter your Age: \")\n",
        "    hobby = input(\"Enter your Hobby: 🎨, ⚽, 🎸, 📚, 🚴, 🏊\")\n",
        "    fav_food = input(\"Enter Your Favorite Food: 🍟\")\n",
        "    place = input(\"Enter Your Favorite Place: ✈\")\n",
        "    emotion = input(\"Enter an emotion like (Happy or Angry): 😊😡\")\n",
        "\n",
        "     # Creating a fun story using user inputs\n",
        "    story = f\"Once upon a time, {name}, who was {age} years old, loved {hobby}. One day, they went to {place} feeling very {emotion}. There, they found a magical feast of {fav_food}, which made their day even more special!\"\n",
        "      # Displaying the generated Mad Libs story\n",
        "    print(\"\\nHere is your Mad Libs story:\")\n",
        "    print(story)\n",
        "\n",
        "if __name__ == \"__main__\":\n",
        "    Madlib()\n"
      ],
      "metadata": {
        "colab": {
          "base_uri": "https://localhost:8080/"
        },
        "id": "Lt0o6rHDP7WO",
        "outputId": "c5bc4de4-4c74-42f1-996c-f5374b7827bb"
      },
      "execution_count": 3,
      "outputs": [
        {
          "output_type": "stream",
          "name": "stdout",
          "text": [
            "Enter Your Name: Nabia\n",
            "Enter your Age: 20\n",
            "Enter your Hobby: 🎨, ⚽, 🎸, 📚, 🚴, 🏊reading\n",
            "Enter Your Favorite Food: 🍟biryani\n",
            "Enter Your Favorite Place: ✈Maldives\n",
            "Enter an emotion like (Happy or Angry): 😊😡Happy\n",
            "\n",
            "Here is your Mad Libs story:\n",
            "Once upon a time, Nabia, who was 20 years old, loved reading. One day, they went to Maldives feeling very Happy. There, they found a magical feast of biryani, which made their day even more special!\n"
          ]
        }
      ]
    }
  ]
}