{
  "nbformat": 4,
  "nbformat_minor": 0,
  "metadata": {
    "colab": {
      "provenance": []
    },
    "kernelspec": {
      "name": "python3",
      "display_name": "Python 3"
    },
    "language_info": {
      "name": "python"
    }
  },
  "cells": [
    {
      "cell_type": "code",
      "source": [
        "import random  # Importing the random module to choose a word randomly from a list\n",
        "\n",
        "# Function to choose a random word from a predefined list\n",
        "def choose_word():\n",
        "    word_list = [\"python\", \"hangman\", \"programming\", \"developer\", \"computer\", \"software\"]  # List of words to choose from\n",
        "    return random.choice(word_list)  # Randomly select and return a word from the list\n",
        "\n",
        "# Function to display the word with blanks for unguessed letters\n",
        "def display_word(word, guessed_letters):\n",
        "    displayed = \"\"  # Initialize an empty string to build the displayed word\n",
        "    for letter in word:  # Loop through each letter in the chosen word\n",
        "        if letter in guessed_letters:  # If the letter has been guessed, display it\n",
        "            displayed += letter\n",
        "        else:  # Otherwise, display an underscore to represent the letter\n",
        "            displayed += \"_\"\n",
        "    return displayed  # Return the string with the correctly guessed letters and underscores\n",
        "\n",
        "# Main function to run the Hangman game\n",
        "def hangman():\n",
        "    print(\"Welcome to Hangman!\")  # Welcome message\n",
        "    word = choose_word()  # Get a random word from the choose_word function\n",
        "    guessed_letters = []  # List to store the letters that the player has guessed\n",
        "    attempts = 6  # Set the initial number of attempts (lives) to 6\n",
        "\n",
        "    # Game loop: continue until the player runs out of attempts or guesses the word\n",
        "    while attempts > 0:\n",
        "        print(\"\\nWord: \", display_word(word, guessed_letters))  # Display the current state of the word\n",
        "        print(f\"You have {attempts} attempts left.\")  # Show the remaining attempts\n",
        "\n",
        "        guess = input(\"Guess a letter: \").lower()  # Get the player's guess and convert it to lowercase\n",
        "\n",
        "        # Check if the input is valid: it must be a single letter\n",
        "        if len(guess) != 1 or not guess.isalpha():\n",
        "            print(\"Please enter a valid letter.\")  # Inform the player if the input is invalid\n",
        "            continue\n",
        "\n",
        "        # Check if the letter has already been guessed\n",
        "        if guess in guessed_letters:\n",
        "            print(f\"You've already guessed '{guess}'. Try again.\")  # Inform the player if they guessed the letter earlier\n",
        "            continue\n",
        "\n",
        "        guessed_letters.append(guess)  # Add the guessed letter to the list of guessed letters\n",
        "\n",
        "        # If the guessed letter is in the word, congratulate the player\n",
        "        if guess in word:\n",
        "            print(f\"Good guess! '{guess}' is in the word.\")\n",
        "        else:  # If the letter is not in the word, decrease the number of attempts\n",
        "            attempts -= 1\n",
        "            print(f\"Sorry, '{guess}' is not in the word.\")\n",
        "\n",
        "        # Check if the player has guessed all the letters correctly\n",
        "        if all(letter in guessed_letters for letter in word):\n",
        "            print(f\"Congratulations! You've guessed the word '{word}' correctly!\")  # Inform the player of their success\n",
        "            break  # Exit the loop if the word is guessed correctly\n",
        "\n",
        "    # If the player runs out of attempts, the game is over\n",
        "    if attempts == 0:\n",
        "        print(f\"Game Over! The word was '{word}'.\")  # Reveal the word if the player loses\n",
        "\n",
        "# Start the game by calling the hangman function if the script is executed directly\n",
        "if __name__ == \"__main__\":\n",
        "    hangman()\n"
      ],
      "metadata": {
        "colab": {
          "base_uri": "https://localhost:8080/"
        },
        "id": "kKKtfCOEdILH",
        "outputId": "0f3a2d88-08fd-4e71-9b95-457ce10a092f"
      },
      "execution_count": null,
      "outputs": [
        {
          "output_type": "stream",
          "name": "stdout",
          "text": [
            "Welcome to Hangman!\n",
            "\n",
            "Word:  ________\n",
            "You have 6 attempts left.\n",
            "Guess a letter: nice\n",
            "Please enter a valid letter.\n",
            "\n",
            "Word:  ________\n",
            "You have 6 attempts left.\n"
          ]
        }
      ]
    }
  ]
}