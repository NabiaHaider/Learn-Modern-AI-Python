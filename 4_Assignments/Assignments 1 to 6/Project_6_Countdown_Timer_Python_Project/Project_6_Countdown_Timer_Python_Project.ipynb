{
  "nbformat": 4,
  "nbformat_minor": 0,
  "metadata": {
    "colab": {
      "provenance": []
    },
    "kernelspec": {
      "name": "python3",
      "display_name": "Python 3"
    },
    "language_info": {
      "name": "python"
    }
  },
  "cells": [
    {
      "cell_type": "code",
      "source": [
        "import time\n",
        "from IPython.display import clear_output  # Google Colab me output clear karne ke liye\n",
        "\n",
        "def countdown(seconds):\n",
        "    while seconds > 0:\n",
        "        mins, secs = divmod(seconds, 60)  # Minutes aur seconds nikalna\n",
        "        clear_output(wait=True)  # Pichla output hata do taake sirf naya time dikhe\n",
        "        print(f\"{mins:02d}:{secs:02d}\")  # Time ko print karna\n",
        "        time.sleep(1)  # 1 second wait karna\n",
        "        seconds -= 1  # Har second ek kam karna\n",
        "\n",
        "    clear_output(wait=True)  # Last time bhi clear karna\n",
        "    print(\"Time's up!\")  # Jab countdown khatam ho jaye\n",
        "\n",
        "# User se input lena\n",
        "if __name__ == \"__main__\":\n",
        "    try:\n",
        "        total_seconds = int(input(\"Enter time in seconds: \"))  # User se time lena\n",
        "        countdown(total_seconds)  # Countdown function call karna\n",
        "    except ValueError:\n",
        "        print(\"Please enter a valid number.\")  # Agar user galat value de to error show karna\n"
      ],
      "metadata": {
        "colab": {
          "base_uri": "https://localhost:8080/"
        },
        "id": "prY6_rcnkeVd",
        "outputId": "2fc4353a-f8b9-43a9-c17d-26316fc0033d"
      },
      "execution_count": 6,
      "outputs": [
        {
          "output_type": "stream",
          "name": "stdout",
          "text": [
            "Time's up!\n"
          ]
        }
      ]
    },
    {
      "cell_type": "code",
      "source": [
        "import time\n",
        "\n",
        "def countdown_timer(seconds):\n",
        "    # Loop until the timer reaches 0\n",
        "    while seconds:\n",
        "        mins, secs = divmod(seconds, 60)  # Divide seconds into minutes and seconds\n",
        "        timeformat = '{:02d}:{:02d}'.format(mins, secs)\n",
        "        print(timeformat, end='\\r')  # Print the time in format MM:SS, overwrite the previous output\n",
        "        time.sleep(1)  # Wait for 1 second\n",
        "        seconds -= 1  # Decrease the time by 1 second\n",
        "\n",
        "    print(\"Time's up!\")  # Notify when time is up\n",
        "\n",
        "if __name__ == \"__main__\":\n",
        "    try:\n",
        "        # Ask the user to enter time in seconds\n",
        "        total_seconds = int(input(\"Enter the time in seconds: \"))\n",
        "        countdown_timer(total_seconds)\n",
        "    except ValueError:\n",
        "        print(\"Please enter a valid number.\")\n"
      ],
      "metadata": {
        "colab": {
          "base_uri": "https://localhost:8080/"
        },
        "id": "7IZDbFn3dKHu",
        "outputId": "0a5ecc38-9012-405b-9267-2bc2f42f1398"
      },
      "execution_count": 3,
      "outputs": [
        {
          "output_type": "stream",
          "name": "stdout",
          "text": [
            "Enter the time in seconds: 75\n",
            "Time's up!\n"
          ]
        }
      ]
    },
    {
      "cell_type": "code",
      "source": [
        "import time  # Time module ko import kar rahe hain jo delay dene ke kaam aata hai\n",
        "\n",
        "# Function jo countdown karega\n",
        "def countdown(seconds):\n",
        "    while seconds > 0:  # Jab tak seconds 0 se zyada hain, loop chalta rahega\n",
        "        mins, secs = divmod(seconds, 60)  # Minutes aur seconds nikalne ke liye\n",
        "        print(f\"{mins:02d}:{secs:02d}\", end=\"\\r\")  # Time ko MM:SS format me show karna\n",
        "        time.sleep(1)  # 1 second wait karna\n",
        "        seconds -= 1  # Har second ke baad time 1 kam karna\n",
        "\n",
        "    print(\"Time's up!\")  # Jab time khatam ho jaye to message show karna\n",
        "\n",
        "# Ye code tabhi chalega jab is file ko run kiya jaye, import hone par nahi\n",
        "if __name__ == \"__main__\":\n",
        "    try:\n",
        "        total_seconds = int(input(\"Enter time in seconds: \"))  # User se input lena aur integer me convert karna\n",
        "        countdown(total_seconds)  # Countdown function ko call karna\n",
        "    except ValueError:  # Agar user number ke ilawa kuch aur likhe to error show karna\n",
        "        print(\"Please enter a valid number.\")  # Galat input par error message dikhana\n"
      ],
      "metadata": {
        "colab": {
          "base_uri": "https://localhost:8080/"
        },
        "id": "zQuEaBycikMr",
        "outputId": "63da3a8b-0153-4b7d-f4f2-593f382daa88"
      },
      "execution_count": 4,
      "outputs": [
        {
          "output_type": "stream",
          "name": "stdout",
          "text": [
            "Enter time in seconds: 75\n",
            "Time's up!\n"
          ]
        }
      ]
    }
  ]
}