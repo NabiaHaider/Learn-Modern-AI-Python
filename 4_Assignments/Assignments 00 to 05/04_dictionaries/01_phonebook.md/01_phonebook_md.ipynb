{
  "nbformat": 4,
  "nbformat_minor": 0,
  "metadata": {
    "colab": {
      "provenance": []
    },
    "kernelspec": {
      "name": "python3",
      "display_name": "Python 3"
    },
    "language_info": {
      "name": "python"
    }
  },
  "cells": [
    {
      "cell_type": "code",
      "source": [
        "def read_phone_numbers():\n",
        "    \"\"\"\n",
        "    User se naam aur phone number le kar phonebook (dictionary) mein store karta hai.\n",
        "    Returns the phonebook.\n",
        "    \"\"\"\n",
        "    phonebook = {}  # Khali dictionary banai gayi hai phonebook store karne ke liye\n",
        "\n",
        "    while True:\n",
        "        name = input(\"Name: \")  # User se naam mangy ga\n",
        "        if name == \"\":\n",
        "            break  # Agar naam khali ho, loop band kar dega\n",
        "        number = input(\"Number: \")  # User se number mangte hain\n",
        "        phonebook[name] = number  # Name ko key aur number ko value banakar dictionary mein daal diya\n",
        "\n",
        "    return phonebook  # Final phonebook wapas return karte hain\n",
        "\n",
        "\n",
        "def print_phonebook(phonebook):\n",
        "    \"\"\"\n",
        "    Phonebook ke andar jitne bhi entries hain, sab ko print karta hai.\n",
        "    \"\"\"\n",
        "    for name in phonebook:  # Har naam ke liye\n",
        "        print(str(name) + \" -> \" + str(phonebook[name]))  # Naam ke samne uska number print kary ga\n",
        "\n",
        "\n",
        "def lookup_numbers(phonebook):\n",
        "    \"\"\" User se naam le kar uska number dhoondhta hai phonebook se. \"\"\"\n",
        "    while True:\n",
        "        name = input(\"Enter name to lookup: \")  # Naam poocha jata hai\n",
        "        if name == \"\":\n",
        "            break  # Agar naam khali ho, loop band karo\n",
        "        if name not in phonebook:\n",
        "            print(name + \" is not in the phonebook\")  # Agar naam nahi mila, error message do\n",
        "        else:\n",
        "            print(phonebook[name])  # Agar mila, to uska number print karo\n",
        "\n",
        "\n",
        "def main():\n",
        "    # Step 1: Phonebook banate hain user input se\n",
        "    phonebook = read_phone_numbers()\n",
        "\n",
        "    # Step 2: Puri phonebook ko print karte hain\n",
        "    print_phonebook(phonebook)\n",
        "\n",
        "    # Step 3: User se naam le kar number lookup karte hain\n",
        "    lookup_numbers(phonebook)\n",
        "\n",
        "\n",
        "# Ye part sirf tab chalega jab is file ko direct run karo, kisi aur file se import na karo\n",
        "if __name__ == '__main__':\n",
        "    main()\n"
      ],
      "metadata": {
        "id": "sfTu2UjlTDj-"
      },
      "execution_count": null,
      "outputs": []
    },
    {
      "cell_type": "code",
      "source": [
        "# read_phone_numbers()\t   Naam aur number user se le kar dictionary banata hai\n",
        "# print_phonebook()\t       Puri phonebook print karta hai\n",
        "# lookup_numbers()\t       Kisi naam ka number search karta hai\n",
        "# main()\t                 In teeno functions ko sequence mein chalata hai\n",
        "\n",
        "# Har insaan ka naam ek key hai\n",
        "# Uska phone number us key ki value hai"
      ],
      "metadata": {
        "id": "lbbiPXAHYZ84"
      },
      "execution_count": null,
      "outputs": []
    }
  ]
}