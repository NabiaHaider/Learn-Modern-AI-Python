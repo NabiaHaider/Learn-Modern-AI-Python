{
  "nbformat": 4,
  "nbformat_minor": 0,
  "metadata": {
    "colab": {
      "provenance": []
    },
    "kernelspec": {
      "name": "python3",
      "display_name": "Python 3"
    },
    "language_info": {
      "name": "python"
    }
  },
  "cells": [
    {
      "cell_type": "code",
      "source": [
        "def main():\n",
        "    # Fruits ki ek dictionary banai hai jisme har fruit ka naam aur uska price diya gaya hai.\n",
        "    fruits = {\n",
        "        'apple': 1.5,\n",
        "        'durian': 50,\n",
        "        'jackfruit': 80,\n",
        "        'kiwi': 1,\n",
        "        'rambutan': 1.5,\n",
        "        'mango': 5\n",
        "        }\n",
        "\n",
        "    total_cost = 0  # Total cost ko zero se initialize kiya gaya hai\n",
        "\n",
        "    # Har fruit ka naam lekar, user se kitna fruit chahiye wo poocha gaya hai\n",
        "    for fruit_name in fruits:\n",
        "        price = fruits[fruit_name]  # Har fruit ka price uthaya gaya hai\n",
        "\n",
        "        # User se quantity poochhi ja rahi hai fruits ki\n",
        "        amount_bought = int(input(\"How many (\" + fruit_name + \") do you want to buy?: \"))\n",
        "\n",
        "        # Price aur quantity ko multiply karke total cost mein add kiya gaya hai\n",
        "        total_cost += (price * amount_bought)\n",
        "\n",
        "    # Final total cost ko print kiya gaya hai\n",
        "    print(\"Your total is $\" + str(total_cost))\n",
        "\n",
        "\n",
        "if __name__ == '__main__':\n",
        "    main()\n"
      ],
      "metadata": {
        "colab": {
          "base_uri": "https://localhost:8080/"
        },
        "id": "F8DpeGLcsPMh",
        "outputId": "8c0619fd-4cf1-4e6c-f940-98b65c222440"
      },
      "execution_count": 4,
      "outputs": [
        {
          "output_type": "stream",
          "name": "stdout",
          "text": [
            "How many (apple) do you want to buy?: 2\n",
            "How many (durian) do you want to buy?: 1\n",
            "How many (jackfruit) do you want to buy?: 4\n",
            "How many (kiwi) do you want to buy?: 2\n",
            "How many (rambutan) do you want to buy?: 0\n",
            "How many (mango) do you want to buy?: 6\n",
            "Your total is $405.0\n"
          ]
        }
      ]
    }
  ]
}