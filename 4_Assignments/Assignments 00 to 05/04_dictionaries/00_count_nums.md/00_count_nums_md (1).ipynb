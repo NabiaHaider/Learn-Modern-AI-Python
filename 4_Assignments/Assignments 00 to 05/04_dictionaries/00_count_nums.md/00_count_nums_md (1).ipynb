{
  "nbformat": 4,
  "nbformat_minor": 0,
  "metadata": {
    "colab": {
      "provenance": []
    },
    "kernelspec": {
      "name": "python3",
      "display_name": "Python 3"
    },
    "language_info": {
      "name": "python"
    }
  },
  "cells": [
    {
      "cell_type": "code",
      "source": [
        "def get_user_numbers():\n",
        "    \"\"\"\n",
        "    Yeh function user se numbers leta hai jab tak user blank line na de.\n",
        "    Har number ko ek list me store karta hai.\n",
        "    \"\"\"\n",
        "    user_numbers = []  # Khali list banayi jisme user ke numbers store honge\n",
        "\n",
        "    while True:  # Yeh loop tab tak chalega jab tak user blank line nahi deta\n",
        "        user_input = input(\"Enter a number: \")  # User se input lena\n",
        "\n",
        "        if user_input == \"\":  # Agar user ne kuch bhi nahi likha (blank diya)\n",
        "            break  # To loop band kar do\n",
        "\n",
        "        # Input ko string se integer me convert karo\n",
        "        num = int(user_input)\n",
        "\n",
        "        # Integer number ko list me add karo\n",
        "        user_numbers.append(num)\n",
        "\n",
        "    return user_numbers  # Final list return karo\n",
        "\n",
        "\n",
        "def count_nums(num_lst):\n",
        "    \"\"\"\n",
        "    Yeh function list me jo numbers aaye hain unka count karta hai.\n",
        "    Har number dictionary me store hota hai, jisme number key hoti hai aur uska count value hota hai.\n",
        "    \"\"\"\n",
        "    num_dict = {}  # Khali dictionary banayi\n",
        "\n",
        "    for num in num_lst:  # List ke har number ke liye loop\n",
        "        if num not in num_dict:  # Agar number dictionary me nahi hai\n",
        "            num_dict[num] = 1  # To uska count 1 se start karo\n",
        "        else:\n",
        "            num_dict[num] += 1  # Agar number already dictionary me hai, to uska count +1 karo\n",
        "\n",
        "    return num_dict  # Final dictionary return karo\n",
        "\n",
        "\n",
        "def print_counts(num_dict):\n",
        "    \"\"\"\n",
        "    Yeh function dictionary ke har number aur uska count print karta hai.\n",
        "    Format: \"number appears X times.\"\n",
        "    \"\"\"\n",
        "    for num in num_dict:  # Dictionary ke har number ke liye loop\n",
        "        # String me format karke print karo\n",
        "        print(str(num) + \" appears \" + str(num_dict[num]) + \" times.\")\n",
        "\n",
        "\n",
        "def main():\n",
        "    \"\"\"\n",
        "    Yeh function poore program ko control karta hai:\n",
        "    1. User se number lo (get_user_numbers)\n",
        "    2. Count banao (count_nums)\n",
        "    3. Print karo result (print_counts)\n",
        "    \"\"\"\n",
        "    user_numbers = get_user_numbers()  # Step 1: list lo user se\n",
        "    num_dict = count_nums(user_numbers)  # Step 2: dictionary banao count ke sath\n",
        "    print_counts(num_dict)  # Step 3: print karo har number ka count\n",
        "\n",
        "\n",
        "# Yeh special line batati hai ke program yahan se start hoga jab file run hogi\n",
        "if __name__ == '__main__':\n",
        "    main()\n",
        ""
      ],
      "metadata": {
        "colab": {
          "base_uri": "https://localhost:8080/"
        },
        "id": "h6wqIMeeMFT4",
        "outputId": "08d6cb01-2a61-4740-d587-e3f427d6ee12"
      },
      "execution_count": 12,
      "outputs": [
        {
          "output_type": "stream",
          "name": "stdout",
          "text": [
            "Enter a number: 2\n",
            "Enter a number: 6\n",
            "Enter a number: 8\n",
            "Enter a number: 2\n",
            "Enter a number: \n",
            "2 appears 2 times.\n",
            "6 appears 1 times.\n",
            "8 appears 1 times.\n"
          ]
        }
      ]
    },
    {
      "cell_type": "markdown",
      "source": [
        "🔶 get_user_numbers() function:\n",
        "\n",
        ". Ek khaali list banata hai → user_numbers = []\n",
        ". User se number input leta hai baar baar (while True: loop se)\n",
        ". Agar user khaali input deta hai (Enter daba deta hai bina likhe), to loop  \n",
        "  band ho jata hai\n",
        ". Har number ko integer me convert karke list me daal deta hai\n",
        "\n",
        "🔶 count_nums(num_lst) function:\n",
        ". Ek khaali dictionary banata hai → num_dict = {}\n",
        ". Phir list ke har number ke liye check karta hai:\n",
        " . Agar number pehli baar hai, to dictionary me likhta hai 1\n",
        " . Agar number pehle se hai, to uska count +1 kar deta hai\n",
        "\n",
        "🔶 print_counts(num_dict) function:\n",
        "Dictionary ke har key (number) ko print karta hai\n",
        "Format:\n",
        "3 appears 2 times.\n",
        "5 appears 1 times\n",
        "\n",
        "🔷 main() function:.\n",
        ". Saare functions ko call karta hai:\n",
        ". get_user_numbers() → list milti hai\n",
        ". count_nums() → dictionary banata hai\n",
        ". print_counts() → result print karta hai"
      ],
      "metadata": {
        "id": "IPZW9018GZ8F"
      }
    },
    {
      "cell_type": "code",
      "source": [
        "def get_user_numbers():\n",
        "    \"\"\"\n",
        "    Yeh function user se numbers leta hai jab tak user blank line na de.\n",
        "    Har number ko ek list me store karta hai.\n",
        "    \"\"\"\n",
        "    user_numbers = []  # Khali list banayi jisme user ke numbers store honge\n",
        "\n",
        "    while True:  # Yeh loop tab tak chalega jab tak user blank line nahi deta\n",
        "        user_input = input(\"Enter a number: \")  # User se input lena\n",
        "\n",
        "        if user_input == \"\":  # Agar user ne kuch bhi nahi likha (blank diya)\n",
        "            break  # To loop band kar do\n",
        "\n",
        "        # Input ko string se integer me convert karo\n",
        "        num = int(user_input)\n",
        "\n",
        "        # Integer number ko list me add karo\n",
        "        user_numbers.append(num)\n",
        "\n",
        "    return user_numbers  # Final list return karo\n",
        "\n",
        "\n",
        "def count_nums(num_lst):\n",
        "    \"\"\"\n",
        "    Yeh function list me jo numbers aaye hain unka count karta hai.\n",
        "    Har number dictionary me store hota hai, jisme number key hoti hai aur uska count value hota hai.\n",
        "    \"\"\"\n",
        "    num_dict = {}  # Khali dictionary banayi\n",
        "\n",
        "    for num in num_lst:  # List ke har number ke liye loop\n",
        "        if num not in num_dict:  # Agar number dictionary me nahi hai\n",
        "            num_dict[num] = 1  # To uska count 1 se start karo\n",
        "        else:\n",
        "            num_dict[num] += 1  # Agar number already dictionary me hai, to uska count +1 karo\n",
        "\n",
        "    return num_dict  # Final dictionary return karo\n",
        "\n",
        "\n",
        "def print_counts(num_dict):\n",
        "    \"\"\"\n",
        "    Yeh function dictionary ke har number aur uska count print karta hai.\n",
        "    Format: \"number appears X times.\"\n",
        "    \"\"\"\n",
        "    for num in num_dict:  # Dictionary ke har number ke liye loop\n",
        "        # String me format karke print karo\n",
        "        print(str(num) + \" appears \" + str(num_dict[num]) + \" times.\")\n",
        "\n",
        "\n",
        "def main():\n",
        "    \"\"\"\n",
        "    Yeh function poore program ko control karta hai:\n",
        "    1. User se number lo (get_user_numbers)\n",
        "    2. Count banao (count_nums)\n",
        "    3. Print karo result (print_counts)\n",
        "    \"\"\"\n",
        "    user_numbers = get_user_numbers()  # Step 1: list lo user se\n",
        "    num_dict = count_nums(user_numbers)  # Step 2: dictionary banao count ke sath\n",
        "    print_counts(num_dict)  # Step 3: print karo har number ka count\n",
        "\n",
        "\n",
        "# Yeh special line batati hai ke program yahan se start hoga jab file run hogi\n",
        "if __name__ == '__main__':\n",
        "    main()\n"
      ],
      "metadata": {
        "colab": {
          "base_uri": "https://localhost:8080/"
        },
        "id": "Zv4s-WgOH8N6",
        "outputId": "ce816606-8aa8-4ea2-b24c-b0e61da8921f"
      },
      "execution_count": 6,
      "outputs": [
        {
          "output_type": "stream",
          "name": "stdout",
          "text": [
            "Enter a number: 4\n",
            "Enter a number: 2\n",
            "Enter a number: 4\n",
            "Enter a number: \n",
            "4 appears 2 times.\n",
            "2 appears 1 times.\n"
          ]
        }
      ]
    }
  ]
}