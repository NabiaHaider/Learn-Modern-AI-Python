{
  "nbformat": 4,
  "nbformat_minor": 0,
  "metadata": {
    "colab": {
      "provenance": []
    },
    "kernelspec": {
      "name": "python3",
      "display_name": "Python 3"
    },
    "language_info": {
      "name": "python"
    }
  },
  "cells": [
    {
      "cell_type": "code",
      "source": [
        "# SHA256 hashing function import kar rahe hain hashlib module se\n",
        "from hashlib import sha256\n",
        "\n",
        "# Login function define kiya gaya hai\n",
        "def login(email, stored_logins, password_to_check):\n",
        "    \"\"\"\n",
        "    Returns True if the hash of the password we are checking matches the one in stored_logins\n",
        "    for a specific email. Otherwise, returns False.\n",
        "\n",
        "    email: the email we are checking the password for\n",
        "    stored_logins: a dictionary pointing from an email to its hashed password\n",
        "    password_to_check: a password we want to test alongside the email to login with\n",
        "    \"\"\"\n",
        "\n",
        "    # Check kar rahe hain ki entered password ka hash stored password se match karta hai ya nahi\n",
        "    if stored_logins[email] == hash_password(password_to_check):\n",
        "        return True  # agar match kare to login successful (True return)\n",
        "\n",
        "    return False  # match na kare to login fail (False return)\n",
        "\n",
        "# Neeche ka code already correct hai, isse edit karne ki zarurat nahi hai\n",
        "# Password ko SHA256 ke saath hash karne ke liye function banaya gaya hai\n",
        "def hash_password(password):\n",
        "    \"\"\"\n",
        "    Takes in a password and returns the SHA256 hashed value for that specific password.\n",
        "\n",
        "    Inputs:\n",
        "        password: the password we want\n",
        "\n",
        "    Outputs:\n",
        "        the hashed form of the input password\n",
        "    \"\"\"\n",
        "\n",
        "    return sha256(password.encode()).hexdigest()  # password ko bytes me encode karke hash return karte hain\n",
        "\n",
        "# Main function jahan program start hota hai\n",
        "def main():\n",
        "    # stored_logins ek dictionary hai jisme email keys hain aur hashed passwords values\n",
        "    stored_logins = {\n",
        "        \"example@gmail.com\": \"5e884898da28047151d0e56f8dc6292773603d0d6aabbdd62a11ef721d1542d8\",  # password: \"password\"\n",
        "        \"code_in_placer@cip.org\": \"973607a4ae7b4cf7d96a100b0fb07e8519cc4f70441d41214a9f811577bb06cc\",  # password: \"karel\"\n",
        "        \"student@stanford.edu\": \"882c6df720fd99f5eebb1581a1cf975625cea8a160283011c0b9512bb56c95fb\"  # password: \"123!456?789\"\n",
        "    }\n",
        "\n",
        "    # Har login attempt ke liye result print ho raha hai (True ya False)\n",
        "    print(login(\"example@gmail.com\", stored_logins, \"word\"))         # wrong password\n",
        "    print(login(\"example@gmail.com\", stored_logins, \"password\"))     # correct password\n",
        "\n",
        "    print(login(\"code_in_placer@cip.org\", stored_logins, \"Karel\"))   # wrong (uppercase K)\n",
        "    print(login(\"code_in_placer@cip.org\", stored_logins, \"karel\"))   # correct password\n",
        "\n",
        "    print(login(\"student@stanford.edu\", stored_logins, \"password\"))  # wrong password\n",
        "    print(login(\"student@stanford.edu\", stored_logins, \"123!456?789\"))  # correct password\n",
        "\n",
        "# Boilerplate code: yeh check karta hai ki program seedha run ho raha hai ya kisi aur file se import\n",
        "if __name__ == '__main__':\n",
        "    main()\n"
      ],
      "metadata": {
        "colab": {
          "base_uri": "https://localhost:8080/"
        },
        "id": "WGTsm_D_TNuc",
        "outputId": "79630165-9467-4724-95ad-828584f26630"
      },
      "execution_count": 5,
      "outputs": [
        {
          "output_type": "stream",
          "name": "stdout",
          "text": [
            "False\n",
            "True\n",
            "False\n",
            "True\n",
            "False\n",
            "True\n"
          ]
        }
      ]
    }
  ]
}