{
  "nbformat": 4,
  "nbformat_minor": 0,
  "metadata": {
    "colab": {
      "provenance": []
    },
    "kernelspec": {
      "name": "python3",
      "display_name": "Python 3"
    },
    "language_info": {
      "name": "python"
    }
  },
  "cells": [
    {
      "cell_type": "code",
      "source": [
        "def add_three_copies(my_list, data):\n",
        "    for i in range(3):\n",
        "        my_list.append(data)\n",
        "\n",
        "  # No need to edit code past this point\n",
        "\n",
        "def main():\n",
        "    message = input(\"Enter a message to copy: \")\n",
        "    my_list = []\n",
        "    print(\"List before:\", my_list)\n",
        "    add_three_copies(my_list, message)\n",
        "    print(\"List after:\", my_list)\n",
        "\n",
        "if __name__ == \"__main__\":\n",
        "    main()"
      ],
      "metadata": {
        "colab": {
          "base_uri": "https://localhost:8080/"
        },
        "id": "1R7_orKA_d4V",
        "outputId": "2b7e279d-2e23-4ef8-abb0-a3bf3d7dcfe9"
      },
      "execution_count": 1,
      "outputs": [
        {
          "output_type": "stream",
          "name": "stdout",
          "text": [
            "Enter a message to copy: i am very beautiful\n",
            "List before: []\n",
            "List after: ['i am very beautiful', 'i am very beautiful', 'i am very beautiful']\n"
          ]
        }
      ]
    },
    {
      "cell_type": "code",
      "source": [
        "# Create a list\n",
        "my_list = [1, 2, 3, 4, 5]\n",
        "\n",
        "# Access an element\n",
        "print(my_list[2])  # Output: 3\n",
        "\n",
        "# Append a new element\n",
        "my_list.append(6)\n",
        "print(my_list)\n",
        "\n",
        "# Remove an element\n",
        "my_list.remove(3)\n",
        "print(my_list)\n",
        "\n",
        "# Slicing the list\n",
        "print(my_list[1:3])  # Output: [2, 4]\n"
      ],
      "metadata": {
        "colab": {
          "base_uri": "https://localhost:8080/"
        },
        "id": "XebMF843__HK",
        "outputId": "59d9ef85-4904-4841-ea74-1d6b18b18ddd"
      },
      "execution_count": 7,
      "outputs": [
        {
          "output_type": "stream",
          "name": "stdout",
          "text": [
            "3\n",
            "[1, 2, 3, 4, 5, 6]\n",
            "[1, 2, 4, 5, 6]\n",
            "[2, 4]\n"
          ]
        }
      ]
    }
  ]
}
