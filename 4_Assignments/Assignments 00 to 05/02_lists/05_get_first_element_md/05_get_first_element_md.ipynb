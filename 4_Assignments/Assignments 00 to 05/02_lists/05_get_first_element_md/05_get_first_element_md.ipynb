{
  "nbformat": 4,
  "nbformat_minor": 0,
  "metadata": {
    "colab": {
      "provenance": []
    },
    "kernelspec": {
      "name": "python3",
      "display_name": "Python 3"
    },
    "language_info": {
      "name": "python"
    }
  },
  "cells": [
    {
      "cell_type": "code",
      "source": [
        "def get_first_element(lst):\n",
        "    print(\"The first element is:\", lst[0])\n",
        "\n",
        "# Prompt the user to enter the number of elements\n",
        "n = int(input(\"Enter the number of elements in the list: \"))\n",
        "\n",
        "# Create an empty list\n",
        "user_list = []\n",
        "\n",
        "# Get elements one by one from the user\n",
        "for i in range(n):\n",
        "    element = input(f\"Enter element {i + 1}: \")\n",
        "    user_list.append(element)\n",
        "\n",
        "# Call the function with the user's list\n",
        "get_first_element(user_list)\n"
      ],
      "metadata": {
        "colab": {
          "base_uri": "https://localhost:8080/"
        },
        "id": "T-wYhYulQz2i",
        "outputId": "2aaa83fb-d54e-4371-8f07-9d4889dc73b3"
      },
      "execution_count": 3,
      "outputs": [
        {
          "output_type": "stream",
          "name": "stdout",
          "text": [
            "Enter the number of elements in the list: 3\n",
            "Enter element 1: apple\n",
            "Enter element 2: cherry\n",
            "Enter element 3: banana\n",
            "The first element is: apple\n"
          ]
        }
      ]
    },
    {
      "cell_type": "code",
      "source": [
        "\n",
        "def get_first_element(lst):\n",
        "    \"\"\"\n",
        "    Prints the first element of a provided list.\n",
        "    \"\"\"\n",
        "\n",
        "    print(lst[0])\n",
        "\n",
        "# There is no need to edit code beyond this point\n",
        "\n",
        "def get_lst():\n",
        "    \"\"\"\n",
        "    Prompts the user to enter one element of the list at a time and returns the resulting list.\n",
        "    \"\"\"\n",
        "    lst = []\n",
        "    elem: str = input(\"Please enter an element of the list or press enter to stop. \")\n",
        "    while elem != \"\":\n",
        "        lst.append(elem)\n",
        "        elem = input(\"Please enter an element of the list or press enter to stop. \")\n",
        "    return lst\n",
        "\n",
        "def main():\n",
        "    lst = get_lst()\n",
        "    get_first_element(lst)\n",
        "\n",
        "\n",
        "if __name__ == '__main__':\n",
        "    main()\n"
      ],
      "metadata": {
        "colab": {
          "base_uri": "https://localhost:8080/"
        },
        "id": "LgELzUAoRf6U",
        "outputId": "7f8794ce-0fd6-471b-cd03-6f6ca5ee7c25"
      },
      "execution_count": null,
      "outputs": [
        {
          "name": "stdout",
          "output_type": "stream",
          "text": [
            "Please enter an element of the list or press enter to stop. Nabia\n",
            "Please enter an element of the list or press enter to stop. Haider\n"
          ]
        }
      ]
    }
  ]
}