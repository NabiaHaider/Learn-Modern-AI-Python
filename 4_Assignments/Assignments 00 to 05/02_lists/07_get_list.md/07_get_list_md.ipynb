{
  "nbformat": 4,
  "nbformat_minor": 0,
  "metadata": {
    "colab": {
      "provenance": []
    },
    "kernelspec": {
      "name": "python3",
      "display_name": "Python 3"
    },
    "language_info": {
      "name": "python"
    }
  },
  "cells": [
    {
      "cell_type": "code",
      "source": [
        "def get_values():\n",
        "    values = []\n",
        "\n",
        "    while True:\n",
        "        val = input(\"Enter a value: \")\n",
        "        if val == \"\":\n",
        "            break\n",
        "        values.append(val)\n",
        "\n",
        "    return values\n",
        "\n",
        "# Function ko call karte hain\n",
        "result = get_values()\n",
        "\n",
        "# List ko print karte hain\n",
        "print(\"Here's the list:\", result)\n"
      ],
      "metadata": {
        "colab": {
          "base_uri": "https://localhost:8080/"
        },
        "id": "qQXE-wzzdmHr",
        "outputId": "56ce7ce7-dbf1-406e-90ef-d6e07c8a35f1"
      },
      "execution_count": 5,
      "outputs": [
        {
          "output_type": "stream",
          "name": "stdout",
          "text": [
            "Enter a value: 23\n",
            "Enter a value: 67\n",
            "Enter a value: 32\n",
            "Enter a value: 96\n",
            "Enter a value: \n",
            "Here's the list: ['23', '67', '32', '96']\n"
          ]
        }
      ]
    },
    {
      "cell_type": "code",
      "source": [
        "def main():\n",
        "    lst = []  # Make an empty list to store things in\n",
        "\n",
        "    val = input(\"Enter a value: \")  # Get an initial value\n",
        "    while val:  # While the user input isn't an empty value\n",
        "        lst.append(val) # Add val to list\n",
        "        val = input(\"Enter a value: \")  # Get the next value to add\n",
        "\n",
        "    print(\"Here's the list:\", lst)\n",
        "\n",
        "\n",
        "# There is no need to edit code beyond this point\n",
        "\n",
        "if __name__ == '__main__':\n",
        "    main()"
      ],
      "metadata": {
        "colab": {
          "base_uri": "https://localhost:8080/"
        },
        "id": "xJ2OfwjEeSOA",
        "outputId": "2769edfb-e960-4573-dce1-170c1b7fc280"
      },
      "execution_count": 6,
      "outputs": [
        {
          "output_type": "stream",
          "name": "stdout",
          "text": [
            "Enter a value: a\n",
            "Enter a value: b\n",
            "Enter a value: c\n",
            "Enter a value: \n",
            "Here's the list: ['a', 'b', 'c']\n"
          ]
        }
      ]
    }
  ]
}