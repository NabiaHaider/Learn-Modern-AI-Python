{
  "nbformat": 4,
  "nbformat_minor": 0,
  "metadata": {
    "colab": {
      "provenance": []
    },
    "kernelspec": {
      "name": "python3",
      "display_name": "Python 3"
    },
    "language_info": {
      "name": "python"
    }
  },
  "cells": [
    {
      "cell_type": "code",
      "source": [
        "# Program to add many numbers using a list\n",
        "\n",
        "# Input the number of values\n",
        "n = int(input(\"Enter how many numbers you want to add: \"))\n",
        "\n",
        "# Create a list to store the numbers\n",
        "numbers = []\n",
        "\n",
        "# Input each number and add to the list\n",
        "for i in range(n):\n",
        "    num = float(input(f\"Enter number {i + 1}: \"))\n",
        "    numbers.append(num)\n",
        "\n",
        "# Calculate the total using sum()\n",
        "total = sum(numbers)\n",
        "\n",
        "# Print the result\n",
        "print(\"Total =\", total)\n",
        "\n"
      ],
      "metadata": {
        "colab": {
          "base_uri": "https://localhost:8080/"
        },
        "id": "_AuDG5ld0mSS",
        "outputId": "7dc1fe03-fe28-45db-dbe9-906301ad6f5d"
      },
      "execution_count": 6,
      "outputs": [
        {
          "output_type": "stream",
          "name": "stdout",
          "text": [
            "Enter how many numbers you want to add: 3\n",
            "Enter number 1: 4\n",
            "Enter number 2: 5\n",
            "Enter number 3: 6\n",
            "Total = 15.0\n"
          ]
        }
      ]
    },
    {
      "cell_type": "code",
      "source": [
        "def add_many_numbers(numbers)-> int:\n",
        "    \"\"\"\n",
        "    Takes in a list of numbers and returns the sum of those numbers.\n",
        "    \"\"\"\n",
        "\n",
        "    total_so_far: int = 0\n",
        "    for number in numbers:\n",
        "        total_so_far += number\n",
        "\n",
        "    return total_so_far\n",
        "\n",
        "# There is no need to edit code beyond this point\n",
        "\n",
        "def main():\n",
        "    numbers: list[int] = [1, 2, 3, 4, 5]  # Make a list of numbers\n",
        "    sum_of_numbers: int = add_many_numbers(numbers)  # Find the sum of the list\n",
        "    print(sum_of_numbers)  # Print out the sum above\n",
        "\n",
        "\n",
        "if __name__ == '__main__':\n",
        "    main()"
      ],
      "metadata": {
        "colab": {
          "base_uri": "https://localhost:8080/"
        },
        "id": "uASpueYZ1bMd",
        "outputId": "2742adb1-fcdf-4548-be06-5c8aa97c5ae3"
      },
      "execution_count": 7,
      "outputs": [
        {
          "output_type": "stream",
          "name": "stdout",
          "text": [
            "15\n"
          ]
        }
      ]
    }
  ]
}