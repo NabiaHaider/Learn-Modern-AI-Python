{
  "nbformat": 4,
  "nbformat_minor": 0,
  "metadata": {
    "colab": {
      "provenance": []
    },
    "kernelspec": {
      "name": "python3",
      "display_name": "Python 3"
    },
    "language_info": {
      "name": "python"
    }
  },
  "cells": [
    {
      "cell_type": "code",
      "execution_count": 1,
      "metadata": {
        "colab": {
          "base_uri": "https://localhost:8080/"
        },
        "id": "NDTCyDepVH3q",
        "outputId": "e7bc192c-88c4-4598-b125-c61ca7c43a63"
      },
      "outputs": [
        {
          "output_type": "stream",
          "name": "stdout",
          "text": [
            "30\n",
            "cherry\n"
          ]
        }
      ],
      "source": [
        "def get_last_element(lst):\n",
        "    print(lst[-1])  #Python mein -1 ka matlab hota hai last element.\n",
        "\n",
        "get_last_element([10, 20, 30])  # Output: 30\n",
        "get_last_element([\"apple\", \"banana\", \"cherry\"])  # Output: cherry\n"
      ]
    }
  ]
}