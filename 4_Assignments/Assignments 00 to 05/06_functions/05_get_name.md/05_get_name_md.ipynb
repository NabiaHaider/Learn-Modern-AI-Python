{
  "nbformat": 4,
  "nbformat_minor": 0,
  "metadata": {
    "colab": {
      "provenance": []
    },
    "kernelspec": {
      "name": "python3",
      "display_name": "Python 3"
    },
    "language_info": {
      "name": "python"
    }
  },
  "cells": [
    {
      "cell_type": "code",
      "source": [
        "def get_name():\n",
        "  return \"Nabia\"\n",
        "\n",
        "def main():\n",
        "  name = get_name()  # get_name() will return a string which we store to the 'name' variable here\n",
        "  print(\"Howday\", name, \"! 👩\")    # print greeting with the name\n",
        "\n",
        "if __name__ == \"__main__\":\n",
        "  main()"
      ],
      "metadata": {
        "colab": {
          "base_uri": "https://localhost:8080/"
        },
        "id": "SMF3F-86Jyfq",
        "outputId": "aa6a8ba4-5900-4062-f369-5fdb209d401f"
      },
      "execution_count": 1,
      "outputs": [
        {
          "output_type": "stream",
          "name": "stdout",
          "text": [
            "Howday Nabia ! 👩\n"
          ]
        }
      ]
    }
  ]
}