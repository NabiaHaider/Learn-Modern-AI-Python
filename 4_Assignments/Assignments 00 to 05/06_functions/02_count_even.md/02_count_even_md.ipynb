{
  "nbformat": 4,
  "nbformat_minor": 0,
  "metadata": {
    "colab": {
      "provenance": []
    },
    "kernelspec": {
      "name": "python3",
      "display_name": "Python 3"
    },
    "language_info": {
      "name": "python"
    }
  },
  "cells": [
    {
      "cell_type": "code",
      "source": [
        "def count_even(lst):\n",
        "    \"\"\"\n",
        "    Returns number of even numbers in list.\n",
        "    >>> count_even([1,2,3,4])\n",
        "    2\n",
        "    >>> count_even([1,3,5,7])\n",
        "    0\n",
        "    \"\"\"\n",
        "    count = 0  # Stores the count of even numbers in the list\n",
        "    for num in lst:  # Loop through the numbers in the list\n",
        "        if num % 2 == 0:  # If the current number in the list is even (divisible by 2)\n",
        "            count += 1  # Add one to our count!\n",
        "\n",
        "    # Here's another way to do this same thing, with a different kind of for-loop:\n",
        "    # for i in range(len(lst)):\n",
        "    #     num = lst[i]\n",
        "    #     if num % 2 == 0:\n",
        "    #         count += 1\n",
        "\n",
        "    print(count)  # Print out how many even numbers we counted above\n",
        "\n",
        "def get_list_of_ints():\n",
        "    \"\"\"\n",
        "    Reads in integers until the user presses enter and returns the resulting list.\n",
        "    \"\"\"\n",
        "    lst = []  # Make an empty list to store integers\n",
        "    user_input = input(\"Enter an integer or press enter to stop: \")  # Get user input for an integer\n",
        "    while user_input != \"\":  # While the user doesn't enter nothing...\n",
        "        lst.append(int(user_input))  # Cast the user input into an integer and add it to our list\n",
        "        user_input = input(\"Enter an integer or press enter to stop: \")  # Get the next user input\n",
        "\n",
        "    return lst\n",
        "\n",
        "def main():\n",
        "    lst = get_list_of_ints()\n",
        "    count_even(lst)\n",
        "\n",
        "\n",
        "if __name__ == '__main__':\n",
        "    main()\n",
        "\n",
        "# Ye function count ker k bataye ga kitne even numbers hain"
      ],
      "metadata": {
        "colab": {
          "base_uri": "https://localhost:8080/"
        },
        "id": "IslcPbXeV96w",
        "outputId": "25a9993a-9d01-4743-dfba-c85c48a6eb7f"
      },
      "execution_count": 6,
      "outputs": [
        {
          "output_type": "stream",
          "name": "stdout",
          "text": [
            "Enter an integer or press enter to stop: 2\n",
            "Enter an integer or press enter to stop: 6\n",
            "Enter an integer or press enter to stop: 4\n",
            "Enter an integer or press enter to stop: 9\n",
            "Enter an integer or press enter to stop: \n",
            "3\n"
          ]
        }
      ]
    }
  ]
}