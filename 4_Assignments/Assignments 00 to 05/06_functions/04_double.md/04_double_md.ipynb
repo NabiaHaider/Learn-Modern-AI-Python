{
  "nbformat": 4,
  "nbformat_minor": 0,
  "metadata": {
    "colab": {
      "provenance": []
    },
    "kernelspec": {
      "name": "python3",
      "display_name": "Python 3"
    },
    "language_info": {
      "name": "python"
    }
  },
  "cells": [
    {
      "cell_type": "code",
      "execution_count": 4,
      "metadata": {
        "colab": {
          "base_uri": "https://localhost:8080/"
        },
        "id": "rKdLFYy7bnFR",
        "outputId": "882a6cfe-090f-48a1-d345-1e5f5ba12256"
      },
      "outputs": [
        {
          "output_type": "stream",
          "name": "stdout",
          "text": [
            "Enter a number: 5\n",
            "Double that is  10\n"
          ]
        }
      ],
      "source": [
        "def double(num):\n",
        "  return num * 2\n",
        "\n",
        "def main():\n",
        "  num = int(input(\"Enter a number: \"))  # Take number input from the user\n",
        "  result = double(num)     # Call the double function with the input number\n",
        "  print(\"Double that is \", result)   # Print the result (double of the number)\n",
        "\n",
        "main()"
      ]
    }
  ]
}