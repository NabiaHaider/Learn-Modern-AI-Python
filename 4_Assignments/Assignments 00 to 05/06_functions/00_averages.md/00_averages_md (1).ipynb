{
  "nbformat": 4,
  "nbformat_minor": 0,
  "metadata": {
    "colab": {
      "provenance": []
    },
    "kernelspec": {
      "name": "python3",
      "display_name": "Python 3"
    },
    "language_info": {
      "name": "python"
    }
  },
  "cells": [
    {
      "cell_type": "code",
      "source": [
        "def average(a: float, b: float):\n",
        "    \"\"\"\n",
        "    Yeh function do numbers (a aur b) leta hai\n",
        "    aur unka average return karta hai.\n",
        "    \"\"\"\n",
        "    sum = a + b  # Dono numbers ka sum nikaal rahe hain\n",
        "    return sum / 2  # Sum ko 2 se divide karke average nikaal rahe hain\n",
        "\n",
        "def main():\n",
        "    avg_1 = average(0, 10)  # Pehla average: 0 aur 10 ka average\n",
        "    avg_2 = average(8, 10)  # Doosra average: 8 aur 10 ka average\n",
        "\n",
        "    final = average(avg_1, avg_2)  # Dono averages ka final average nikaal rahe hain\n",
        "    print(\"avg_1\", avg_1)  # Pehla average print\n",
        "    print(\"avg_2\", avg_2)  # Doosra average print\n",
        "    print(\"final\", final)  # Final average print\n",
        "\n",
        "\n",
        "# Neeche wala part Python ka standard tareeqa hai\n",
        "# Jis se program run hota hai agar is file ko directly run karein\n",
        "\n",
        "if __name__ == '__main__':\n",
        "    main()\n"
      ],
      "metadata": {
        "id": "SGOMFk83RGVV",
        "outputId": "348c06b7-c47a-461b-db79-58aada8b005d",
        "colab": {
          "base_uri": "https://localhost:8080/"
        }
      },
      "execution_count": 1,
      "outputs": [
        {
          "output_type": "stream",
          "name": "stdout",
          "text": [
            "avg_1 5.0\n",
            "avg_2 9.0\n",
            "final 7.0\n"
          ]
        }
      ]
    }
  ]
}