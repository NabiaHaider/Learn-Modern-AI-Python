{
  "nbformat": 4,
  "nbformat_minor": 0,
  "metadata": {
    "colab": {
      "provenance": []
    },
    "kernelspec": {
      "name": "python3",
      "display_name": "Python 3"
    },
    "language_info": {
      "name": "python"
    }
  },
  "cells": [
    {
      "cell_type": "code",
      "source": [
        "# Function jo diye gaye number ke saare divisors print karega\n",
        "def print_divisors(num: int):\n",
        "  print(\"Here are the divisors of\", num)  # Ye line batati hai ke divisors print honay wale hain\n",
        "  for i in range(num):                    # Loop 0 se num-1 tak chalega\n",
        "    curr_divisor = i + 1                  # i+1 kiya taki loop 1 se num tak chale\n",
        "    if num % curr_divisor == 0:          # Agar num ko curr_divisor se divide karne par remainder 0 aaye\n",
        "      print(curr_divisor)                # To ye divisor hai, is liye print karo\n",
        "\n",
        "# Main function jo user se number lega aur print_divisors call karega\n",
        "def main():\n",
        "  num = int(input(\"Enter a number: \"))   # User se number input lo\n",
        "  print_divisors(num)                    # Divisors print karne wala function call karo\n",
        "\n",
        "\n",
        "if __name__ == \"__main__\":\n",
        "  main()\n"
      ],
      "metadata": {
        "colab": {
          "base_uri": "https://localhost:8080/"
        },
        "id": "38edgXgG2TDr",
        "outputId": "97bc1037-1f76-4417-fdde-42b9bccf6446"
      },
      "execution_count": 4,
      "outputs": [
        {
          "output_type": "stream",
          "name": "stdout",
          "text": [
            "Enter a number: 4\n",
            "Here are the divisors of 4\n",
            "1\n",
            "2\n",
            "4\n"
          ]
        }
      ]
    }
  ]
}