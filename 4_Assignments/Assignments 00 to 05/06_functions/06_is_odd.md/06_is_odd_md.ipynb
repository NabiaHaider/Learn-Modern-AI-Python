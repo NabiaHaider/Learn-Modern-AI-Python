{
  "nbformat": 4,
  "nbformat_minor": 0,
  "metadata": {
    "colab": {
      "provenance": []
    },
    "kernelspec": {
      "name": "python3",
      "display_name": "Python 3"
    },
    "language_info": {
      "name": "python"
    }
  },
  "cells": [
    {
      "cell_type": "code",
      "execution_count": 2,
      "metadata": {
        "colab": {
          "base_uri": "https://localhost:8080/"
        },
        "id": "wD7qXYHkMcsC",
        "outputId": "b658a0c5-1710-426a-c80c-83ede5bd4c1b"
      },
      "outputs": [
        {
          "output_type": "stream",
          "name": "stdout",
          "text": [
            "even\n",
            "odd\n",
            "even\n",
            "odd\n",
            "even\n",
            "odd\n",
            "even\n",
            "odd\n",
            "even\n",
            "odd\n"
          ]
        }
      ],
      "source": [
        "def main():\n",
        "  for i in range(10):   # Loop from 0 to 9\n",
        "    if is_odd(i):       # agar number odd hai\n",
        "      print('odd')      # to print 'odd'\n",
        "\n",
        "    else:\n",
        "      print('even')\n",
        "\n",
        "def is_odd(value: int):\n",
        "  \"\"\" Checks to see if a value is odd. If it is, returns true. \"\"\"\n",
        "\n",
        "  remainder = value % 2   # agar 2 se divide karne pe remainder 1 aaye to odd hai\n",
        "  return remainder == 1   # agar remainder 1 ho, to return True (odd), warna False\n",
        "\n",
        "if __name__ == '__main__':\n",
        "  main()"
      ]
    },
    {
      "cell_type": "code",
      "source": [
        "# Example:\n",
        "# even   0\n",
        "# odd    1\n",
        "# even   2\n",
        "# odd    3\n",
        "# even   4\n",
        "# odd    5\n",
        "# even   6\n",
        "# odd    7\n",
        "# even   8\n",
        "# odd    9"
      ],
      "metadata": {
        "id": "XTsl_qKFPAUd"
      },
      "execution_count": null,
      "outputs": []
    }
  ]
}