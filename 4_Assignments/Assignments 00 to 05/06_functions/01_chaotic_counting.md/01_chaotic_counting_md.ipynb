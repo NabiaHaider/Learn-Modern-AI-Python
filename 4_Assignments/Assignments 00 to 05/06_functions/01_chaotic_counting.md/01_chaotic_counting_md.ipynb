{
  "nbformat": 4,
  "nbformat_minor": 0,
  "metadata": {
    "colab": {
      "provenance": []
    },
    "kernelspec": {
      "name": "python3",
      "display_name": "Python 3"
    },
    "language_info": {
      "name": "python"
    }
  },
  "cells": [
    {
      "cell_type": "code",
      "source": [
        "import random  #  random number generate karne ke liye Python ka module import kiya\n",
        "\n",
        "DONE_LIKELIHOOD = 0.2  # 20% chance\n",
        "\n",
        "def chaotic_counting():\n",
        "    for i in range(10):   # 0 se 9 tak loop chalega, yani total 10 baar\n",
        "        curr_num = i + 1  # kyunki humein 1 se 10 tak ginna hai, is liye i+1\n",
        "        if done():    # har number se pehle check karte hain: kya hum ruk jaayein?\n",
        "            return    # agar done() ne True diya, to function yehi pe khatam ho jaye\n",
        "        print(curr_num) # agar done() ne False diya, to  again number print kar do\n",
        "\n",
        "def done():\n",
        "    if random.random() < DONE_LIKELIHOOD:   # random.random() 0.0 se 1.0 ke beech ek number deta hai\n",
        "        return True   # agar random number 0.2 se chhota ho, to \"ho gaya\" return karo\n",
        "    return False      # warna \"continue counting\"\n",
        "\n",
        "def main():\n",
        "    print(\"I'm going to count until 10 or until I feel like stopping, whichever comes first.\")\n",
        "    chaotic_counting()\n",
        "    print(\"I'm done\")\n",
        "\n",
        "if __name__ == \"__main__\":\n",
        "    main()\n"
      ],
      "metadata": {
        "colab": {
          "base_uri": "https://localhost:8080/"
        },
        "id": "ET0lNIFbHZzR",
        "outputId": "7224b06e-6320-430b-a5b8-7d154e8a6af5"
      },
      "execution_count": 12,
      "outputs": [
        {
          "output_type": "stream",
          "name": "stdout",
          "text": [
            "I'm going to count until 10 or until I feel like stopping, whichever comes first.\n",
            "1\n",
            "2\n",
            "3\n",
            "4\n",
            "I'm done\n"
          ]
        }
      ]
    },
    {
      "cell_type": "code",
      "source": [],
      "metadata": {
        "id": "xdiQp6S-Hdg0"
      },
      "execution_count": null,
      "outputs": []
    }
  ]
}