{
  "nbformat": 4,
  "nbformat_minor": 0,
  "metadata": {
    "colab": {
      "provenance": []
    },
    "kernelspec": {
      "name": "python3",
      "display_name": "Python 3"
    },
    "language_info": {
      "name": "python"
    }
  },
  "cells": [
    {
      "cell_type": "code",
      "execution_count": 2,
      "metadata": {
        "id": "aK0pKio5bNur",
        "colab": {
          "base_uri": "https://localhost:8080/"
        },
        "outputId": "63778af5-babd-4ecc-f060-17ea9b868790"
      },
      "outputs": [
        {
          "output_type": "stream",
          "name": "stdout",
          "text": [
            "Please type a message: Hello Nabia\n",
            "Enter a number of times to repeat your message: 5\n",
            "Hello Nabia\n",
            "Hello Nabia\n",
            "Hello Nabia\n",
            "Hello Nabia\n",
            "Hello Nabia\n"
          ]
        }
      ],
      "source": [
        "def print_multiple(message, repeats):\n",
        "  for i in range(repeats):   # repeat loop 'repeats' times\n",
        "    print(message)          # print the message\n",
        "\n",
        "def main():\n",
        "  message =input(\"Please type a message: \") # \"Get user message\" ✅\n",
        "  repeats = int(input('Enter a number of times to repeat your message: ')) #Get repeat time ✅\n",
        "  print_multiple(message, repeats)  # \"Call the function\" ✅\n",
        "\n",
        "if __name__ == '__main__':\n",
        "  main()"
      ]
    }
  ]
}