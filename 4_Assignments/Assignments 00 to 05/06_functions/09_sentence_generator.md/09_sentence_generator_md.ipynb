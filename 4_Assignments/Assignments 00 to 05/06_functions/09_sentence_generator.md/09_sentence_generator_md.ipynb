{
  "nbformat": 4,
  "nbformat_minor": 0,
  "metadata": {
    "colab": {
      "provenance": []
    },
    "kernelspec": {
      "name": "python3",
      "display_name": "Python 3"
    },
    "language_info": {
      "name": "python"
    }
  },
  "cells": [
    {
      "cell_type": "code",
      "execution_count": 1,
      "metadata": {
        "id": "gT05mYf66d8G",
        "colab": {
          "base_uri": "https://localhost:8080/"
        },
        "outputId": "afffd240-dd3f-461a-b1de-6f9f4e03a0fd"
      },
      "outputs": [
        {
          "output_type": "stream",
          "name": "stdout",
          "text": [
            "Please type a noun, verb or adjective: Looking out my window, the sky is big and groovy!\n",
            "Is this a noun , verb, or adjective?\n",
            "Type 0 for noun, 1 for verb, 2 for adjective: 2\n",
            "Looking out my window, the sky is big and Looking out my window, the sky is big and groovy!!\n"
          ]
        }
      ],
      "source": [
        "def make_sentence(word, part_of_speech):\n",
        "  if part_of_speech == 0:\n",
        "    # noun\n",
        "    print(\"I am excited to add this \" + word + \"to my vast collection of them! \")\n",
        "  elif part_of_speech == 1:\n",
        "    # verb\n",
        "    print(\"It's so nice outside today it makes me want to \" + word + \"!\")\n",
        "  elif part_of_speech == 2:\n",
        "    # adjective\n",
        "    print(\"Looking out my window, the sky is big and \" + word + \"!\")\n",
        "  else:\n",
        "    # part_of_speech is invalid (not 0, 1, or 2)\n",
        "    print(\"Part of speech mustbe 0, 1, or 2! Can't make a sentence.\" )\n",
        "\n",
        "def main():\n",
        "  word : str = input(\"Please type a noun, verb or adjective: \")\n",
        "  print(\"Is this a noun , verb, or adjective?\")\n",
        "  part_of_speech = int(input(\"Type 0 for noun, 1 for verb, 2 for adjective: \"))\n",
        "  make_sentence(word, part_of_speech)\n",
        "\n",
        "if __name__ == \"__main__\":\n",
        "  main()"
      ]
    }
  ]
}