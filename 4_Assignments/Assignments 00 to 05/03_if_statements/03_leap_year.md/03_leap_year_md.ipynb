{
  "nbformat": 4,
  "nbformat_minor": 0,
  "metadata": {
    "colab": {
      "provenance": []
    },
    "kernelspec": {
      "name": "python3",
      "display_name": "Python 3"
    },
    "language_info": {
      "name": "python"
    }
  },
  "cells": [
    {
      "cell_type": "code",
      "source": [
        "def main():\n",
        "    # Get the year to check from the user\n",
        "    year = int(input('Please input a year: '))\n",
        "\n",
        "    if year % 4 == 0:  # Checking whether the provided year is evenly divisibly by 4\n",
        "        if year % 100 == 0:  # Checking whether the provided year is evenly divisibly by 100\n",
        "            if year % 400 == 0:  # Checking whether the provided year is evenly divisibly by 400\n",
        "                print(\"That's a leap year!\")\n",
        "            else:  # Not divisible by 400\n",
        "                print(\"That's not a leap year.\")\n",
        "        else:  # Not divisible by 100\n",
        "            print(\"That's a leap year!\")\n",
        "    else:  # Not divisible by 4\n",
        "        print(\"That's not a leap year.\")\n",
        "\n",
        "\n",
        "if __name__ == '__main__':\n",
        "    main()"
      ],
      "metadata": {
        "colab": {
          "base_uri": "https://localhost:8080/"
        },
        "id": "Bq07Tyw5uED7",
        "outputId": "aa803fb5-e32a-42a9-ef7a-57917b1fc87e"
      },
      "execution_count": 8,
      "outputs": [
        {
          "output_type": "stream",
          "name": "stdout",
          "text": [
            "Please input a year: 4\n",
            "That's a leap year!\n"
          ]
        }
      ]
    },
    {
      "cell_type": "code",
      "source": [
        "#Leap year aisa saal hota hai jisme ek extra din hota hai. Normal saal mein 365 din hote hain,\n",
        "# lekin leap year mein 366 din hote hain. Isme February mein 28 din ke bajaye 29 din hote hain."
      ],
      "metadata": {
        "id": "lfMxY8YKu4dh"
      },
      "execution_count": null,
      "outputs": []
    }
  ]
}