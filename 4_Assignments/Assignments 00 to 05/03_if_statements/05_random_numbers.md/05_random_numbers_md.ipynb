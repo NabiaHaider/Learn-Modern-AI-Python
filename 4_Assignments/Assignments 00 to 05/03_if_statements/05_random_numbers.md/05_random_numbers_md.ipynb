{
  "nbformat": 4,
  "nbformat_minor": 0,
  "metadata": {
    "colab": {
      "provenance": []
    },
    "kernelspec": {
      "name": "python3",
      "display_name": "Python 3"
    },
    "language_info": {
      "name": "python"
    }
  },
  "cells": [
    {
      "cell_type": "code",
      "execution_count": 6,
      "metadata": {
        "colab": {
          "base_uri": "https://localhost:8080/"
        },
        "id": "lBL9mjFdO5ny",
        "outputId": "8349c9cf-bc25-47bc-c861-58deb5e181fe"
      },
      "outputs": [
        {
          "output_type": "stream",
          "name": "stdout",
          "text": [
            "19 93 62 59 68 37 7 4 99 47 "
          ]
        }
      ],
      "source": [
        "import random  # random module ko import kar rahe hain\n",
        "\n",
        "# Constants define kar rahe hain\n",
        "N_NUMBERS: int = 10      # Kitne numbers print karne hain\n",
        "MIN_VALUE: int = 1       # Minimum value\n",
        "MAX_VALUE: int = 100     # Maximum value\n",
        "\n",
        "def main():\n",
        "  \"\"\" Prints N_NUMBERS randon integers between MIN_VALUE and MAX_VALUE \"\"\"\n",
        "  for _ in range(N_NUMBERS):  # Loop 10 dafa chalega\n",
        "        number = random.randint(MIN_VALUE, MAX_VALUE)  # Random number generate hoga\n",
        "        print(number, end=\" \")  # Number ek hi line mein space ke sath print hoga\n",
        "\n",
        "if __name__ == '__main__':\n",
        "    main()"
      ]
    }
  ]
}