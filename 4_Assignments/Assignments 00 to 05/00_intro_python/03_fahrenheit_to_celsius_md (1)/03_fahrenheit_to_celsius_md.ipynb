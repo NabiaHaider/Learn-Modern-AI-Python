{
  "nbformat": 4,
  "nbformat_minor": 0,
  "metadata": {
    "colab": {
      "provenance": []
    },
    "kernelspec": {
      "name": "python3",
      "display_name": "Python 3"
    },
    "language_info": {
      "name": "python"
    }
  },
  "cells": [
    {
      "cell_type": "code",
      "source": [
        "def temperature():\n",
        "\n",
        "      # the user for temperature in Fahrenheit\n",
        "     degrees_fahrenheit = float(input(\"Enter temperature in Fahrenheit:\"))\n",
        "\n",
        "      # Convert Fahrenheit to Celsius\n",
        "     degrees_celsius = (degrees_fahrenheit -32) * 5.0 /9.0\n",
        "\n",
        "     #Print the Result\n",
        "     print(f\"Temperature: {degrees_fahrenheit}F = { degrees_celsius}C \")\n",
        "\n",
        "if __name__ == \"__main__\":\n",
        "     temperature()\n"
      ],
      "metadata": {
        "colab": {
          "base_uri": "https://localhost:8080/"
        },
        "id": "bZHx9it83AXi",
        "outputId": "6be04ae1-24f8-4481-d4e2-e920ca6ba6a9"
      },
      "execution_count": null,
      "outputs": [
        {
          "output_type": "stream",
          "name": "stdout",
          "text": [
            "Enter temperature in Fahrenheit:9\n",
            "Temperature: 9.0F = -12.777777777777779C \n"
          ]
        }
      ]
    },
    {
      "cell_type": "markdown",
      "source": [
        "* float is used to handle decimal numbers, ensuring proper calculations in temperature conversion"
      ],
      "metadata": {
        "id": "i4QNcFdW39LO"
      }
    },
    {
      "cell_type": "markdown",
      "source": [
        "* Fahrenheit and Celsius are two different temperature scales.\n",
        "\n",
        "* Celsius is used in most countries.\n",
        "\n",
        "* Fahrenheit is mainly used in the United States."
      ],
      "metadata": {
        "id": "JDRlOmEU4KQh"
      }
    }
  ]
}