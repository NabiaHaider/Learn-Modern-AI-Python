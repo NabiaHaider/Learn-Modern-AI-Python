{
  "nbformat": 4,
  "nbformat_minor": 0,
  "metadata": {
    "colab": {
      "provenance": [],
      "toc_visible": true
    },
    "kernelspec": {
      "name": "python3",
      "display_name": "Python 3"
    },
    "language_info": {
      "name": "python"
    }
  },
  "cells": [
    {
      "cell_type": "code",
      "source": [
        "def main ():\n",
        "  first_number = int(input(\"Enter the first number:\"))\n",
        "  second_number = int(input(\"Enter the second number:\"))\n",
        "  total_sum = first_number + second_number\n",
        "  print(f\"The sum of {first_number} and {second_number} is {total_sum}.\")\n",
        "\n",
        "# Run the main function\n",
        "if __name__ == \"__main__\":\n",
        "  main()\n",
        "\n",
        "\n",
        "\n"
      ],
      "metadata": {
        "colab": {
          "base_uri": "https://localhost:8080/"
        },
        "id": "H80Yi--5mXVS",
        "outputId": "7dedfa97-1457-4b66-df8f-52df9c92657b"
      },
      "execution_count": 8,
      "outputs": [
        {
          "output_type": "stream",
          "name": "stdout",
          "text": [
            "Enter the first number:3\n",
            "Enter the second number:5\n",
            "The sum of 3 and 5 is 8.\n"
          ]
        }
      ]
    }
  ]
}