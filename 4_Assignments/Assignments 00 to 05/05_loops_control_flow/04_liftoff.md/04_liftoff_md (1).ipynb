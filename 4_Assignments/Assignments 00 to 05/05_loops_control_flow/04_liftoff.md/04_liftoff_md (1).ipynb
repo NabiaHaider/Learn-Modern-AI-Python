{
  "nbformat": 4,
  "nbformat_minor": 0,
  "metadata": {
    "colab": {
      "provenance": []
    },
    "kernelspec": {
      "name": "python3",
      "display_name": "Python 3"
    },
    "language_info": {
      "name": "python"
    }
  },
  "cells": [
    {
      "cell_type": "code",
      "source": [
        "def spaceship_launch():\n",
        "    for i in range(10):\n",
        "        print(f\"{10 - i} \", end=' ')\n",
        "    print(\"🚀 Liftoff! 🌌\")\n",
        "\n",
        "# Function call\n",
        "spaceship_launch()\n"
      ],
      "metadata": {
        "colab": {
          "base_uri": "https://localhost:8080/"
        },
        "id": "Ljz1qfZVFNED",
        "outputId": "686b25b8-b354-481b-f555-f537df21656c"
      },
      "execution_count": 5,
      "outputs": [
        {
          "output_type": "stream",
          "name": "stdout",
          "text": [
            "10  9  8  7  6  5  4  3  2  1  🚀 Liftoff! 🌌\n"
          ]
        }
      ]
    },
    {
      "cell_type": "code",
      "source": [
        "# range(10) goes from 0 to 9.\n",
        "\n",
        "# 10 - i gives us the countdown from 10 to 1.\n",
        "\n",
        "# end=' ' ensures everything is printed on the same line with a space.\n",
        "\n",
        "# Finally, \"Liftoff!\" is printed after the countdown."
      ],
      "metadata": {
        "id": "buH2pah5EyjJ"
      },
      "execution_count": null,
      "outputs": []
    }
  ]
}