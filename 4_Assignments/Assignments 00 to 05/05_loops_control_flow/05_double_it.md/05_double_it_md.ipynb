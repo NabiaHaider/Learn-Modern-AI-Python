{
  "nbformat": 4,
  "nbformat_minor": 0,
  "metadata": {
    "colab": {
      "provenance": []
    },
    "kernelspec": {
      "name": "python3",
      "display_name": "Python 3"
    },
    "language_info": {
      "name": "python"
    }
  },
  "cells": [
    {
      "cell_type": "code",
      "source": [
        "# 🔧 Function define kar rahe hain jiska naam hai double_until_100\n",
        "def double_until_100():\n",
        "    # 🧑‍💻 User se input le rahe hain aur integer mein convert kar rahe hain\n",
        "    curr_value = int(input(\"🔢 Enter a number: \"))\n",
        "\n",
        "    # 🔁 Jab tak curr_value 100 se chhota hai, loop chalta rahega\n",
        "    while curr_value < 100:\n",
        "        # ✖️ curr_value ko double kar rahe hain\n",
        "        curr_value = curr_value * 2\n",
        "\n",
        "        # 📤 Doubled value ko print kar rahe hain, space ke sath\n",
        "        print(curr_value, end=\" \")\n",
        "\n",
        "# ▶️ Function ko call kar rahe hain taake program chale\n",
        "double_until_100()\n"
      ],
      "metadata": {
        "colab": {
          "base_uri": "https://localhost:8080/"
        },
        "id": "DvxivxacODrd",
        "outputId": "dadec022-5b82-40b4-cb2f-b9ec0409c092"
      },
      "execution_count": 5,
      "outputs": [
        {
          "output_type": "stream",
          "name": "stdout",
          "text": [
            "🔢 Koi number enter karein: 2\n",
            "4 8 16 32 64 128 "
          ]
        }
      ]
    }
  ]
}