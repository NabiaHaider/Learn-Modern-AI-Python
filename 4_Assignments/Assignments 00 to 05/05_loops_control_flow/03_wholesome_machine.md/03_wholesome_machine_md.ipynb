{
  "nbformat": 4,
  "nbformat_minor": 0,
  "metadata": {
    "colab": {
      "provenance": []
    },
    "kernelspec": {
      "name": "python3",
      "display_name": "Python 3"
    },
    "language_info": {
      "name": "python"
    }
  },
  "cells": [
    {
      "cell_type": "code",
      "source": [
        "def main():\n",
        "    affirmation = \"I am capable of doing anything I put my mind to.\"\n",
        "\n",
        "    print(\"📝 Please type the following affirmation:\\n\", affirmation)\n",
        "    user_input = input(\"👉 \") # Get user's input\n",
        "\n",
        "    # Jab tak user galat likhta hai, tab tak repeat karo\n",
        "    while user_input != affirmation:\n",
        "        print(\"❌ Hmmm, that was not the affirmation. Let's try again! 🔁\")\n",
        "        print(\"📝 Please type the following affirmation:\\n\", affirmation)\n",
        "        user_input = input(\"👉 \")\n",
        "\n",
        "    # Jab sahi likha, toh message do\n",
        "    print(\"✅ That's right! You are amazing! 😊💖\")\n",
        "\n",
        "if __name__ == '__main__':\n",
        "    main()\n"
      ],
      "metadata": {
        "id": "hETxESCm8eHn",
        "colab": {
          "base_uri": "https://localhost:8080/"
        },
        "outputId": "85927ffe-0d1a-445d-a286-18926d272d76"
      },
      "execution_count": 2,
      "outputs": [
        {
          "output_type": "stream",
          "name": "stdout",
          "text": [
            "📝 Please type the following affirmation:\n",
            " I am capable of doing anything I put my mind to.\n",
            "👉 I am capable of doing anything i put my mind to.\n",
            "❌ Hmmm, that was not the affirmation. Let's try again! 🔁\n",
            "📝 Please type the following affirmation:\n",
            " I am capable of doing anything I put my mind to.\n",
            "👉 I am capable of doing anything I put my mind to.\n",
            "✅ That's right! You are amazing! 😊💖\n"
          ]
        }
      ]
    }
  ]
}