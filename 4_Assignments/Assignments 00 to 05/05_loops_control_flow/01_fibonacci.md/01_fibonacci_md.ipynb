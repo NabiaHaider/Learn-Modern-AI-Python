{
  "nbformat": 4,
  "nbformat_minor": 0,
  "metadata": {
    "colab": {
      "provenance": []
    },
    "kernelspec": {
      "name": "python3",
      "display_name": "Python 3"
    },
    "language_info": {
      "name": "python"
    }
  },
  "cells": [
    {
      "cell_type": "code",
      "source": [
        "MAX_TERM_VALUE: int = 10000\n",
        "\n",
        "def main():\n",
        "    curr_term = 0  # The 0th Fibonacci number (Fib(0))\n",
        "    next_term = 1  # The 1st Fibonacci number (Fib(1))\n",
        "\n",
        "    # Jab tak current number MAX_TERM_VALUE se chhota ya barabar hai, loop chalega\n",
        "    while curr_term <= MAX_TERM_VALUE:\n",
        "        print(curr_term)  # Current term ko print kary ga\n",
        "\n",
        "        # Agla term calculate karo: current + next\n",
        "        term_after_next = curr_term + next_term\n",
        "\n",
        "        # values ko update karo agle iteration ke liye\n",
        "        curr_term = next_term\n",
        "        next_term = term_after_next\n",
        "\n",
        "if __name__ == '__main__':\n",
        "    main()\n"
      ],
      "metadata": {
        "colab": {
          "base_uri": "https://localhost:8080/"
        },
        "id": "E4brzcb6zXVI",
        "outputId": "dd795a9b-f8bd-4548-9dc4-a47a703c285f"
      },
      "execution_count": 4,
      "outputs": [
        {
          "output_type": "stream",
          "name": "stdout",
          "text": [
            "0\n",
            "1\n",
            "1\n",
            "2\n",
            "3\n",
            "5\n",
            "8\n",
            "13\n",
            "21\n",
            "34\n",
            "55\n",
            "89\n",
            "144\n",
            "233\n",
            "377\n",
            "610\n",
            "987\n",
            "1597\n",
            "2584\n",
            "4181\n",
            "6765\n"
          ]
        }
      ]
    },
    {
      "cell_type": "code",
      "source": [
        "# Fibonacci sequence ek aisi sankhyaon ki kram hai jisme:\n",
        "\n",
        "# Pehla number (Fib(0)) = 0\n",
        "# Dusra number (Fib(1)) = 1\n",
        "# Uske baad har number pichhle do numbers ka yog (sum) hota hai\n",
        "# Example:\n",
        "# Fib(0) = 0\n",
        "# Fib(1) = 1\n",
        "# Fib(2) = 1  (0 + 1)\n",
        "# Fib(3) = 2  (1 + 1)\n"
      ],
      "metadata": {
        "id": "scK3eCmdy3pF"
      },
      "execution_count": null,
      "outputs": []
    }
  ]
}