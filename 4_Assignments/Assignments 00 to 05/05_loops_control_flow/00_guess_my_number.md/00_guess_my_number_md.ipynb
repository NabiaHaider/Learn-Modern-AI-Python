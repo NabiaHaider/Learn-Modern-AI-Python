{
  "nbformat": 4,
  "nbformat_minor": 0,
  "metadata": {
    "colab": {
      "provenance": []
    },
    "kernelspec": {
      "name": "python3",
      "display_name": "Python 3"
    },
    "language_info": {
      "name": "python"
    }
  },
  "cells": [
    {
      "cell_type": "code",
      "execution_count": null,
      "metadata": {
        "colab": {
          "base_uri": "https://localhost:8080/"
        },
        "id": "PqUXA9m3PtKI",
        "outputId": "7636a153-4b56-400b-a02c-7f1b7b5c987a"
      },
      "outputs": [
        {
          "output_type": "stream",
          "name": "stdout",
          "text": [
            "I am thinking of a number between 1 and 99...\n",
            "Enter a guess: 34\n",
            "Your guess is to low\n",
            "\n",
            "Enter a new guess: 12\n",
            "Your guess is to low\n",
            "\n",
            "Enter a new guess: 87\n",
            "Your guess is too high\n",
            "\n",
            "Enter a new guess: 93\n",
            "Your guess is too high\n",
            "\n"
          ]
        }
      ],
      "source": [
        "import random\n",
        "\n",
        "def main():\n",
        "  # Generate the secret numbeer at random!\n",
        "  secret_number = random.randint(1, 99)\n",
        "\n",
        "  print(\"I am thinking of a number between 1 and 99...\")\n",
        "\n",
        "  # Get user's guess\n",
        "  guess = int(input(\"Enter a guess: \"))\n",
        "  # True if guess is not equal to secret number\n",
        "  while guess != secret_number:\n",
        "    if guess < secret_number:  # If-statement is True if guess is less than secret number\n",
        "      print(\"Your guess is to low\")\n",
        "    else:\n",
        "      print(\"Your guess is too high\")\n",
        "\n",
        "    print() # Print an empty line to tidy up the console for new guesses\n",
        "    guess = int(input(\"Enter a new guess: \"))  # Get a new guess from the user\n",
        "\n",
        "  print(\"Congrates! The number was: \" + str(secret_number))\n",
        "\n",
        "if __name__ == \"__main__\":\n",
        "  main()"
      ]
    }
  ]
}