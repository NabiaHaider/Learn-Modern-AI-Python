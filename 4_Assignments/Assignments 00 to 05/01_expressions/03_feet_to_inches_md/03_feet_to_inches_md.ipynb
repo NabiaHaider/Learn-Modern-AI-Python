{
  "nbformat": 4,
  "nbformat_minor": 0,
  "metadata": {
    "colab": {
      "provenance": []
    },
    "kernelspec": {
      "name": "python3",
      "display_name": "Python 3"
    },
    "language_info": {
      "name": "python"
    }
  },
  "cells": [
    {
      "cell_type": "code",
      "execution_count": 1,
      "metadata": {
        "id": "YPB8ubClBd0U",
        "colab": {
          "base_uri": "https://localhost:8080/"
        },
        "outputId": "14af14c2-e099-4d2d-ff2e-269bafc67b92"
      },
      "outputs": [
        {
          "output_type": "stream",
          "name": "stdout",
          "text": [
            "Enter number of feet:3\n",
            "That is 36.0 inches!\n"
          ]
        }
      ],
      "source": [
        "INCHES_IN_FOOT: int = 12   #conversion factor. There are 12 inches in 1 feet.\n",
        "\n",
        "def main():\n",
        "  feet: float = float(input(\"Enter number of feet:\"))  #user se feet ka input lena hai aur use float (decimal number) me convert karna hai.\n",
        "  inches: float = feet * INCHES_IN_FOOT     # Perforrm the conversion\n",
        "  print(\"That is\", inches, \"inches!\")\n",
        "\n",
        "if __name__ == \"__main__\":\n",
        "  main()"
      ]
    }
  ]
}