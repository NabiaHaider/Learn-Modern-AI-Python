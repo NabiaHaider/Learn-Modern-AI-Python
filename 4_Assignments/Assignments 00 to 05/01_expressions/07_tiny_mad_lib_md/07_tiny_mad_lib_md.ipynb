{
  "nbformat": 4,
  "nbformat_minor": 0,
  "metadata": {
    "colab": {
      "provenance": []
    },
    "kernelspec": {
      "name": "python3",
      "display_name": "Python 3"
    },
    "language_info": {
      "name": "python"
    }
  },
  "cells": [
    {
      "cell_type": "code",
      "source": [
        "SENTENCE_START: str = \"Panaversity is fun. I learned to program and used Python to make my \" # adjective noun verb\n",
        "\n",
        "def main():\n",
        "    # Get the three inputs from the user to make the adlib\n",
        "    adjective: str = input(\"Please type an adjective and press enter. \")\n",
        "    noun: str = input(\"Please type a noun and press enter. \")\n",
        "    verb: str = input(\"Please type a verb and press enter. \")\n",
        "\n",
        "    # Join the inputs together with the sentence starter\n",
        "    print(SENTENCE_START + adjective + \" \" + noun + \" \" + verb + \"!\")\n",
        "\n",
        "\n",
        "# There is no need to edit code beyond this point\n",
        "\n",
        "if __name__ == '__main__':\n",
        "    main()"
      ],
      "metadata": {
        "colab": {
          "base_uri": "https://localhost:8080/"
        },
        "id": "jmvAWmZ_NMlz",
        "outputId": "c1267b7c-ea4f-4c62-da55-9116479f8681"
      },
      "execution_count": 6,
      "outputs": [
        {
          "output_type": "stream",
          "name": "stdout",
          "text": [
            "Please type an adjective and press enter. tiny\n",
            "Please type a noun and press enter. plant\n",
            "Please type a verb and press enter. fly\n",
            "Panaversity is fun. I learned to program and used Python to make my tiny plant fly!\n"
          ]
        }
      ]
    },
    {
      "cell_type": "code",
      "source": [
        "# Constants\n",
        "SENTENCE_START = \"Code in Place is fun. I learned to program and used Python to make my\"\n",
        "\n",
        "# User input\n",
        "adjective = input(\"Please type an adjective and press enter: \")\n",
        "noun = input(\"Please type a noun and press enter: \")\n",
        "verb = input(\"Please type a verb and press enter: \")\n",
        "\n",
        "# Output the fun sentence\n",
        "print(f\"{SENTENCE_START} {adjective} {noun} {verb}!\")\n"
      ],
      "metadata": {
        "colab": {
          "base_uri": "https://localhost:8080/"
        },
        "id": "fLzGkLkBNjJf",
        "outputId": "44e9d282-37bf-4727-c0b3-5adb2384cf68"
      },
      "execution_count": 7,
      "outputs": [
        {
          "output_type": "stream",
          "name": "stdout",
          "text": [
            "Please type an adjective and press enter: tiny \n",
            "Please type a noun and press enter: plant\n",
            "Please type a verb and press enter: fly\n",
            "Code in Place is fun. I learned to program and used Python to make my tiny  plant fly!\n"
          ]
        }
      ]
    }
  ]
}