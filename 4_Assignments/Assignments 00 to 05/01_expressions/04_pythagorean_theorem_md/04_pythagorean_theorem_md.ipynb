{
  "nbformat": 4,
  "nbformat_minor": 0,
  "metadata": {
    "colab": {
      "provenance": []
    },
    "kernelspec": {
      "name": "python3",
      "display_name": "Python 3"
    },
    "language_info": {
      "name": "python"
    }
  },
  "cells": [
    {
      "cell_type": "code",
      "source": [
        "import math  # Square root function ke liye math module import karna\n",
        "\n",
        "def main():\n",
        "    # User se perpendicular sides ka input lena aur float me convert karna\n",
        "    side1 = float(input(\"Enter the length of AB: \"))\n",
        "    side2 = float(input(\"Enter the length of AC: \"))\n",
        "\n",
        "    # Pythagorean theorem apply karna\n",
        "    hypotenuse = math.sqrt(side1 ** 2 + side2 ** 2)\n",
        "\n",
        "    # Output dikhana\n",
        "    print(\"\\nThe length of BC (the hypotenuse) is:\", hypotenuse)\n",
        "\n",
        "# Program ko run karne ke liye\n",
        "if __name__ == \"__main__\":\n",
        "    main()\n"
      ],
      "metadata": {
        "colab": {
          "base_uri": "https://localhost:8080/"
        },
        "id": "8cq9dxPCJBlM",
        "outputId": "b0f2efa7-f157-4cc5-a770-ad14b5ea0694"
      },
      "execution_count": 3,
      "outputs": [
        {
          "output_type": "stream",
          "name": "stdout",
          "text": [
            "Enter the length of AB: 3\n",
            "Enter the length of AC: 4\n",
            "\n",
            "The length of BC (the hypotenuse) is: 5.0\n"
          ]
        }
      ]
    },
    {
      "cell_type": "code",
      "source": [
        "import math  # Import the math library so we can use the sqrt function\n",
        "\n",
        "def main():\n",
        "    # Get the two side lengths from the user and cast them to be numbers\n",
        "    ab: float = float(input(\"Enter the length of AB: \"))\n",
        "    ac: float = float(input(\"Enter the length of AC: \"))\n",
        "\n",
        "    # Calculate the hypotenuse using the two sides and print it out\n",
        "    bc: float = math.sqrt(ab**2 + ac**2)\n",
        "    print(\"The length of BC (the hypotenuse) is: \" + str(bc))\n",
        "\n",
        "\n",
        "# There is no need to edit code beyond this point\n",
        "\n",
        "if __name__ == '__main__':\n",
        "    main()"
      ],
      "metadata": {
        "colab": {
          "base_uri": "https://localhost:8080/"
        },
        "id": "onmE3XFeIWjR",
        "outputId": "c48de956-4764-4b3c-b4e0-a2e2cbef8e2b"
      },
      "execution_count": 2,
      "outputs": [
        {
          "output_type": "stream",
          "name": "stdout",
          "text": [
            "Enter the length of AB: 3\n",
            "Enter the length of AC: 2\n",
            "The length of BC (the hypotenuse) is: 3.605551275463989\n"
          ]
        }
      ]
    }
  ]
}