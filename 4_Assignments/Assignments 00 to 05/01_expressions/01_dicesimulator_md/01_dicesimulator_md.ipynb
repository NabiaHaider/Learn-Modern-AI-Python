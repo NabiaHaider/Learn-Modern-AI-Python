{
  "nbformat": 4,
  "nbformat_minor": 0,
  "metadata": {
    "colab": {
      "provenance": []
    },
    "kernelspec": {
      "name": "python3",
      "display_name": "Python 3"
    },
    "language_info": {
      "name": "python"
    }
  },
  "cells": [
    {
      "cell_type": "code",
      "source": [
        "# Import the random library which lets us simulate random things like dice!\n",
        "import random\n",
        "\n",
        "# Number of sides on each die to roll\n",
        "NUM_SIDES = 6\n",
        "\n",
        "def roll_dice():\n",
        "    \"\"\"\n",
        "    Simulates rolling two dice and prints their total\n",
        "    \"\"\"\n",
        "    die1: int = random.randint(1, NUM_SIDES)\n",
        "    die2: int = random.randint(1, NUM_SIDES)\n",
        "    total: int = die1 + die2\n",
        "    print(\"Total of two dice:\", total)\n",
        "\n",
        "def main():\n",
        "    die1: int = 10\n",
        "    print(\"die1 in main() starts as: \" + str(die1))\n",
        "    roll_dice()\n",
        "    roll_dice()\n",
        "    roll_dice()\n",
        "    print(\"die1 in main() is: \" + str(die1))\n",
        "\n",
        "# This provided line is required at the end of a Python file\n",
        "# to call the main() function.\n",
        "if __name__ == '__main__':\n",
        "    main()"
      ],
      "metadata": {
        "colab": {
          "base_uri": "https://localhost:8080/"
        },
        "id": "GWA44YWA4DLe",
        "outputId": "bc4cce22-4e57-44f8-da4d-d320dee7be34"
      },
      "execution_count": 2,
      "outputs": [
        {
          "output_type": "stream",
          "name": "stdout",
          "text": [
            "die1 in main() starts as: 10\n",
            "Total of two dice: 11\n",
            "Total of two dice: 8\n",
            "Total of two dice: 10\n",
            "die1 in main() is: 10\n"
          ]
        }
      ]
    },
    {
      "cell_type": "code",
      "source": [
        "# Import the random library which lets us simulate random things like dice!\n",
        "import random  # Random numbers generate karne ke liye library import kar rahe hain\n",
        "\n",
        "# Number of sides on each die to roll\n",
        "NUM_SIDES = 6  # Ek dice ke 6 sides hote hain, isliye ye constant variable define kiya hai\n",
        "\n",
        "def roll_dice():\n",
        "    \"\"\"\n",
        "    Simulates rolling two dice and prints their total\n",
        "    \"\"\"\n",
        "    # Pehla dice roll karna (1 se 6 tak random number generate karna)\n",
        "    die1: int = random.randint(1, NUM_SIDES)\n",
        "\n",
        "    # Dusra dice roll karna (1 se 6 tak random number generate karna)\n",
        "    die2: int = random.randint(1, NUM_SIDES)\n",
        "\n",
        "    # Dono dice ka sum calculate karna\n",
        "    total: int = die1 + die2\n",
        "\n",
        "    # Total ka result print karna\n",
        "    print(\"Total of two dice:\", total)\n",
        "\n",
        "def main():\n",
        "    # Yeh variable sirf is function ke andar kaam karega, aur iska roll_dice() se koi lena dena nahi hai\n",
        "    die1: int = 10\n",
        "    print(\"die1 in main() starts as: \" + str(die1))  # Initial value print karna\n",
        "\n",
        "    # Teen baar dice roll karna\n",
        "    roll_dice()\n",
        "    roll_dice()\n",
        "    roll_dice()\n",
        "\n",
        "    # Final value print karna (jo ab bhi 10 hi rahegi, kyunki roll_dice() wale die1 se alag hai)\n",
        "    print(\"die1 in main() is: \" + str(die1))\n",
        "\n",
        "# Yeh line ensure karti hai ki program tabhi chale jab script direct run ho\n",
        "if __name__ == '__main__':\n",
        "    main()  # main() function ko call karna, taki program chale\n"
      ],
      "metadata": {
        "colab": {
          "base_uri": "https://localhost:8080/"
        },
        "id": "PYIUy7fz55QW",
        "outputId": "72b6d1a3-6178-4c55-8d6c-77e0de42aebd"
      },
      "execution_count": 3,
      "outputs": [
        {
          "output_type": "stream",
          "name": "stdout",
          "text": [
            "die1 in main() starts as: 10\n",
            "Total of two dice: 3\n",
            "Total of two dice: 4\n",
            "Total of two dice: 12\n",
            "die1 in main() is: 10\n"
          ]
        }
      ]
    },
    {
      "cell_type": "code",
      "source": [
        "# random.randint(1, NUM_SIDES) – Random number generate karta hai (1 se 6 tak).\n",
        "# roll_dice() – Do dice roll karta hai aur unka total print karta hai.\n",
        "# main() – Pehle die1 = 10 print karta hai, phir 3 baar dice roll karta hai, aur dubara die1 print karta hai."
      ],
      "metadata": {
        "id": "QmGUom326zja"
      },
      "execution_count": null,
      "outputs": []
    }
  ]
}