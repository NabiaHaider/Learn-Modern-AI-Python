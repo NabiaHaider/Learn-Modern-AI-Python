{
  "nbformat": 4,
  "nbformat_minor": 0,
  "metadata": {
    "colab": {
      "provenance": []
    },
    "kernelspec": {
      "name": "python3",
      "display_name": "Python 3"
    },
    "language_info": {
      "name": "python"
    }
  },
  "cells": [
    {
      "cell_type": "code",
      "source": [
        "# Speed of light constant (m/s)\n",
        "C = 299792458\n",
        "\n",
        "while True:  # Program ko bar bar chalane ke liye loop\n",
        "    # User se mass (kg) input lena\n",
        "    mass = float(input(\"Enter kilos of mass: \"))\n",
        "\n",
        "    # Mass-energy formula ka istemal\n",
        "    energy = mass * C**2\n",
        "\n",
        "    # Calculation ko print karna\n",
        "    print(\"\\ne = m * C^2...\\n\")\n",
        "    print(f\"m = {mass} kg\")\n",
        "    print(f\"C = {C} m/s\\n\")\n",
        "    print(f\"{energy} joules of energy!\\n\")\n",
        "\n",
        "    # User se poochhna ke dobara chalana hai ya nahi\n",
        "    again = input(\"Do you want to calculate again? (yes/no): \").strip().lower()\n",
        "    if again != 'yes':\n",
        "        break  # Agar user 'yes' na likhe to loop band kar do"
      ],
      "metadata": {
        "colab": {
          "base_uri": "https://localhost:8080/"
        },
        "id": "pOVtpl0D-mNM",
        "outputId": "4fbfaef9-1d1d-48db-f77a-ca3e3fef62b8"
      },
      "execution_count": 2,
      "outputs": [
        {
          "name": "stdout",
          "output_type": "stream",
          "text": [
            "Enter kilos of mass: 100\n",
            "\n",
            "e = m * C^2...\n",
            "\n",
            "m = 100.0 kg\n",
            "C = 299792458 m/s\n",
            "\n",
            "8.987551787368176e+18 joules of energy!\n",
            "\n",
            "Do you want to calculate again? (yes/no): yes\n",
            "Enter kilos of mass: 10\n",
            "\n",
            "e = m * C^2...\n",
            "\n",
            "m = 10.0 kg\n",
            "C = 299792458 m/s\n",
            "\n",
            "8.987551787368177e+17 joules of energy!\n",
            "\n",
            "Do you want to calculate again? (yes/no): no\n"
          ]
        }
      ]
    },
    {
      "cell_type": "code",
      "source": [
        "# Speed of light (C) ek constant hai jo meters per second (m/s) me defined hai\n",
        "C: int = 299792458  # The speed of light in m/s\n",
        "\n",
        "def main():\n",
        "    # User se mass (kg) input lena aur float me convert karna\n",
        "    mass_in_kg: float = float(input(\"Enter kilos of mass: \"))\n",
        "\n",
        "    # Einstein ki equation apply karna: E = m * C^2\n",
        "    # ** operator ka use C ka square lene ke liye hota hai\n",
        "    energy_in_joules: float = mass_in_kg * (C ** 2)\n",
        "\n",
        "    # Calculation ka formula print karna\n",
        "    print(\"e = m * C^2...\")\n",
        "\n",
        "    # Mass ki value dikhana\n",
        "    print(\"m = \" + str(mass_in_kg) + \" kg\")\n",
        "\n",
        "    # Speed of light (C) ki value dikhana\n",
        "    print(\"C = \" + str(C) + \" m/s\")\n",
        "\n",
        "    # Final energy (joules) output dena\n",
        "    print(str(energy_in_joules) + \" joules of energy!\")\n",
        "\n",
        "# Yeh ensure karta hai ke jab script direct run ho tabhi main() function chale\n",
        "if __name__ == '__main__':\n",
        "    main()\n"
      ],
      "metadata": {
        "colab": {
          "base_uri": "https://localhost:8080/"
        },
        "id": "rEVb2ocNAbj5",
        "outputId": "78fb84d9-f22f-49ed-976f-f6259025e7a6"
      },
      "execution_count": 4,
      "outputs": [
        {
          "output_type": "stream",
          "name": "stdout",
          "text": [
            "Enter kilos of mass: 100\n",
            "e = m * C^2...\n",
            "m = 100.0 kg\n",
            "C = 299792458 m/s\n",
            "8.987551787368176e+18 joules of energy!\n"
          ]
        }
      ]
    }
  ]
}