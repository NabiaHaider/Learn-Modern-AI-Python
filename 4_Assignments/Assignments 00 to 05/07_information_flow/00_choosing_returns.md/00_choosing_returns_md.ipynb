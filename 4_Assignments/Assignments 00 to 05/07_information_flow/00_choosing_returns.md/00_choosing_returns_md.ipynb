{
  "nbformat": 4,
  "nbformat_minor": 0,
  "metadata": {
    "colab": {
      "provenance": []
    },
    "kernelspec": {
      "name": "python3",
      "display_name": "Python 3"
    },
    "language_info": {
      "name": "python"
    }
  },
  "cells": [
    {
      "cell_type": "code",
      "execution_count": 1,
      "metadata": {
        "colab": {
          "base_uri": "https://localhost:8080/"
        },
        "id": "han0_iYwNxcc",
        "outputId": "aea8ec03-2167-46ee-9051-73fe3a1b8c14"
      },
      "outputs": [
        {
          "output_type": "stream",
          "name": "stdout",
          "text": [
            "How old is this person?: 21\n",
            "True\n"
          ]
        }
      ],
      "source": [
        "ADULT_AGE : int = 18  # U.S. age\n",
        "\n",
        "def is_adult(age: int):\n",
        "  if age >= ADULT_AGE:\n",
        "    return True\n",
        "  else:\n",
        "    return False\n",
        "\n",
        "\n",
        "def main():\n",
        "  age : str = int(input(\"How old is this person?: \"))\n",
        "  print(is_adult(age))\n",
        "\n",
        "\n",
        "if __name__ == \"__main__\":\n",
        "  main()"
      ]
    }
  ]
}