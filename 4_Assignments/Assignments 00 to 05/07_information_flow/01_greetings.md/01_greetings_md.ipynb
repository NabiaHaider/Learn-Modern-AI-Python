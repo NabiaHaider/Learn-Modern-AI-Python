{
  "nbformat": 4,
  "nbformat_minor": 0,
  "metadata": {
    "colab": {
      "provenance": []
    },
    "kernelspec": {
      "name": "python3",
      "display_name": "Python 3"
    },
    "language_info": {
      "name": "python"
    }
  },
  "cells": [
    {
      "cell_type": "code",
      "source": [
        "def main():\n",
        "    name: str = input(\"👋 What's your name? \")\n",
        "    print(greet(name))\n",
        "\n",
        "\n",
        "def greet(name):\n",
        "    return \"🎉 Greetings, \" + name + \"! 😊\"\n",
        "\n",
        "if __name__ == '__main__':\n",
        "    main()\n"
      ],
      "metadata": {
        "colab": {
          "base_uri": "https://localhost:8080/"
        },
        "id": "ALnJZYtzRIuP",
        "outputId": "8ea021ab-798c-4b6f-869c-3bbea616dd5f"
      },
      "execution_count": 3,
      "outputs": [
        {
          "output_type": "stream",
          "name": "stdout",
          "text": [
            "👋 What's your name? Nabia Haider\n",
            "🎉 Greetings, Nabia Haider! 😊\n"
          ]
        }
      ]
    }
  ]
}