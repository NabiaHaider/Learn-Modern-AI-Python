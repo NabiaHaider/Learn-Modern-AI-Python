{
  "nbformat": 4,
  "nbformat_minor": 0,
  "metadata": {
    "colab": {
      "provenance": []
    },
    "kernelspec": {
      "name": "python3",
      "display_name": "Python 3"
    },
    "language_info": {
      "name": "python"
    }
  },
  "cells": [
    {
      "cell_type": "code",
      "source": [
        "def main():\n",
        "\tfruit : str = input(\"Enter a fruit: \")\n",
        "\tstock = num_in_stock(fruit)\n",
        "\tif stock == 0:\n",
        "\t\tprint(\"This fruit is not in stock.\")\n",
        "\telse:\n",
        "\t\tprint(\"This fruit is in stock! Here is how many:\")\n",
        "\t\tprint(stock)\n",
        "\n",
        "\n",
        "\n",
        "def num_in_stock(fruit):\n",
        "\t\"\"\"\n",
        "\tThis function returns the number of fruit Sophia has in stock.\n",
        "  \"\"\"\n",
        "\tif fruit == 'apple':\n",
        "\t\treturn 20\n",
        "\tif fruit == 'durian':\n",
        "\t\treturn 40\n",
        "\tif fruit == 'mango':\n",
        "\t\treturn 300\n",
        "\n",
        "\telse:\n",
        "\t\treturn 0  # this fruit is not in stock.\n",
        "\n",
        "\n",
        "if __name__ == '__main__':\n",
        "    main()"
      ],
      "metadata": {
        "colab": {
          "base_uri": "https://localhost:8080/"
        },
        "id": "ZztbZq4hhnZi",
        "outputId": "ef5fe495-e843-45c0-c501-36f75fb15d7d"
      },
      "execution_count": 5,
      "outputs": [
        {
          "output_type": "stream",
          "name": "stdout",
          "text": [
            "Enter a fruit: mango\n",
            "This fruit is in stock! Here is how many:\n",
            "300\n"
          ]
        }
      ]
    }
  ]
}