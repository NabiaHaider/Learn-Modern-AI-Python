{
  "nbformat": 4,
  "nbformat_minor": 0,
  "metadata": {
    "colab": {
      "provenance": []
    },
    "kernelspec": {
      "name": "python3",
      "display_name": "Python 3"
    },
    "language_info": {
      "name": "python"
    }
  },
  "cells": [
    {
      "cell_type": "code",
      "source": [
        "def in_range(n, low, high):\n",
        "    \"\"\"✅ Returns True if n is between low and high, inclusive.\n",
        "        high is guaranteed to be greater than low.\"\"\"\n",
        "    if n >= low and n <= high:\n",
        "        return True  # 👍 Agar n range mein hai to True return karo\n",
        "\n",
        "    # ❗ Yahan else ki zarurat nahi, kyunki return hone ke baad agla code waisay bhi run hota hai\n",
        "    return False  # 👎 Agar n range ke bahar hai to False return karo\n",
        "\n",
        "# 👇 Function call kar rahe hain taake result milay\n",
        "print(\"🔢 15 between 10 and 20? ➤\", in_range(15, 10, 20))\n",
        "print(\"🔢 25 between 10 and 20? ➤\", in_range(25, 10, 20))\n"
      ],
      "metadata": {
        "colab": {
          "base_uri": "https://localhost:8080/"
        },
        "id": "UOzG2DI0Vul8",
        "outputId": "e0990d00-0e97-4b63-ed63-b03a33de05f2"
      },
      "execution_count": 11,
      "outputs": [
        {
          "output_type": "stream",
          "name": "stdout",
          "text": [
            "🔢 15 between 10 and 20? ➤ True\n",
            "🔢 25 between 10 and 20? ➤ False\n"
          ]
        }
      ]
    }
  ]
}