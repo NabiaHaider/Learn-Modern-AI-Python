{
  "nbformat": 4,
  "nbformat_minor": 0,
  "metadata": {
    "colab": {
      "provenance": []
    },
    "kernelspec": {
      "name": "python3",
      "display_name": "Python 3"
    },
    "language_info": {
      "name": "python"
    }
  },
  "cells": [
    {
      "cell_type": "code",
      "execution_count": 1,
      "metadata": {
        "colab": {
          "base_uri": "https://localhost:8080/"
        },
        "id": "6HNefgA9lIzS",
        "outputId": "cf3eff22-ed93-445b-d326-913a8790fe94"
      },
      "outputs": [
        {
          "output_type": "stream",
          "name": "stdout",
          "text": [
            "this should be zero:  0\n"
          ]
        }
      ],
      "source": [
        "def main():\n",
        "  num: int = 7\n",
        "  num = subtract_seven(num)\n",
        "  print(\"this should be zero: \", num)\n",
        "\n",
        "\n",
        "# Helper function jo 7 subtract karta hai\n",
        "def subtract_seven(num):\n",
        "  num = num - 7\n",
        "  return num\n",
        "\n",
        "if __name__ == '__main__':\n",
        "  main()\n"
      ]
    }
  ]
}