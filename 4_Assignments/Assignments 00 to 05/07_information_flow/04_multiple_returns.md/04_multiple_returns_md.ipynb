{
  "nbformat": 4,
  "nbformat_minor": 0,
  "metadata": {
    "colab": {
      "provenance": []
    },
    "kernelspec": {
      "name": "python3",
      "display_name": "Python 3"
    },
    "language_info": {
      "name": "python"
    }
  },
  "cells": [
    {
      "cell_type": "code",
      "execution_count": 1,
      "metadata": {
        "colab": {
          "base_uri": "https://localhost:8080/"
        },
        "id": "5nMXVCuBjHFl",
        "outputId": "47b083d9-122e-4569-f37e-fa16e10fb52f"
      },
      "outputs": [
        {
          "output_type": "stream",
          "name": "stdout",
          "text": [
            "What is your first name?: Nabia\n",
            "What is your last name?: Haider\n",
            "What is your email address?: nabiahaider@gmail.com\n",
            "Received the following user data: ('Nabia', 'Haider', 'nabiahaider@gmail.com')\n"
          ]
        }
      ],
      "source": [
        "def get_user_info():\n",
        "  first_name: str = input(\"What is your first name?: \")\n",
        "  last_name: str = input(\"What is your last name?: \")\n",
        "  email: str = input(\"What is your email address?: \")\n",
        "\n",
        "  return first_name, last_name, email\n",
        "\n",
        "def main():\n",
        "  user_data = get_user_info()\n",
        "  print(\"Received the following user data:\", user_data)\n",
        "\n",
        "if __name__ == \"__main__\":\n",
        "  main()"
      ]
    }
  ]
}