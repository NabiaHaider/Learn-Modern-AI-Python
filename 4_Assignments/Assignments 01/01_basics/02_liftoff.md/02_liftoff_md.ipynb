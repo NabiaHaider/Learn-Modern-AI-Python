{
  "nbformat": 4,
  "nbformat_minor": 0,
  "metadata": {
    "colab": {
      "provenance": []
    },
    "kernelspec": {
      "name": "python3",
      "display_name": "Python 3"
    },
    "language_info": {
      "name": "python"
    }
  },
  "cells": [
    {
      "cell_type": "code",
      "source": [
        "# Function to perform countdown and liftoff\n",
        "def spaceship_countdown():\n",
        "    # Countdown from 10 to 1\n",
        "    for i in range(10, 0, -1):\n",
        "        print(i, end=\" \")\n",
        "    # Print Liftoff at the end\n",
        "    print(\"Liftoff! 🚀\")\n",
        "\n",
        "# Call the function\n",
        "spaceship_countdown()\n"
      ],
      "metadata": {
        "colab": {
          "base_uri": "https://localhost:8080/"
        },
        "id": "D7GrI-Vs9E6Q",
        "outputId": "07299b99-1667-47ca-ce88-cca334297cbd"
      },
      "execution_count": 1,
      "outputs": [
        {
          "output_type": "stream",
          "name": "stdout",
          "text": [
            "10 9 8 7 6 5 4 3 2 1 Liftoff! 🚀\n"
          ]
        }
      ]
    },
    {
      "cell_type": "code",
      "source": [
        "# Function theory:\n",
        "# Hum range(10, 0, -1) use kar rahe hain jisme:\n",
        "# 10 start point hai,\n",
        "# 0 end point hai (lekin 0 ko print nahi karega, isliye hum 1 tak jaayenge),\n",
        "# -1 ka matlab hai ke har dafa 1 subtract hoga.\n",
        "# end=\" \" use kiya gaya hai taake har number ke baad space ho, na ke nayi line."
      ],
      "metadata": {
        "id": "3WhC-iJP9TRZ"
      },
      "execution_count": null,
      "outputs": []
    }
  ]
}