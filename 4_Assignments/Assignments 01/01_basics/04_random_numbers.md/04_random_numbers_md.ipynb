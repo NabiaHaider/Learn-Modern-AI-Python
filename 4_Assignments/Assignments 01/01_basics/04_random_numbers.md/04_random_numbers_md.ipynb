{
  "nbformat": 4,
  "nbformat_minor": 0,
  "metadata": {
    "colab": {
      "provenance": []
    },
    "kernelspec": {
      "name": "python3",
      "display_name": "Python 3"
    },
    "language_info": {
      "name": "python"
    }
  },
  "cells": [
    {
      "cell_type": "code",
      "execution_count": 1,
      "metadata": {
        "colab": {
          "base_uri": "https://localhost:8080/"
        },
        "id": "GnPWOR6TCA-4",
        "outputId": "53ca8c48-c11a-46ef-cf6d-8adb147ed5d5"
      },
      "outputs": [
        {
          "output_type": "stream",
          "name": "stdout",
          "text": [
            "16 69 32 56 32 82 54 24 82 1 "
          ]
        }
      ],
      "source": [
        "import random\n",
        "\n",
        "def print_random_numbers():\n",
        "    for _ in range(10):\n",
        "        number = random.randint(1, 100)\n",
        "        print(number, end=\" \")\n",
        "\n",
        "print_random_numbers()\n"
      ]
    }
  ]
}