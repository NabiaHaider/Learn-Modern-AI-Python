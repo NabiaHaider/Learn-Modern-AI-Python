{
  "nbformat": 4,
  "nbformat_minor": 0,
  "metadata": {
    "colab": {
      "provenance": []
    },
    "kernelspec": {
      "name": "python3",
      "display_name": "Python 3"
    },
    "language_info": {
      "name": "python"
    }
  },
  "cells": [
    {
      "cell_type": "code",
      "source": [
        "import random\n",
        "\n",
        "def main():\n",
        "    # Generate the secret number at random!\n",
        "    secret_number: int = random.randint(1, 99)\n",
        "\n",
        "    print(\"🤖 I am thinking of a number between 1 and 99... 🎯\")\n",
        "\n",
        "    # Get user's guess\n",
        "    guess = int(input(\"🔢 Enter a guess: \"))\n",
        "\n",
        "    # True if guess is not equal to secret number\n",
        "    while guess != secret_number:\n",
        "        if guess < secret_number:  # If-statement is True if guess is less than secret number\n",
        "            print(\"⬇️ Your guess is too low!\")\n",
        "        else:\n",
        "            print(\"⬆️ Your guess is too high!\")\n",
        "\n",
        "        print()  # Print an empty line to tidy up the console for new guesses\n",
        "        guess = int(input(\"🔁 Try again! Enter a new guess: \"))\n",
        "\n",
        "    print(\"🎉 Congrats! You guessed it! The number was: \" + str(secret_number) + \" 🎊\")\n",
        "\n",
        "if __name__ == '__main__':\n",
        "    main()\n"
      ],
      "metadata": {
        "colab": {
          "base_uri": "https://localhost:8080/"
        },
        "id": "E3vR8_chAytu",
        "outputId": "381e4405-4c93-4f41-a70f-96c77ad02781"
      },
      "execution_count": null,
      "outputs": [
        {
          "output_type": "stream",
          "name": "stdout",
          "text": [
            "🤖 I am thinking of a number between 1 and 99... 🎯\n",
            "🔢 Enter a guess: 23\n",
            "⬇️ Your guess is too low!\n",
            "\n",
            "🔁 Try again! Enter a new guess: 87\n",
            "⬆️ Your guess is too high!\n",
            "\n",
            "🔁 Try again! Enter a new guess: 16\n",
            "⬇️ Your guess is too low!\n",
            "\n",
            "🔁 Try again! Enter a new guess: 50\n",
            "⬇️ Your guess is too low!\n",
            "\n",
            "🔁 Try again! Enter a new guess: 80\n",
            "⬆️ Your guess is too high!\n",
            "\n"
          ]
        }
      ]
    }
  ]
}