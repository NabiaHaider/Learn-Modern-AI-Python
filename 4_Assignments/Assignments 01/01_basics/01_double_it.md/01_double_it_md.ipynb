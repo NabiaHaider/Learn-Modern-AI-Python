{
  "nbformat": 4,
  "nbformat_minor": 0,
  "metadata": {
    "colab": {
      "provenance": []
    },
    "kernelspec": {
      "name": "python3",
      "display_name": "Python 3"
    },
    "language_info": {
      "name": "python"
    }
  },
  "cells": [
    {
      "cell_type": "code",
      "source": [
        "# Function to double the number until it's 100 or greater\n",
        "def double_until_100(curr_value):\n",
        "    # Loop until the value is less than 100\n",
        "    while curr_value < 100:\n",
        "        # Double the value\n",
        "        curr_value = curr_value * 2\n",
        "        # Print the current value with an emoji\n",
        "        print(f\"✨ {curr_value} ✨\")\n",
        "\n",
        "# Main part of the program\n",
        "user_input = int(input(\"Enter a number: \"))\n",
        "print(\"Starting the doubling process... 🚀\")\n",
        "double_until_100(user_input)\n",
        "print(\"Process complete! 🎉\")\n"
      ],
      "metadata": {
        "colab": {
          "base_uri": "https://localhost:8080/"
        },
        "id": "WxnDUyDQ7UgA",
        "outputId": "6715c53b-5e83-47ad-ec9f-99b85089d6a8"
      },
      "execution_count": 4,
      "outputs": [
        {
          "output_type": "stream",
          "name": "stdout",
          "text": [
            "Enter a number: 4\n",
            "Starting the doubling process... 🚀\n",
            "✨ 8 ✨\n",
            "✨ 16 ✨\n",
            "✨ 32 ✨\n",
            "✨ 64 ✨\n",
            "✨ 128 ✨\n",
            "Process complete! 🎉\n"
          ]
        }
      ]
    }
  ]
}