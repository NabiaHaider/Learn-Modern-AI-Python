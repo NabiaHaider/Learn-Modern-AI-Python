{
  "nbformat": 4,
  "nbformat_minor": 0,
  "metadata": {
    "colab": {
      "provenance": []
    },
    "kernelspec": {
      "name": "python3",
      "display_name": "Python 3"
    },
    "language_info": {
      "name": "python"
    }
  },
  "cells": [
    {
      "cell_type": "code",
      "source": [
        "def main():\n",
        "    print(\"🌍 Planetary Weight Calculator 🪐\")\n",
        "\n",
        "    # User se weight lein (Earth par)\n",
        "    earth_weight = float(input(\"Enter a weight on Earth: \"))\n",
        "\n",
        "    # User se planet ka naam lein\n",
        "    planet = input(\"Enter a planet: \")\n",
        "\n",
        "    # Planets ke gravity multipliers dictionary\n",
        "    gravity = {\n",
        "        \"Mercury\": 0.376,\n",
        "        \"Venus\": 0.889,\n",
        "        \"Mars\": 0.378,\n",
        "        \"Jupiter\": 2.36,\n",
        "        \"Saturn\": 1.081,\n",
        "        \"Uranus\": 0.815,\n",
        "        \"Neptune\": 1.14\n",
        "    }\n",
        "\n",
        "    # Equivalent weight calculate karen\n",
        "    if planet in gravity:\n",
        "        planet_weight = round(earth_weight * gravity[planet], 2)\n",
        "        print(f\"The equivalent weight on {planet}: {planet_weight}\")\n",
        "    else:\n",
        "        print(\"❌ Invalid planet. Please enter a valid planet name.\")\n",
        "\n",
        "if __name__ == \"__main__\":\n",
        "    main()\n"
      ],
      "metadata": {
        "colab": {
          "base_uri": "https://localhost:8080/"
        },
        "id": "r-vI-CFOD1lD",
        "outputId": "feae06f5-2c66-42c0-8be0-d04c47c813aa"
      },
      "execution_count": 3,
      "outputs": [
        {
          "output_type": "stream",
          "name": "stdout",
          "text": [
            "🌍 Planetary Weight Calculator 🪐\n",
            "Enter a weight on Earth:  150\n",
            "Enter a planet: Jupiter\n",
            "The equivalent weight on Jupiter: 354.0\n"
          ]
        }
      ]
    },
    {
      "cell_type": "code",
      "source": [],
      "metadata": {
        "id": "Jw1vTuonD2Yw"
      },
      "execution_count": null,
      "outputs": []
    }
  ]
}