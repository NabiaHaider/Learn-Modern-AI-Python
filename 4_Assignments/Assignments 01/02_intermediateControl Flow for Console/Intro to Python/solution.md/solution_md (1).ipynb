{
  "nbformat": 4,
  "nbformat_minor": 0,
  "metadata": {
    "colab": {
      "provenance": []
    },
    "kernelspec": {
      "name": "python3",
      "display_name": "Python 3"
    },
    "language_info": {
      "name": "python"
    }
  },
  "cells": [
    {
      "cell_type": "code",
      "source": [
        "# Gravitational constants (as compared to Earth)\n",
        "MERCURY_GRAVITY = 0.376\n",
        "VENUS_GRAVITY = 0.889\n",
        "MARS_GRAVITY = 0.378\n",
        "JUPITER_GRAVITY = 2.36\n",
        "SATURN_GRAVITY = 1.081\n",
        "URANUS_GRAVITY = 0.815\n",
        "NEPTUNE_GRAVITY = 1.14\n",
        "\n",
        "# Prompt the user for Earth weight\n",
        "earth_weight = float(input(\"Enter a weight on Earth: \"))\n",
        "\n",
        "# Prompt the user for the name of a planet\n",
        "planet = input(\"Enter a planet: \")\n",
        "\n",
        "# Determine the gravitational constant for the selected planet\n",
        "if planet == \"Mercury\":\n",
        "    gravity_constant = MERCURY_GRAVITY\n",
        "elif planet == \"Venus\":\n",
        "    gravity_constant = VENUS_GRAVITY\n",
        "elif planet == \"Mars\":\n",
        "    gravity_constant = MARS_GRAVITY\n",
        "elif planet == \"Jupiter\":\n",
        "    gravity_constant = JUPITER_GRAVITY\n",
        "elif planet == \"Saturn\":\n",
        "    gravity_constant = SATURN_GRAVITY\n",
        "elif planet == \"Uranus\":\n",
        "    gravity_constant = URANUS_GRAVITY\n",
        "else:\n",
        "    # can assume user types in one of these planets, so this can be an else instead of elif\n",
        "    gravity_constant = NEPTUNE_GRAVITY\n",
        "\n",
        "# Calculate the equivalent weight on the selected planet\n",
        "planetary_weight = earth_weight * gravity_constant\n",
        "rounded_planetary_weight = round(planetary_weight, 2)\n",
        "\n",
        "# Print the result\n",
        "print(\"The equivalent weight on \" + planet + \": \" + str(rounded_planetary_weight))\n"
      ],
      "metadata": {
        "colab": {
          "base_uri": "https://localhost:8080/"
        },
        "id": "mnUat8gJGM-r",
        "outputId": "034b880b-70d5-48fc-c46e-ec30dabfc4e1"
      },
      "execution_count": 4,
      "outputs": [
        {
          "output_type": "stream",
          "name": "stdout",
          "text": [
            "Enter a weight on Earth:  120\n",
            "Enter a planet: Mars\n",
            "The equivalent weight on Mars: 45.36\n"
          ]
        }
      ]
    }
  ]
}