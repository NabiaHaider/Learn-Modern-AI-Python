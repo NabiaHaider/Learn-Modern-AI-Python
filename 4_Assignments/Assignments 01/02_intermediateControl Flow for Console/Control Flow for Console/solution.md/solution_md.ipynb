{
  "nbformat": 4,
  "nbformat_minor": 0,
  "metadata": {
    "colab": {
      "provenance": []
    },
    "kernelspec": {
      "name": "python3",
      "display_name": "Python 3"
    },
    "language_info": {
      "name": "python"
    }
  },
  "cells": [
    {
      "cell_type": "code",
      "execution_count": null,
      "metadata": {
        "id": "ahaZHZc9ZTfO"
      },
      "outputs": [],
      "source": [
        "import random\n",
        "\n",
        "NUM_ROUNDS = 5\n",
        "\n",
        "def main():\n",
        "    print(\"🎉 Welcome to the High-Low Game! 🎉\")\n",
        "    print('--------------------------------')\n",
        "\n",
        "    # 🧮 Milestone 5: keep track of your score\n",
        "    your_score = 0\n",
        "\n",
        "    # 🔁 Milestone 4: Play multiple rounds\n",
        "    for i in range(NUM_ROUNDS):\n",
        "        print(f\"🔸 Round {i + 1}\")\n",
        "\n",
        "        # 🎲 Milestone 1: Generate the random numbers\n",
        "        computer_num: int = random.randint(1, 100)\n",
        "        your_num: int = random.randint(1, 100)\n",
        "        print(f\"👉 Your number is {your_num}\")\n",
        "\n",
        "        # 🤔 Milestone 2: Get user input\n",
        "        choice: str = input(\"Do you think your number is higher ⬆️ or lower ⬇️ than the computer's?: \").lower()\n",
        "\n",
        "        # ✅ Milestone 3: Game logic\n",
        "        higher_and_correct: bool = choice == \"higher\" and your_num > computer_num\n",
        "        lower_and_correct: bool = choice == \"lower\" and your_num < computer_num\n",
        "\n",
        "        if higher_and_correct or lower_and_correct:\n",
        "            print(f\"✅ You were right! 🎯 The computer's number was {computer_num}\")\n",
        "            your_score += 1  # 🧮 Update score\n",
        "        else:\n",
        "            print(f\"❌ Aww, that's incorrect. 😞 The computer's number was {computer_num}\")\n",
        "\n",
        "        # 🏅 Show score\n",
        "        print(f\"📊 Your score is now {your_score}\")\n",
        "        print()  # 📏 Space between rounds\n",
        "\n",
        "    # 🎮 Game over message\n",
        "    print(\"🏁 Thanks for playing!\")\n",
        "\n",
        "    # 🎓 Ending message\n",
        "    if your_score == NUM_ROUNDS:\n",
        "        print(\"🌟 Wow! You played perfectly! 🏆\")\n",
        "    elif your_score >= NUM_ROUNDS // 2:\n",
        "        print(\"👍 Good job, you played really well! 🎉\")\n",
        "    else:\n",
        "        print(\"🙃 Better luck next time! 💪\")\n",
        "\n",
        "if __name__ == \"__main__\":\n",
        "    main()\n"
      ]
    }
  ]
}