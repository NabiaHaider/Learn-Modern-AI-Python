{
  "nbformat": 4,
  "nbformat_minor": 0,
  "metadata": {
    "colab": {
      "provenance": []
    },
    "kernelspec": {
      "name": "python3",
      "display_name": "Python 3"
    },
    "language_info": {
      "name": "python"
    }
  },
  "cells": [
    {
      "cell_type": "code",
      "source": [
        "import random\n",
        "\n",
        "NUM_ROUNDS = 5  # total rounds to play 🎯\n",
        "\n",
        "print(\"🎉 Welcome to the High-Low Game! 🎉\")\n",
        "print(\"--------------------------------\")\n",
        "\n",
        "score = 0  # player ka score 🧮\n",
        "\n",
        "for round_num in range(1, NUM_ROUNDS + 1):\n",
        "    print(f\"🔁 Round {round_num}\")\n",
        "\n",
        "    # Random numbers generate karo 🎲\n",
        "    user_number = random.randint(1, 100)\n",
        "    computer_number = random.randint(1, 100)\n",
        "\n",
        "    # User ka number dikhayo 👀\n",
        "    print(f\"👉 Your number is {user_number}\")\n",
        "\n",
        "    # User se guess lo 🤔\n",
        "    guess = input(\"Do you think your number is higher ⬆️ or lower ⬇️ than the computer's?: \").lower()\n",
        "\n",
        "    # Jab tak valid input na de, repeat karo ♻️\n",
        "    while guess != \"higher\" and guess != \"lower\":\n",
        "        guess = input(\"⚠️ Please enter either 'higher' ⬆️ or 'lower' ⬇️: \").lower()\n",
        "\n",
        "    # Game logic 🧠\n",
        "    correct = False\n",
        "    if guess == \"higher\" and user_number > computer_number:\n",
        "        correct = True\n",
        "    elif guess == \"lower\" and user_number < computer_number:\n",
        "        correct = True\n",
        "\n",
        "    # Result show karo 📢\n",
        "    if correct:\n",
        "        print(f\"✅ You were right! 🎯 The computer's number was {computer_number}\")\n",
        "        score += 1\n",
        "    else:\n",
        "        print(f\"❌ Aww, that's incorrect. 😕 The computer's number was {computer_number}\")\n",
        "\n",
        "    # Score print karo 🏅\n",
        "    print(f\"📈 Your score is now {score}\")\n",
        "    print()  # empty line for spacing\n",
        "\n",
        "# Game over 🎮\n",
        "print(\"🏁 Thanks for playing!\")\n",
        "\n",
        "# Ending message 🎓\n",
        "if score == NUM_ROUNDS:\n",
        "    print(\"🌟 Wow! You played perfectly! 🏆\")\n",
        "elif score >= NUM_ROUNDS // 2:\n",
        "    print(\"👍 Good job, you played really well! 🎉\")\n",
        "else:\n",
        "    print(\"🙁 Better luck next time! 💪\")\n"
      ],
      "metadata": {
        "colab": {
          "base_uri": "https://localhost:8080/"
        },
        "id": "oQZlg6B_YLzN",
        "outputId": "417cd2d8-6687-40f7-eb6a-352a8bcd938b"
      },
      "execution_count": 2,
      "outputs": [
        {
          "output_type": "stream",
          "name": "stdout",
          "text": [
            "🎉 Welcome to the High-Low Game! 🎉\n",
            "--------------------------------\n",
            "🔁 Round 1\n",
            "👉 Your number is 48\n",
            "Do you think your number is higher ⬆️ or lower ⬇️ than the computer's?: lower\n",
            "❌ Aww, that's incorrect. 😕 The computer's number was 11\n",
            "📈 Your score is now 0\n",
            "\n",
            "🔁 Round 2\n",
            "👉 Your number is 27\n",
            "Do you think your number is higher ⬆️ or lower ⬇️ than the computer's?: higher\n",
            "❌ Aww, that's incorrect. 😕 The computer's number was 62\n",
            "📈 Your score is now 0\n",
            "\n",
            "🔁 Round 3\n",
            "👉 Your number is 66\n",
            "Do you think your number is higher ⬆️ or lower ⬇️ than the computer's?: higher\n",
            "✅ You were right! 🎯 The computer's number was 63\n",
            "📈 Your score is now 1\n",
            "\n",
            "🔁 Round 4\n",
            "👉 Your number is 43\n",
            "Do you think your number is higher ⬆️ or lower ⬇️ than the computer's?: lower\n",
            "✅ You were right! 🎯 The computer's number was 53\n",
            "📈 Your score is now 2\n",
            "\n",
            "🔁 Round 5\n",
            "👉 Your number is 56\n",
            "Do you think your number is higher ⬆️ or lower ⬇️ than the computer's?: lower\n",
            "❌ Aww, that's incorrect. 😕 The computer's number was 27\n",
            "📈 Your score is now 2\n",
            "\n",
            "🏁 Thanks for playing!\n",
            "👍 Good job, you played really well! 🎉\n"
          ]
        }
      ]
    }
  ]
}