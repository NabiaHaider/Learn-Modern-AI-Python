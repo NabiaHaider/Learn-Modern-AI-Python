{
  "nbformat": 4,
  "nbformat_minor": 0,
  "metadata": {
    "colab": {
      "provenance": []
    },
    "kernelspec": {
      "name": "python3",
      "display_name": "Python 3"
    },
    "language_info": {
      "name": "python"
    }
  },
  "cells": [
    {
      "cell_type": "markdown",
      "source": [
        "# **✅ Problem #1: List Practice**"
      ],
      "metadata": {
        "id": "Y3QWXCiNKCN3"
      }
    },
    {
      "cell_type": "code",
      "source": [
        "def main():\n",
        "    # List banayi 🍎🍌🍊🍇🍍\n",
        "    fruit_list = ['apple', 'banana', 'orange', 'grape', 'pineapple']\n",
        "\n",
        "    # List ka length print kiya 🔢\n",
        "    print(\"📏 Length of the list:\", len(fruit_list))\n",
        "\n",
        "    # Mango add kiya end mein 🥭\n",
        "    fruit_list.append('mango')\n",
        "\n",
        "    # Updated list print ki 🔄\n",
        "    print(\"🆕 Updated fruit list:\", fruit_list)\n",
        "\n",
        "main()\n"
      ],
      "metadata": {
        "colab": {
          "base_uri": "https://localhost:8080/"
        },
        "id": "_pXwzYM8Jr-k",
        "outputId": "60e22e7d-f995-4361-8643-f9ffca98bb72"
      },
      "execution_count": 2,
      "outputs": [
        {
          "output_type": "stream",
          "name": "stdout",
          "text": [
            "📏 Length of the list: 5\n",
            "🆕 Updated fruit list: ['apple', 'banana', 'orange', 'grape', 'pineapple', 'mango']\n"
          ]
        }
      ]
    },
    {
      "cell_type": "markdown",
      "source": [
        "# **✅ Problem #2: Index Game**"
      ],
      "metadata": {
        "id": "ZfVAo9_3KOR_"
      }
    },
    {
      "cell_type": "code",
      "source": [
        "# 🔍 List ke element ko access, modify aur slice karne ka interactive game\n",
        "\n",
        "# 🟡 Yeh function kisi list ke index se element return karta hai\n",
        "def access_element(my_list, index):\n",
        "    if 0 <= index < len(my_list):  # Agar index list ke andar hai\n",
        "        return my_list[index]  # To element return karo\n",
        "    else:\n",
        "        return \"❌ Index out of range!\"  # Agar index ghalat ho to error message return karo\n",
        "\n",
        "# 🔧 Yeh function kisi index par naya value assign karta hai\n",
        "def modify_element(my_list, index, new_value):\n",
        "    if 0 <= index < len(my_list):  # Agar index valid hai\n",
        "        my_list[index] = new_value  # Naya value assign karo\n",
        "        return my_list  # Updated list return karo\n",
        "    else:\n",
        "        return \"❌ Index out of range!\"  # Agar index valid nahi to error message do\n",
        "\n",
        "# ✂️ Yeh function list ko slice karta hai (start se end tak)\n",
        "def slice_list(my_list, start, end):\n",
        "    if start < 0 or end > len(my_list) or start > end:  # Agar range ghalat hai\n",
        "        return \"❌ Invalid slice range!\"  # Error message do\n",
        "    return my_list[start:end]  # Sahi range hai to slice return karo\n",
        "\n",
        "# 🎮 Yeh main function hai jo user se input leta hai aur list ke saath kaam karta hai\n",
        "def index_game():\n",
        "    items = [10, 'hello', 25, 'world', 55]  # List banayi hai\n",
        "    print(\"📦 Original List:\", items)  # List print ki\n",
        "\n",
        "    # 👇 User ko options diye gaye hain\n",
        "    print(\"\\n🔧 Choose operation:\")\n",
        "    print(\"1️⃣ Access element\")  # Pehla option: access\n",
        "    print(\"2️⃣ Modify element\")  # Dusra option: modify\n",
        "    print(\"3️⃣ Slice list\")     # Teesra option: slice\n",
        "\n",
        "    choice = input(\"👉 Enter choice (1/2/3): \")  # User se input liya gaya\n",
        "\n",
        "    if choice == '1':  # Agar user ne access ka option chuna\n",
        "        idx = int(input(\"🔢 Enter index to access: \"))  # Index input lo\n",
        "        print(\"🔎 Element at index:\", access_element(items, idx))  # Result print karo\n",
        "\n",
        "    elif choice == '2':  # Agar user ne modify ka option chuna\n",
        "        idx = int(input(\"🔢 Enter index to modify: \"))  # Index input lo\n",
        "        new_val = input(\"🆕 Enter new value: \")  # Naya value input lo\n",
        "        print(\"✅ Updated list:\", modify_element(items, idx, new_val))  # Updated list print karo\n",
        "\n",
        "    elif choice == '3':  # Agar user ne slice ka option chuna\n",
        "        start = int(input(\"🔢 Enter start index: \"))  # Start index lo\n",
        "        end = int(input(\"🔢 Enter end index: \"))  # End index lo\n",
        "        print(\"📏 Sliced list:\", slice_list(items, start, end))  # Sliced list print karo\n",
        "\n",
        "    else:  # Agar user ne koi valid option nahi diya\n",
        "        print(\"❌ Invalid choice!\")  # Error message do\n",
        "\n",
        "# ▶️ Program yahan se start hota hai\n",
        "index_game()  # Function ko call kiya gaya\n"
      ],
      "metadata": {
        "colab": {
          "base_uri": "https://localhost:8080/"
        },
        "id": "O1obcX9jLz2x",
        "outputId": "06ea5ed2-51d9-48e8-a6e1-d5a760a6da32"
      },
      "execution_count": 4,
      "outputs": [
        {
          "output_type": "stream",
          "name": "stdout",
          "text": [
            "📦 Original List: [10, 'hello', 25, 'world', 55]\n",
            "\n",
            "🔧 Choose operation:\n",
            "1️⃣ Access element\n",
            "2️⃣ Modify element\n",
            "3️⃣ Slice list\n",
            "👉 Enter choice (1/2/3): 2\n",
            "🔢 Enter index to modify: 3\n",
            "🆕 Enter new value: Nabia\n",
            "✅ Updated list: [10, 'hello', 25, 'Nabia', 55]\n"
          ]
        }
      ]
    }
  ]
}