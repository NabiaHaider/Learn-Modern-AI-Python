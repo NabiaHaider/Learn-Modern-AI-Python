{
  "nbformat": 4,
  "nbformat_minor": 0,
  "metadata": {
    "colab": {
      "provenance": []
    },
    "kernelspec": {
      "name": "python3",
      "display_name": "Python 3"
    },
    "language_info": {
      "name": "python"
    }
  },
  "cells": [
    {
      "cell_type": "code",
      "execution_count": 2,
      "metadata": {
        "colab": {
          "base_uri": "https://localhost:8080/"
        },
        "id": "6YPylSrv30Dx",
        "outputId": "ef6c6761-2d65-4be9-cbae-bbe253948642"
      },
      "outputs": [
        {
          "output_type": "stream",
          "name": "stdout",
          "text": [
            "Engine started.\n"
          ]
        }
      ],
      "source": [
        "# Engine class\n",
        "class Engine:\n",
        "    def start(self):  # Engine ka method\n",
        "        return \"Engine started.\"\n",
        "\n",
        "# Car class\n",
        "class Car:\n",
        "    def __init__(self, engine):  # Composition: engine object ko constructor mein pass kar rahe hain\n",
        "        self.engine = engine     # Engine object ko car ke andar store kar rahe hain\n",
        "\n",
        "    def start_car(self):  # Car ka method jo engine ka method use karta hai\n",
        "        return self.engine.start()  # Engine ke method ko call kar rahe hain\n",
        "\n",
        "# Engine aur Car ke objects banate hain\n",
        "my_engine = Engine()           # Engine ka object\n",
        "my_car = Car(my_engine)        # Car ka object jisme engine pass kiya gaya\n",
        "\n",
        "# Car ka method call karte hain jo engine ke method ko use karega\n",
        "print(my_car.start_car())\n"
      ]
    },
    {
      "cell_type": "code",
      "source": [
        "# Do classes banani hain: Engine aur Car.\n",
        "# Composition ka use karna hai — yani Engine ka object Car ke andar use hoga.\n",
        "# Car class ke zariye Engine class ka method access karna hai.\n",
        "\n",
        "#🔹\n",
        "# Engine class mein ek method start() hai jo simple message return karta hai.\n",
        "# Car class ka constructor (__init__) ek Engine object leta hai aur usko self.engine mein store karta hai.\n",
        "# Car ka method start_car() actually self.engine.start() call karta hai.\n",
        "# Is tarah Car ne Engine ka use kiya — yehi hoti hai composition."
      ],
      "metadata": {
        "id": "ANnvIhIJ5njB"
      },
      "execution_count": null,
      "outputs": []
    }
  ]
}