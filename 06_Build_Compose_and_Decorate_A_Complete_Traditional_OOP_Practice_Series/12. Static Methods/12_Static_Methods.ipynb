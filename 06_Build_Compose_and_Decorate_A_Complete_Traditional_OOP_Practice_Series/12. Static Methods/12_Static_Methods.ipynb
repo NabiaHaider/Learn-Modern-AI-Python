{
  "nbformat": 4,
  "nbformat_minor": 0,
  "metadata": {
    "colab": {
      "provenance": []
    },
    "kernelspec": {
      "name": "python3",
      "display_name": "Python 3"
    },
    "language_info": {
      "name": "python"
    }
  },
  "cells": [
    {
      "cell_type": "code",
      "execution_count": 2,
      "metadata": {
        "colab": {
          "base_uri": "https://localhost:8080/"
        },
        "id": "yovTSDAep2PB",
        "outputId": "fa38dd79-a7ed-4cde-c37e-0a541eae6ef6"
      },
      "outputs": [
        {
          "output_type": "stream",
          "name": "stdout",
          "text": [
            "Fahrenheit: 77.0\n"
          ]
        }
      ],
      "source": [
        "class TemperatureConverter:\n",
        "\n",
        "    @staticmethod\n",
        "    def celsius_to_fahrenheit(c):  # Static method bana rahe hain, isme self ya cls nahi hota\n",
        "        return (c * 9/5) + 32       # Celsius ko Fahrenheit mein convert karne ka formula\n",
        "\n",
        "# Static method call kar rahe hain bina object banaye\n",
        "f = TemperatureConverter.celsius_to_fahrenheit(25)  # 25°C ko convert kar rahe hain\n",
        "print(\"Fahrenheit:\", f)\n"
      ]
    },
    {
      "cell_type": "code",
      "source": [
        "## @staticmethod ka matlab hai ke ye method na class (cls) ka use karti hai na object (self) ka.\n",
        "## Ye sirf ek utility function hai jo class ke andar logically related hai.\n",
        "## celsius_to_fahrenheit(c) formula lagata hai:\n",
        "## 𝐹=(𝐶 × 9/5) + 32\n",
        "## Is method ko bina object banaye directly class se call kiya ja sakta hai.\n"
      ],
      "metadata": {
        "id": "tDMoO_yC2-Er"
      },
      "execution_count": null,
      "outputs": []
    }
  ]
}