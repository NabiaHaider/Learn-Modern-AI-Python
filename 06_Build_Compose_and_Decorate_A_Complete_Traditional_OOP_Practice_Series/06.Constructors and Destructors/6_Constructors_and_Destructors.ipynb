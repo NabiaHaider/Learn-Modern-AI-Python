{
  "nbformat": 4,
  "nbformat_minor": 0,
  "metadata": {
    "colab": {
      "provenance": []
    },
    "kernelspec": {
      "name": "python3",
      "display_name": "Python 3"
    },
    "language_info": {
      "name": "python"
    }
  },
  "cells": [
    {
      "cell_type": "code",
      "execution_count": 6,
      "metadata": {
        "colab": {
          "base_uri": "https://localhost:8080/"
        },
        "id": "nAFWLlMCzbpz",
        "outputId": "c93d44c7-4005-4db1-9f9c-853bbc88ab9e"
      },
      "outputs": [
        {
          "output_type": "stream",
          "name": "stdout",
          "text": [
            "Logger object has been created.\n"
          ]
        }
      ],
      "source": [
        "class Logger:\n",
        "    def __init__(self):\n",
        "        print( \"Logger object has been created.\")\n",
        "\n",
        "    def __del__(self):\n",
        "        print(\"Logger object has been destroyed.\")\n",
        "\n",
        "logger = Logger()  # object ban raha hai, constructor chalega\n",
        "\n",
        "# jab yeh object program se delete ho jaye ya scope se bahar ho jaye to destructor chalega\n"
      ]
    },
    {
      "cell_type": "code",
      "source": [
        "# __init__: Jab Logger() call hota hai, yeh method run hota hai.\n",
        "# __del__: Jab object delete hota hai ya program end hota hai, yeh method run hota hai.\n",
        "\n",
        "#🔹Constructor (__init__ method):\n",
        "#  Jab bhi Python mein kisi class ka object banaya jata hai, to aik special method __init__ automatic call hota hai. Isay constructor kehtay hain.\n",
        "#  Iska kaam hota hai object ko initialize karna.\n",
        "\n",
        "#🔹Destructor (__del__ method):\n",
        "#  Jab object ka kaam khatam ho jata hai (ya program usay delete kar deta hai), to aik aur special method __del__ automatic call hota hai.\n",
        "#  Isay destructor kehtay hain. Iska kaam hota hai clean-up ya message dena ke object destroy ho gaya."
      ],
      "metadata": {
        "id": "vrgAquUA-aSy"
      },
      "execution_count": null,
      "outputs": []
    }
  ]
}