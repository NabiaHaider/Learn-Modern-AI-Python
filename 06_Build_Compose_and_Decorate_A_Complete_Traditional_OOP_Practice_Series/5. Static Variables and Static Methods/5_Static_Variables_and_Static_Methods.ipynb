{
  "nbformat": 4,
  "nbformat_minor": 0,
  "metadata": {
    "colab": {
      "provenance": []
    },
    "kernelspec": {
      "name": "python3",
      "display_name": "Python 3"
    },
    "language_info": {
      "name": "python"
    }
  },
  "cells": [
    {
      "cell_type": "code",
      "execution_count": 3,
      "metadata": {
        "colab": {
          "base_uri": "https://localhost:8080/"
        },
        "id": "63MvyFSp_qGe",
        "outputId": "17c81dcf-5037-4b28-fb56-bf1b5ac8c90c"
      },
      "outputs": [
        {
          "output_type": "stream",
          "name": "stdout",
          "text": [
            "Sum is: 9\n"
          ]
        }
      ],
      "source": [
        "class MathUtils:\n",
        "  @staticmethod\n",
        "  def add(a, b):\n",
        "    return a + b   # dono numbers ka sum return kry ga\n",
        "\n",
        "# Satatic method use:\n",
        "result = MathUtils.add(5, 4)\n",
        "print(\"Sum is:\", result)   # output: Sum is 9"
      ]
    },
    {
      "cell_type": "code",
      "source": [
        "# Hum ne MathUtils naam ki class banayi.\n",
        "# Usme add() method banaya jo @staticmethod se decorated hai.\n",
        "# Ye method sirf a aur b leta hai — koi self ya cls nahi hai.\n",
        "# Jab hum MathUtils.add(5, 4) call karte hain to ye 5 + 4 = 9 return karta hai.\n",
        "# Is class me na koi class variable hai, na object variable — sirf static method hai.\n",
        "\n",
        "# 🔹 Static Method kya hota hai\n",
        "# Static method aisa function hota hai jo na to object (self) use karta hai, na class (cls).\n",
        "# Isme sirf input parameters hote hain — simple utility function ki tarah hota hai.\n",
        "# Isme @staticmethod decorator lagta hai."
      ],
      "metadata": {
        "id": "dTlSuwmLBRmI"
      },
      "execution_count": null,
      "outputs": []
    }
  ]
}