{
  "nbformat": 4,
  "nbformat_minor": 0,
  "metadata": {
    "colab": {
      "provenance": []
    },
    "kernelspec": {
      "name": "python3",
      "display_name": "Python 3"
    },
    "language_info": {
      "name": "python"
    }
  },
  "cells": [
    {
      "cell_type": "code",
      "execution_count": 3,
      "metadata": {
        "colab": {
          "base_uri": "https://localhost:8080/"
        },
        "id": "VHjJia1uWFND",
        "outputId": "da1e9e9b-d89e-4fbb-9229-25170e35cc4c"
      },
      "outputs": [
        {
          "output_type": "stream",
          "name": "stdout",
          "text": [
            "5\n",
            "4\n",
            "3\n",
            "2\n",
            "1\n",
            "0\n"
          ]
        }
      ],
      "source": [
        "class Countdown:\n",
        "    def __init__(self, start):\n",
        "        self.current = start  # Starting number\n",
        "\n",
        "    def __iter__(self):\n",
        "        return self  # Apne aap ko iterator ke tor pe return karo\n",
        "\n",
        "    def __next__(self):\n",
        "        if self.current < 0:\n",
        "            raise StopIteration  # Jab 0 se niche chale jao to roko\n",
        "        num = self.current\n",
        "        self.current -= 1  # Ek kam karo\n",
        "        return num  # Current number return karo\n",
        "\n",
        "for num in Countdown(5):\n",
        "    print(num)\n"
      ]
    },
    {
      "cell_type": "code",
      "source": [
        "# __init__: start number save karta hai.\n",
        "\n",
        "# __iter__: object ko iterable banata hai.\n",
        "\n",
        "# __next__: har step pe ek number return karta hai jab tak 0 se kam na ho jaye."
      ],
      "metadata": {
        "id": "qbg7o7reXzYg"
      },
      "execution_count": null,
      "outputs": []
    }
  ]
}