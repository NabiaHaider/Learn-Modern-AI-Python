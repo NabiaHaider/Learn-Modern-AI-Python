{
  "nbformat": 4,
  "nbformat_minor": 0,
  "metadata": {
    "colab": {
      "provenance": []
    },
    "kernelspec": {
      "name": "python3",
      "display_name": "Python 3"
    },
    "language_info": {
      "name": "python"
    }
  },
  "cells": [
    {
      "cell_type": "code",
      "execution_count": 2,
      "metadata": {
        "colab": {
          "base_uri": "https://localhost:8080/"
        },
        "id": "882kvmUylQbw",
        "outputId": "06eb2a0f-e534-4712-c1a3-31121b8da5f2"
      },
      "outputs": [
        {
          "output_type": "stream",
          "name": "stdout",
          "text": [
            "100\n",
            "150\n",
            "Price delete ho gaya\n"
          ]
        }
      ],
      "source": [
        "class Product:\n",
        "    def __init__(self, price):\n",
        "        self._price = price  # Private attribute (_ ka matlab internal use)\n",
        "\n",
        "    @property\n",
        "    def price(self):         # price ko read karne ke liye\n",
        "        return self._price\n",
        "\n",
        "    @price.setter\n",
        "    def price(self, value):  # price ko update karne ke liye\n",
        "        if value >= 0:\n",
        "            self._price = value\n",
        "        else:\n",
        "            print(\"Negative price allowed nahi hai\")\n",
        "\n",
        "    @price.deleter\n",
        "    def price(self):         # price ko delete karne ke liye\n",
        "        print(\"Price delete ho gaya\")\n",
        "        del self._price\n",
        "\n",
        "p = Product(100)\n",
        "print(p.price)        # Output: 100\n",
        "\n",
        "p.price = 150         # Setter call hoga\n",
        "print(p.price)        # Output: 150\n",
        "\n",
        "del p.price           # Deleter call hoga\n",
        "\n",
        "# print(p.price)      # Ye line error degi agar uncomment ki, kyunki price delete ho chuka hai\n",
        "\n"
      ]
    },
    {
      "cell_type": "code",
      "source": [
        "\n",
        "## _price ek private variable hai (underscore ka matlab: internal use).\n",
        "## @property ne method ko attribute ki tarah bana diya: p.price likhne se method call hota hai.\n",
        "## @price.setter se p.price = value likhne par method call hota hai jo value set karta hai.\n",
        "## @price.deleter se del p.price likhne par variable delete ho jata hai.\n",
        "\n",
        "# 🔹\n",
        "## Ek class Product banani hai.\n",
        "## Usme ek private attribute _price hona chahiye.\n",
        "## @property ka use karke price ko readable banana hai.\n",
        "## @price.setter se price ko update karna.\n",
        "## @price.deleter se price ko delete karna.\n"
      ],
      "metadata": {
        "id": "rLlb4WsYnW8M"
      },
      "execution_count": null,
      "outputs": []
    }
  ]
}