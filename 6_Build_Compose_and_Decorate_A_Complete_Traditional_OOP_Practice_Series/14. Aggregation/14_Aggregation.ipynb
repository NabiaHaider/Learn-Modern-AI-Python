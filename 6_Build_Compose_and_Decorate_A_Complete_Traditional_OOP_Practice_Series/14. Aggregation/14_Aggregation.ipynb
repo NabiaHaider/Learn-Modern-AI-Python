{
  "nbformat": 4,
  "nbformat_minor": 0,
  "metadata": {
    "colab": {
      "provenance": []
    },
    "kernelspec": {
      "name": "python3",
      "display_name": "Python 3"
    },
    "language_info": {
      "name": "python"
    }
  },
  "cells": [
    {
      "cell_type": "code",
      "execution_count": 3,
      "metadata": {
        "colab": {
          "base_uri": "https://localhost:8080/"
        },
        "id": "6MlXqFoV62si",
        "outputId": "09dbfded-be66-40cc-8f2f-dfbedd5d779f"
      },
      "outputs": [
        {
          "output_type": "stream",
          "name": "stdout",
          "text": [
            "Department: HR\n",
            "Employee: Ahsan\n"
          ]
        }
      ],
      "source": [
        "# Employee class\n",
        "class Employee:\n",
        "    def __init__(self, name):\n",
        "        self.name = name  # Employee ka naam set kar rahe hain\n",
        "\n",
        "# Department class\n",
        "class Department:\n",
        "    def __init__(self, department_name, employee):\n",
        "        self.department_name = department_name  # Department ka naam\n",
        "        self.employee = employee                # Aggregation: employee ka reference rakha gaya\n",
        "\n",
        "    def show_details(self):\n",
        "        print(f\"Department: {self.department_name}\")\n",
        "        print(f\"Employee: {self.employee.name}\")  # Employee object ka data access kar rahe hain\n",
        "\n",
        "# Pehle employee ka object banate hain (independent)\n",
        "emp1 = Employee(\"Ahsan\")\n",
        "\n",
        "# Ab department ka object banate hain aur employee ka reference pass karte hain\n",
        "dept = Department(\"HR\", emp1)\n",
        "\n",
        "# Method call karke details show karte hain\n",
        "dept.show_details()\n"
      ]
    },
    {
      "cell_type": "code",
      "source": [
        "# Ek Employee class banani hai.\n",
        "# Ek Department class banani hai.\n",
        "# Department class mein Employee ka object pass karna hai (lekin Employee ka object alag se bana hoga — ye important point hai).\n",
        "\n",
        "# emp1 ek independent object hai Employee class ka.\n",
        "# Department class ka object dept banate waqt emp1 ko usme pass kiya gaya.\n",
        "# Is tarah Department ke paas Employee ka reference hai — lekin agar dept ko delete bhi kar dein to emp1 zinda rahega — ye hi hoti hai Aggregation."
      ],
      "metadata": {
        "id": "TGkbpCf98_NB"
      },
      "execution_count": null,
      "outputs": []
    }
  ]
}