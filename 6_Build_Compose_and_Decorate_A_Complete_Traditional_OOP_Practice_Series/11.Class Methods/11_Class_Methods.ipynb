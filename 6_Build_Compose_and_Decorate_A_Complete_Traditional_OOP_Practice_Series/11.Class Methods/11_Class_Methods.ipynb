{
  "nbformat": 4,
  "nbformat_minor": 0,
  "metadata": {
    "colab": {
      "provenance": []
    },
    "kernelspec": {
      "name": "python3",
      "display_name": "Python 3"
    },
    "language_info": {
      "name": "python"
    }
  },
  "cells": [
    {
      "cell_type": "code",
      "execution_count": 2,
      "metadata": {
        "colab": {
          "base_uri": "https://localhost:8080/"
        },
        "id": "5ocgL2IuntpG",
        "outputId": "1d636918-8539-4b7c-cda5-d5c68f9c144e"
      },
      "outputs": [
        {
          "output_type": "stream",
          "name": "stdout",
          "text": [
            "Total books: 2\n"
          ]
        }
      ],
      "source": [
        "class Book:\n",
        "    total_books = 0  # Class variable: sab books ke liye common hai\n",
        "\n",
        "    def __init__(self, title):\n",
        "        self.title = title  # Instance variable: har book ka apna title\n",
        "        Book.increment_book_count()  # Jab book ka object banega, total_books barh jayega\n",
        "\n",
        "    @classmethod\n",
        "    def increment_book_count(cls):  # Class method banane ke liye @classmethod decorator use hota hai\n",
        "        cls.total_books += 1        # cls ka matlab class khud hoti hai, uska variable update karte hain\n",
        "\n",
        "# Book ke objects banate hain\n",
        "book1 = Book(\"Python Basics\")\n",
        "book2 = Book(\"OOP in Python\")\n",
        "\n",
        "# Total books print karte hain\n",
        "print(\"Total books:\", Book.total_books)\n"
      ]
    },
    {
      "cell_type": "code",
      "source": [
        "## total_books ek class variable hai — sab books ke liye ek hi value hoti hai.\n",
        "## Jab bhi Book() ka object banta hai, constructor __init__() ke andar increment_book_count() call hoti hai.\n",
        "## @classmethod ke zariye method class level par kaam karti hai — cls.total_books update karti hai.\n",
        "\n"
      ],
      "metadata": {
        "id": "8E8dUOeopNUl"
      },
      "execution_count": null,
      "outputs": []
    }
  ]
}