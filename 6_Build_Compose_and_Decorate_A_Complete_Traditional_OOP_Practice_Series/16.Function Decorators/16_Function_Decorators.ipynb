{
  "nbformat": 4,
  "nbformat_minor": 0,
  "metadata": {
    "colab": {
      "provenance": []
    },
    "kernelspec": {
      "name": "python3",
      "display_name": "Python 3"
    },
    "language_info": {
      "name": "python"
    }
  },
  "cells": [
    {
      "cell_type": "code",
      "execution_count": 2,
      "metadata": {
        "colab": {
          "base_uri": "https://localhost:8080/"
        },
        "id": "Ndg5R-DccdMw",
        "outputId": "c7e57c19-759e-46f8-eae3-09752462fbc1"
      },
      "outputs": [
        {
          "output_type": "stream",
          "name": "stdout",
          "text": [
            "Function is being called\n",
            "Hello there!\n"
          ]
        }
      ],
      "source": [
        "def log_function_call(func):   # ye decorator ek function ko input leta hai\n",
        "  def wrapper():               # ye inner function define kerta hai\n",
        "    print(\"Function is being called\")  # fuction call se phely ye line print hogi\n",
        "    func()     # Original function call hoga\n",
        "  return wrapper  # wrapper ko return kerte hain\n",
        "\n",
        "# Decorator apply ker rahy hai\n",
        "@log_function_call        # ye line say_hello function ko decorate keregi\n",
        "def say_hello():\n",
        "  print(\"Hello there!\")   # Actual function ka kaam\n",
        "\n",
        "# Function call\n",
        "say_hello()\n",
        "\n",
        ""
      ]
    },
    {
      "cell_type": "code",
      "source": [
        "## log_function_call ek decorator function hai jo kisi bhi function ke behavior ko modify kar sakta hai bina us function ka code badle.\n",
        "## @log_function_call ka matlab hai ke say_hello() pe wrapper apply ho gaya.\n",
        "## Jab say_hello() call hota hai, pehle \"Function is being called\" print hota hai, phir \"Hello there!\"\n",
        "\n",
        "## Ek decorator function log_function_call banana hai.\n",
        "## Ye har baar function call hone se pehle \"Function is being called\" print kare.\n",
        "## Is decorator ko say_hello() function pe apply karna hai.\n",
        "\n"
      ],
      "metadata": {
        "id": "IZKhZsowgyPR"
      },
      "execution_count": null,
      "outputs": []
    }
  ]
}