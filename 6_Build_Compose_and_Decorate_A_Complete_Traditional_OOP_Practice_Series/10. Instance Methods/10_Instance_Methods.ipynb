{
  "nbformat": 4,
  "nbformat_minor": 0,
  "metadata": {
    "colab": {
      "provenance": []
    },
    "kernelspec": {
      "name": "python3",
      "display_name": "Python 3"
    },
    "language_info": {
      "name": "python"
    }
  },
  "cells": [
    {
      "cell_type": "code",
      "execution_count": 2,
      "metadata": {
        "colab": {
          "base_uri": "https://localhost:8080/"
        },
        "id": "02A0NSHwk65Q",
        "outputId": "90074dd8-0269-4e0a-f2a5-ca07deb75592"
      },
      "outputs": [
        {
          "output_type": "stream",
          "name": "stdout",
          "text": [
            "Tommy is barking! Woof woof!\n"
          ]
        }
      ],
      "source": [
        "class Dog:\n",
        "    def __init__(self, name, breed):  # Constructor: jab object banega to name aur breed set honge\n",
        "        self.name = name              # Instance variable: dog ka naam\n",
        "        self.breed = breed            # Instance variable: dog ki breed\n",
        "\n",
        "    def bark(self):  # Instance method\n",
        "        print(f\"{self.name} is barking! Woof woof!\")  # Dog ka naam use karke message print kar rahe hain\n",
        "\n",
        "# Object bana kar method call karte hain\n",
        "dog1 = Dog(\"Tommy\", \"German Shepherd\")  # Dog ka object banaya\n",
        "dog1.bark()  # bark() method call ki — ye dog ka naam print karegi message ke sath\n"
      ]
    },
    {
      "cell_type": "code",
      "source": [
        "# __init__() ek constructor hota hai jo object bante waqt variables set karta hai.\n",
        "# self.name aur self.breed har object ke apne variables hain — inhein instance variables kehte hain.\n",
        "# bark() ek instance method hai jo self se object ka naam use karti hai"
      ],
      "metadata": {
        "id": "t8TZ3kLPnR06"
      },
      "execution_count": null,
      "outputs": []
    }
  ]
}