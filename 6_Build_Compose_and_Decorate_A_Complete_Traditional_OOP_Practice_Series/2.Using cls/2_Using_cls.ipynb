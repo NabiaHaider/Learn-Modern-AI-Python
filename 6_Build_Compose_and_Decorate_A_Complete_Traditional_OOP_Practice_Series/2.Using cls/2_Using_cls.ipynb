{
  "nbformat": 4,
  "nbformat_minor": 0,
  "metadata": {
    "colab": {
      "provenance": []
    },
    "kernelspec": {
      "name": "python3",
      "display_name": "Python 3"
    },
    "language_info": {
      "name": "python"
    }
  },
  "cells": [
    {
      "cell_type": "code",
      "execution_count": 2,
      "metadata": {
        "colab": {
          "base_uri": "https://localhost:8080/"
        },
        "id": "VD0GdrFIzsvm",
        "outputId": "76bd9511-debf-4481-dd76-a62fc31a000a"
      },
      "outputs": [
        {
          "output_type": "stream",
          "name": "stdout",
          "text": [
            "Total objects created: 3\n"
          ]
        }
      ],
      "source": [
        "class Counter:\n",
        "    count = 0  # class variable, sab objects ke liye common\n",
        "\n",
        "    def __init__(self):\n",
        "        # jab bhi naya object banega, count barh jayega\n",
        "        Counter.count += 1\n",
        "\n",
        "    @classmethod\n",
        "    def display_count(cls):\n",
        "        print(f\"Total objects created: {cls.count}\")\n",
        "\n",
        "obj1 = Counter()\n",
        "obj2 = Counter()\n",
        "obj3 = Counter()\n",
        "\n",
        "Counter.display_count()  # Output: Total objects created: 3\n"
      ]
    },
    {
      "cell_type": "code",
      "source": [
        "## Hum ne Counter naam ki class banayi.\n",
        "## Us class me count naam ka class variable banaya, jo suru me 0 hai.\n",
        "## Jab bhi object banta hai (__init__ method), hum count ko 1 se barha dete hain.\n",
        "## @classmethod decorator lagake display_count method banaya jo cls ka use karta hai aur count ko print karta hai.\n",
        "## Jab 3 objects banaye (obj1, obj2, obj3), to count 3 ho gaya.\n",
        "## display_count() call karne par total objects ka count print ho gaya.\n",
        "\n",
        "# 🔹\n",
        "# Class variable woh hota hai jo saare objects ke liye common hota hai. Har object ka apna nahi hota, balki class ka hota hai.\n",
        "# cls ka use class method ke andar hota hai (jaise self object ke liye hota hai). cls se hum class-level variable ko access karte hain."
      ],
      "metadata": {
        "id": "ZVmjao8W1Ut4"
      },
      "execution_count": null,
      "outputs": []
    }
  ]
}