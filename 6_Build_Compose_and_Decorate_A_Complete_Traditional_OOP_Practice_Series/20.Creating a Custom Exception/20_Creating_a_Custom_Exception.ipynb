{
  "nbformat": 4,
  "nbformat_minor": 0,
  "metadata": {
    "colab": {
      "provenance": []
    },
    "kernelspec": {
      "name": "python3",
      "display_name": "Python 3"
    },
    "language_info": {
      "name": "python"
    }
  },
  "cells": [
    {
      "cell_type": "code",
      "execution_count": 3,
      "metadata": {
        "id": "xbeBzk58pm7q",
        "colab": {
          "base_uri": "https://localhost:8080/"
        },
        "outputId": "258cecc5-e33b-40ea-fe90-bb1ba5261eed"
      },
      "outputs": [
        {
          "output_type": "stream",
          "name": "stdout",
          "text": [
            "Enter your age: 20\n",
            "Age is valid. You are allowed.\n"
          ]
        }
      ],
      "source": [
        "# Custom exception\n",
        "class InvalidAgeError(Exception):\n",
        "    pass\n",
        "\n",
        "# Age check function\n",
        "def check_age(age):\n",
        "    if age < 18:\n",
        "        raise InvalidAgeError(\"Age must be at least 18.\")  # Raise custom error\n",
        "    else:\n",
        "        print(\"Age is valid. You are allowed.\")  # Valid age message\n",
        "\n",
        "try:\n",
        "    user_age = int(input(\"Enter your age: \"))  # Get user input\n",
        "    check_age(user_age)  # Call function\n",
        "except InvalidAgeError as e:\n",
        "    print(\"InvalidAgeError:\", e)  # Handle error\n"
      ]
    }
  ]
}