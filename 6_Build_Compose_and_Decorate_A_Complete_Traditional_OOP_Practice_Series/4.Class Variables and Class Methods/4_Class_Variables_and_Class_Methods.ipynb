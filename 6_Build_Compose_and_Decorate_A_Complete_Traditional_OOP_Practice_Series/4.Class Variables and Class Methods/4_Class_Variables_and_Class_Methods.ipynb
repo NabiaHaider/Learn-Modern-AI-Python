{
  "nbformat": 4,
  "nbformat_minor": 0,
  "metadata": {
    "colab": {
      "provenance": []
    },
    "kernelspec": {
      "name": "python3",
      "display_name": "Python 3"
    },
    "language_info": {
      "name": "python"
    }
  },
  "cells": [
    {
      "cell_type": "code",
      "execution_count": 7,
      "metadata": {
        "colab": {
          "base_uri": "https://localhost:8080/"
        },
        "id": "SfFXJHyf7QKF",
        "outputId": "88cdafce-4d71-4aa6-ac0d-2feebeac9b06"
      },
      "outputs": [
        {
          "output_type": "stream",
          "name": "stdout",
          "text": [
            "Old Bank\n",
            "Old Bank\n",
            "New Bank\n",
            "New Bank\n"
          ]
        }
      ],
      "source": [
        "class Bank:\n",
        "    bank_name = \"Old Bank\"  # class variable\n",
        "\n",
        "    @classmethod\n",
        "    def change_bank_name(cls, name):\n",
        "        cls.bank_name = name  # class variable ko update kar rahe hain\n",
        "\n",
        "b1 = Bank()\n",
        "b2 = Bank()\n",
        "\n",
        "print(b1.bank_name)  # Output: Old Bank\n",
        "print(b2.bank_name)  # Output: Old Bank\n",
        "\n",
        "Bank.change_bank_name(\"New Bank\")  # class method se bank ka naam badla\n",
        "\n",
        "print(b1.bank_name)  # Output: New Bank\n",
        "print(b2.bank_name)  # Output: New Bank\n"
      ]
    },
    {
      "cell_type": "code",
      "source": [
        "# 1.Bank naam ki class banayi, usme bank_name class variable rakha — sab objects ke liye ek hi naam.\n",
        "# 2.change_bank_name() naam ka class method banaya, jo cls ka use karta hai.\n",
        "# 3.Dono objects (b1, b2) jab banaye, to unka bank name \"Old Bank\" tha.\n",
        "# 4.Fir hum ne class method se naam \"New Bank\" me change kiya.\n",
        "# 5.Dono objects ka naam change ho gaya — kyun? Kyun ke ye class variable hai, sab ke liye same hota hai.\n",
        "\n",
        "\n",
        "#🔹 Class Variable aur Class Method kya hote hain?\n",
        "# Class variable: Aisi value jo saare objects ke liye common hoti hai.\n",
        "# Class method: Aisa method jo class par kaam karta hai (object par nahi), aur usme cls use hota hai.\n",
        "\n"
      ],
      "metadata": {
        "id": "YIerTHrx-5sj"
      },
      "execution_count": null,
      "outputs": []
    }
  ]
}