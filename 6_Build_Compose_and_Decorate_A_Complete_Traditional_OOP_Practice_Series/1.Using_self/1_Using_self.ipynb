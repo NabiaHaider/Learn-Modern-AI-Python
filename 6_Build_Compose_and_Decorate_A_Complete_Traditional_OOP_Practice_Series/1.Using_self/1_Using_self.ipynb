{
  "nbformat": 4,
  "nbformat_minor": 0,
  "metadata": {
    "colab": {
      "provenance": []
    },
    "kernelspec": {
      "name": "python3",
      "display_name": "Python 3"
    },
    "language_info": {
      "name": "python"
    }
  },
  "cells": [
    {
      "cell_type": "code",
      "source": [
        "class Student:\n",
        "    # Constructor banaya\n",
        "    def __init__(self, name, marks):\n",
        "        self.name = name     # object ka name set kia\n",
        "        self.marks = marks   # object ke marks set kiye\n",
        "\n",
        "    # Method banayi jo student ki detail print karegi\n",
        "    def display(self):\n",
        "        print(\"Name:\", self.name)\n",
        "        print(\"Marks:\", self.marks)\n",
        "\n",
        "# Object banaya student ka\n",
        "s1 = Student(\"Ali\", 87)\n",
        "\n",
        "# Display method call ki\n",
        "s1.display()\n"
      ],
      "metadata": {
        "colab": {
          "base_uri": "https://localhost:8080/"
        },
        "id": "LkmzFbdH2w3Z",
        "outputId": "f749009c-1cc0-46e4-fe58-986b0b11c7a2"
      },
      "execution_count": null,
      "outputs": [
        {
          "output_type": "stream",
          "name": "stdout",
          "text": [
            "Name: Ali\n",
            "Marks: 87\n"
          ]
        }
      ]
    },
    {
      "cell_type": "code",
      "source": [
        "# Class:\n",
        "# Class ek template hota hai jisme hum ek object ke features define karte hain. Jaise ke student ka naam aur uske marks.\n",
        "\n",
        "# Constructor (__init__)\n",
        "# Jab tum Student ka object banao ge, to constructor __init__() automatic chal jata hai aur values set karta hai.\n",
        "# Har object ke liye alag alag data store ho sakta hai.\n",
        "\n",
        "# self keyword\n",
        "# self ka matlab hota hai \"yeh current object\". Jab hum self.name = name likhte hain, iska matlab hai ke object\n",
        "# ke andar ek name naam ka variable set kar rahe hain."
      ],
      "metadata": {
        "id": "TyKotjsm24V3"
      },
      "execution_count": null,
      "outputs": []
    }
  ]
}