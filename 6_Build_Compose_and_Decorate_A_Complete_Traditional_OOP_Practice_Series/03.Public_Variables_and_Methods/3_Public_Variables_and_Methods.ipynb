{
  "nbformat": 4,
  "nbformat_minor": 0,
  "metadata": {
    "colab": {
      "provenance": []
    },
    "kernelspec": {
      "name": "python3",
      "display_name": "Python 3"
    },
    "language_info": {
      "name": "python"
    }
  },
  "cells": [
    {
      "cell_type": "code",
      "source": [
        "class Car:\n",
        "    def __init__(self, brand):\n",
        "        self.brand = brand  # public variable\n",
        "\n",
        "    def start(self):        # public method\n",
        "        print(f\"{self.brand} is starting...\")\n",
        "\n",
        "my_car = Car(\"Toyota\")       # object banaya\n",
        "print(my_car.brand)          # public variable access kiya\n",
        "my_car.start()               # public method call kiya\n"
      ],
      "metadata": {
        "colab": {
          "base_uri": "https://localhost:8080/"
        },
        "id": "_-KtlaRw6De9",
        "outputId": "1aa3dff0-7a94-484e-9331-786432ad987b"
      },
      "execution_count": 2,
      "outputs": [
        {
          "output_type": "stream",
          "name": "stdout",
          "text": [
            "Toyota\n",
            "Toyota is starting...\n"
          ]
        }
      ]
    },
    {
      "cell_type": "code",
      "source": [
        "# Hum ne Car naam ki class banayi.\n",
        "# Us me brand naam ka variable banaya jo public hai.\n",
        "# start() naam ka method banaya jo bhi public hai.\n",
        "# Jab object banaya (my_car = Car(\"Toyota\")), to brand me \"Toyota\" gaya.\n",
        "# Fir hum ne class ke bahar se:\n",
        "# my_car.brand likh kar variable ko access kiya.\n",
        "# my_car.start() likh kar method ko call kiya.\n",
        "\n",
        "# 🔹\n",
        "# Public variables aur methods wo hote hain jin ko class ke bahar se bhi access kiya ja sakta hai.\n",
        "# Public variable: koi bhi usay change ya read kar sakta hai class ke bahar se.\n",
        "# Public method: koi bhi function jo class ke bahar se bhi call ho sakta hai.\n",
        "\n"
      ],
      "metadata": {
        "id": "jiCw0H7X6k1E"
      },
      "execution_count": null,
      "outputs": []
    }
  ]
}