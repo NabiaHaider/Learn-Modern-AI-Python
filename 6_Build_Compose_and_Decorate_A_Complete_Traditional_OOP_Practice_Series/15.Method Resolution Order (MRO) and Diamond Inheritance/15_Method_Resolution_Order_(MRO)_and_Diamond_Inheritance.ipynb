{
  "nbformat": 4,
  "nbformat_minor": 0,
  "metadata": {
    "colab": {
      "provenance": []
    },
    "kernelspec": {
      "name": "python3",
      "display_name": "Python 3"
    },
    "language_info": {
      "name": "python"
    }
  },
  "cells": [
    {
      "cell_type": "code",
      "execution_count": 3,
      "metadata": {
        "colab": {
          "base_uri": "https://localhost:8080/"
        },
        "id": "l_rbOHfs9za3",
        "outputId": "11974e24-ecd2-4dc4-8fab-02b12c4c8d9f"
      },
      "outputs": [
        {
          "output_type": "stream",
          "name": "stdout",
          "text": [
            "Show from Class B\n",
            "(<class '__main__.D'>, <class '__main__.B'>, <class '__main__.C'>, <class '__main__.A'>, <class 'object'>)\n"
          ]
        }
      ],
      "source": [
        "class A:\n",
        "    def show(self):\n",
        "        print(\"Show from Class A\")  # Base class ka method\n",
        "\n",
        "class B(A):\n",
        "    def show(self):\n",
        "        print(\"Show from Class B\")  # B ne A ka method override kiya\n",
        "\n",
        "class C(A):\n",
        "    def show(self):\n",
        "        print(\"Show from Class C\")  # C ne bhi A ka method override kiya\n",
        "\n",
        "class D(B, C):  # Diamond Inheritance: D inherits from both B and C\n",
        "    pass        # D ke paas apna koi show() method nahi\n",
        "\n",
        "# Object banate hain class D ka\n",
        "d = D()\n",
        "d.show()  # Dekhte hain Python kis class ka show() method chalata hai\n",
        "\n",
        "# 🔁 MRO Check karne ka tariqa:\n",
        "print(D.__mro__)\n"
      ]
    },
    {
      "cell_type": "code",
      "source": [
        "# MRO yani Method Resolution Order batata hai ke jab kisi method ko call kiya jata hai to Python kis order mein parent classes ko check karta hai.\n",
        "\n",
        "# D(B, C) likhne ka matlab hai ke B pehle check hoga, phir C.\n",
        "# Is liye output aaya: \"Show from Class B\".\n",
        "# Agar C ko pehle likhte D(C, B) to output hota: \"Show from Class C\".\n"
      ],
      "metadata": {
        "id": "Zj5E8jDNa-Nv"
      },
      "execution_count": null,
      "outputs": []
    }
  ]
}