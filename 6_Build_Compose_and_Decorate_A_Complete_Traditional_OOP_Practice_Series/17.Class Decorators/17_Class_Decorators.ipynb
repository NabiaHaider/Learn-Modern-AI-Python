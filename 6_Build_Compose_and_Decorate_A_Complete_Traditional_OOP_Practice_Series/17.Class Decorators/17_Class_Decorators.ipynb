{
  "nbformat": 4,
  "nbformat_minor": 0,
  "metadata": {
    "colab": {
      "provenance": []
    },
    "kernelspec": {
      "name": "python3",
      "display_name": "Python 3"
    },
    "language_info": {
      "name": "python"
    }
  },
  "cells": [
    {
      "cell_type": "code",
      "execution_count": 2,
      "metadata": {
        "colab": {
          "base_uri": "https://localhost:8080/"
        },
        "id": "BmrOYg8KiMzP",
        "outputId": "d485fd6d-195a-456a-be1c-cd252cfbf4f3"
      },
      "outputs": [
        {
          "output_type": "stream",
          "name": "stdout",
          "text": [
            "Hello from Decorator!\n"
          ]
        }
      ],
      "source": [
        "# Class decorator banate hain\n",
        "def add_greeting(cls):          # cls ka matlab hai class jo decorate ho rahi hai\n",
        "    def greet(self):            # greet method define karte hain\n",
        "        return \"Hello from Decorator!\"  # Ye message return karega\n",
        "\n",
        "    cls.greet = greet           # greet method ko class me dynamically add karte hain\n",
        "    return cls                  # Modified class return karte hain\n",
        "\n",
        "# Decorator apply kar rahe hain\n",
        "@add_greeting\n",
        "class Person:\n",
        "    def __init__(self, name):\n",
        "        self.name = name        # Instance variable set kar rahe hain\n",
        "\n",
        "# Object banate hain\n",
        "p = Person(\"Ahsan\")\n",
        "\n",
        "# greet() method call karte hain jo decorator ne add kiya\n",
        "print(p.greet())\n"
      ]
    },
    {
      "cell_type": "code",
      "source": [
        "# Ek class decorator add_greeting banana hai.\n",
        "# Ye decorator kisi bhi class mein ek method greet() add kare jo return kare:\n",
        "# \"Hello from Decorator!\"\n",
        "# Is decorator ko Person class par apply karna hai.\n",
        "#🔹\n",
        "# add_greeting ek class decorator hai, jo greet() method ko class me baad mein add karta hai.\n",
        "# Jab @add_greeting se Person class decorate hoti hai, to greet() usme add ho jata hai.\n",
        "# Jab Person ka object p banaya gaya, to p.greet() method available tha — jo return karta hai:\n",
        "# \"Hello from Decorator!\"\n",
        "\n"
      ],
      "metadata": {
        "id": "zbIUBHP_kmPV"
      },
      "execution_count": null,
      "outputs": []
    }
  ]
}