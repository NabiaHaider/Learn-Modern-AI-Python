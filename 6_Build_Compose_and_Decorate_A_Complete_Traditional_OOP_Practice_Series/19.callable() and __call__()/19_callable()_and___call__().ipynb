{
  "nbformat": 4,
  "nbformat_minor": 0,
  "metadata": {
    "colab": {
      "provenance": []
    },
    "kernelspec": {
      "name": "python3",
      "display_name": "Python 3"
    },
    "language_info": {
      "name": "python"
    }
  },
  "cells": [
    {
      "cell_type": "code",
      "execution_count": 2,
      "metadata": {
        "colab": {
          "base_uri": "https://localhost:8080/"
        },
        "id": "tYvui07joCW7",
        "outputId": "d74cbcaf-17f2-4c7f-9665-fe5a8237666f"
      },
      "outputs": [
        {
          "output_type": "stream",
          "name": "stdout",
          "text": [
            "True\n",
            "50\n"
          ]
        }
      ],
      "source": [
        "class Multiplier:\n",
        "    def __init__(self, factor):\n",
        "        self.factor = factor  # factor set karte hain\n",
        "\n",
        "    def __call__(self, value):  # Jab object function ki tarah call ho\n",
        "        return self.factor * value\n",
        "\n",
        "m = Multiplier(5)        # Factor 5 set kiya\n",
        "print(callable(m))       # True aayega, kyunki __call__ define hai\n",
        "\n",
        "result = m(10)           # Object ko function ki tarah call kiya (10 * 5)\n",
        "print(result)            # Output: 50\n"
      ]
    },
    {
      "cell_type": "code",
      "source": [
        "# __call__() ek special method hoti hai jo object ko function ki tarah callable banati hai.\n",
        "# m = Multiplier(5) → factor = 5 set hua.\n",
        "# m(10) → object ko function ki tarah call kiya gaya, jo 10 * 5 return karta hai.\n",
        "# callable(m) → Python check karta hai ke kya m function ki tarah use ho sakta hai → True.\n",
        "\n",
        "#🔹\n",
        "# Ek class Multiplier banani hai.\n",
        "# Constructor __init__() se ek factor set karna hai.\n",
        "# __call__() method define karna hai — jab object ko function ki tarah call karein to input ko factor se multiply kare.\n",
        "# callable() se check karna hai kya object callable hai."
      ],
      "metadata": {
        "id": "BetlhJWVo7Y-"
      },
      "execution_count": null,
      "outputs": []
    }
  ]
}