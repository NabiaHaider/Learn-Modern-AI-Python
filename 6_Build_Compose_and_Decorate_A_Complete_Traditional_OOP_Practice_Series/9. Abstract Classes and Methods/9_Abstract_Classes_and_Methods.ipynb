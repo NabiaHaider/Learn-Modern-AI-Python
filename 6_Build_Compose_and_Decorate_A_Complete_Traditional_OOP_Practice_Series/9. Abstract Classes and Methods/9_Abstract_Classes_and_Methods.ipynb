{
  "nbformat": 4,
  "nbformat_minor": 0,
  "metadata": {
    "colab": {
      "provenance": []
    },
    "kernelspec": {
      "name": "python3",
      "display_name": "Python 3"
    },
    "language_info": {
      "name": "python"
    }
  },
  "cells": [
    {
      "cell_type": "code",
      "execution_count": 3,
      "metadata": {
        "colab": {
          "base_uri": "https://localhost:8080/"
        },
        "id": "Ufb81kLSfLMI",
        "outputId": "2cd0050f-818a-49fb-d2eb-4a9d0d135419"
      },
      "outputs": [
        {
          "output_type": "stream",
          "name": "stdout",
          "text": [
            "Area of Rectangle: 15\n"
          ]
        }
      ],
      "source": [
        "from abc import ABC, abstractmethod  # abc module import kar rahe hain jo abstract classes banane ke liye hota hai\n",
        "\n",
        "# Abstract class\n",
        "class Shape(ABC):  # Shape ek abstract class hai, ABC ka matlab hai Abstract Base Class\n",
        "    @abstractmethod\n",
        "    def area(self):  # area ek abstract method hai, iska matlab hai ke iski body yahan define nahi hogi\n",
        "        pass         # yahan sirf pass likha gaya hai, subclass ko ye method zaroor implement karna hoga\n",
        "\n",
        "# Rectangle class jo Shape se inherit karti hai\n",
        "class Rectangle(Shape):  # Rectangle class Shape se inherit kar rahi hai\n",
        "    def __init__(self, width, height):  # constructor banaya gaya hai jisme width aur height pass hoti hai\n",
        "        self.width = width              # width ko instance variable mein store kar rahe hain\n",
        "        self.height = height            # height ko bhi instance variable mein store kar rahe hain\n",
        "\n",
        "    def area(self):  # yahan abstract method area ka implementation diya gaya hai\n",
        "        return self.width * self.height  # rectangle ka area = width × height hota hai\n",
        "\n",
        "# Object banana aur method call karna\n",
        "rect = Rectangle(5, 3)  # Rectangle class ka object banaya, width=5 aur height=3\n",
        "print(\"Area of Rectangle:\", rect.area())  # area() method call kiya aur result print kar diya\n"
      ]
    },
    {
      "cell_type": "code",
      "source": [
        "# Shape abstract class hai (ABC se inherit ki).\n",
        "# area() abstract method hai — sirf naam hai, implementation nahi.\n",
        "# Rectangle class ne Shape ko inherit kiya aur area() method ko define kiya.\n",
        "# Rectangle ka object bana kar area() method call kiya.\n",
        "\n",
        "# abc module ka use karke ek abstract class Shape banani hai.\n",
        "# Usme ek abstract method area() define karna hai.\n",
        "# Phir ek class Rectangle banani hai jo Shape se inherit kare aur area() method implement kare.\n",
        "\n",
        "# ❓ Abstract Class Kya Hoti Hai?\n",
        "# Abstract class woh class hoti hai jiska object directly nahi ban sakta.\n",
        "# Wo sirf blueprint hoti hai — batati hai ke har subclass ko kuch specific method banane hi padenge.\n",
        "# abc module (Abstract Base Class) Python mein abstract classes aur methods define karne ke liye use hota hai."
      ],
      "metadata": {
        "id": "SSOEou7ii3XE"
      },
      "execution_count": null,
      "outputs": []
    }
  ]
}