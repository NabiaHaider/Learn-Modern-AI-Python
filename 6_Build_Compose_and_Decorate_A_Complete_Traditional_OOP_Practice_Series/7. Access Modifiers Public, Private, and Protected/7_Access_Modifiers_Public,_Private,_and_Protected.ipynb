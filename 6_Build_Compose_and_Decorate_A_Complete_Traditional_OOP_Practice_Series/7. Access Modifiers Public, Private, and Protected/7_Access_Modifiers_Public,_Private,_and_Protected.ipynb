{
  "nbformat": 4,
  "nbformat_minor": 0,
  "metadata": {
    "colab": {
      "provenance": []
    },
    "kernelspec": {
      "name": "python3",
      "display_name": "Python 3"
    },
    "language_info": {
      "name": "python"
    }
  },
  "cells": [
    {
      "cell_type": "code",
      "execution_count": 7,
      "metadata": {
        "colab": {
          "base_uri": "https://localhost:8080/"
        },
        "id": "YNq-WdnbuN1j",
        "outputId": "516c8232-19dc-4aa2-f0bd-0362c3ff86f1"
      },
      "outputs": [
        {
          "output_type": "stream",
          "name": "stdout",
          "text": [
            "Ali\n",
            "50000\n",
            "123-45-6789\n"
          ]
        }
      ],
      "source": [
        "class Employee:\n",
        "    def __init__(self, name, salary, ssn):\n",
        "        self.name = name          # Public variable\n",
        "        self._salary = salary     # Protected variable\n",
        "        self.__ssn = ssn          # Private variable\n",
        "\n",
        "emp = Employee(\"Ali\", 50000, \"123-45-6789\")\n",
        "\n",
        "# Public\n",
        "print(emp.name)       # ✅ working\n",
        "\n",
        "# Protected\n",
        "print(emp._salary)    # ⚠️ kaam karega lekin achi practice nahi\n",
        "\n",
        "# Private\n",
        "# print(emp.__ssn)      # ❌ error dega: AttributeError\n",
        "\n",
        "print(emp._Employee__ssn)  # ✅ kaam karega, lekin ye trick hai\n"
      ]
    },
    {
      "cell_type": "code",
      "source": [
        "# Python mein 3 tarah ke access modifiers hote hain:\n",
        "\n",
        "# Public – sab jagah se access ho sakta hai.\n",
        "# Protected (_underscore) – sirf class aur uski subclasses mein use karna chahiye.\n",
        "# Private (__doubleUnderscore) – sirf class ke andar access hota hai, bahar se directly access nahi hota.\n",
        "\n",
        "# 📌\n",
        "# name ko directly access kar sakte ho – ye public hai.\n",
        "# _salary bhi access hota hai – ye protected hai, lekin use karna avoid karte hain bahar se.\n",
        "# __ssn ko direct access nahi kar sakte – ye private hai, agar try karoge to error aayega.\n",
        "# Lekin ek trick hai: emp._Employee__ssn – is tarah se private variable ko bhi access kar sakte ho (not recommended for general use).\n",
        "\n",
        "# ssn: social security number\n",
        "# SSN yaani Social Security Number ek unique number hota hai jo aam tor par America (USA) mein logon ko diya jata hai. Ye number unki:\n",
        "# identity, salary records, aur government benefits, taxes."
      ],
      "metadata": {
        "id": "HSgQ_rfB3tQB"
      },
      "execution_count": null,
      "outputs": []
    }
  ]
}