{
  "nbformat": 4,
  "nbformat_minor": 0,
  "metadata": {
    "colab": {
      "provenance": []
    },
    "kernelspec": {
      "name": "python3",
      "display_name": "Python 3"
    },
    "language_info": {
      "name": "python"
    }
  },
  "cells": [
    {
      "cell_type": "code",
      "execution_count": 1,
      "metadata": {
        "id": "VHJ8omDT6Gaj",
        "colab": {
          "base_uri": "https://localhost:8080/"
        },
        "outputId": "ec4956ef-b9b1-4480-c42f-411d3674615c"
      },
      "outputs": [
        {
          "output_type": "stream",
          "name": "stdout",
          "text": [
            "Name: Ali\n",
            "Subject: Math\n"
          ]
        }
      ],
      "source": [
        "# Base class\n",
        "class Person:\n",
        "    def __init__(self, name):\n",
        "        self.name = name  # name ko constructor mein set kar rahe hain\n",
        "\n",
        "# Derived class\n",
        "class Teacher(Person):\n",
        "    def __init__(self, name, subject):\n",
        "        super().__init__(name)  # super() se base class ka constructor call\n",
        "        self.subject = subject  # subject field add ki\n",
        "\n",
        "# Object bana ke check karte hain\n",
        "t = Teacher(\"Ali\", \"Math\")\n",
        "\n",
        "print(\"Name:\", t.name)        # ✅ Base class ka attribute\n",
        "print(\"Subject:\", t.subject)  # ✅ Derived class ka attribute\n"
      ]
    },
    {
      "cell_type": "code",
      "source": [
        "# Person class mein name set hota hai jab object banate hain.\n",
        "# Teacher class Person se inherit kar rahi hai.\n",
        "# super().__init__(name) ka matlab hai ke parent class ka constructor call ho jaye.\n",
        "# Phir subject ko alag se set kiya gaya hai.\n",
        "#🔹\n",
        "# Ek base class Person banani hai jisme name constructor se set hoga.\n",
        "# Ek derived class Teacher banani hai jo Person se inherit kare.\n",
        "# Teacher class mein ek extra field subject add karo.\n",
        "# super() ka use karke base class ka constructor call karo."
      ],
      "metadata": {
        "id": "C8qjThkM89S5"
      },
      "execution_count": null,
      "outputs": []
    }
  ]
}