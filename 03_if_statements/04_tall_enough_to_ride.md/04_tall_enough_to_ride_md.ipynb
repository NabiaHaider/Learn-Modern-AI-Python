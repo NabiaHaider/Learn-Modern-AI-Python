{
  "nbformat": 4,
  "nbformat_minor": 0,
  "metadata": {
    "colab": {
      "provenance": []
    },
    "kernelspec": {
      "name": "python3",
      "display_name": "Python 3"
    },
    "language_info": {
      "name": "python"
    }
  },
  "cells": [
    {
      "cell_type": "code",
      "execution_count": 6,
      "metadata": {
        "colab": {
          "base_uri": "https://localhost:8080/"
        },
        "id": "oCjQv0dCvSvc",
        "outputId": "0a94ac4a-0cf5-4615-aa4b-3d9b4cb955b8"
      },
      "outputs": [
        {
          "output_type": "stream",
          "name": "stdout",
          "text": [
            "How tall are you?🤔 21\n",
            "Your're not tall enough to ride, but maybe next year!😔\n"
          ]
        }
      ],
      "source": [
        "MINIMUM_HEIGHT : int = 50\n",
        "\n",
        "def main():\n",
        "  height = float(input(\"How tall are you?🤔 \"))\n",
        "  if height >= MINIMUM_HEIGHT:\n",
        "    print(\"You're tall enough to ride!🎉\")\n",
        "  else:\n",
        "    print(\"Your're not tall enough to ride, but maybe next year!😔\")\n",
        "\n",
        "if __name__ == \"__main__\":\n",
        "  main()"
      ]
    }
  ]
}